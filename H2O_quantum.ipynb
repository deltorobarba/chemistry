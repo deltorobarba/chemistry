{
  "nbformat": 4,
  "nbformat_minor": 0,
  "metadata": {
    "colab": {
      "provenance": [],
      "authorship_tag": "ABX9TyOAHAr/n4O3kwLLeMQNbHtz",
      "include_colab_link": true
    },
    "kernelspec": {
      "name": "python3",
      "display_name": "Python 3"
    },
    "language_info": {
      "name": "python"
    }
  },
  "cells": [
    {
      "cell_type": "markdown",
      "metadata": {
        "id": "view-in-github",
        "colab_type": "text"
      },
      "source": [
        "<a href=\"https://colab.research.google.com/github/deltorobarba/chemistry/blob/main/H2O_quantum.ipynb\" target=\"_parent\"><img src=\"https://colab.research.google.com/assets/colab-badge.svg\" alt=\"Open In Colab\"/></a>"
      ]
    },
    {
      "cell_type": "markdown",
      "source": [
        "# **Water Molecule (H₂O) - Quantum Computing for Ground-state energy estimation**"
      ],
      "metadata": {
        "id": "VVx4DuF00Xk7"
      }
    },
    {
      "cell_type": "code",
      "source": [
        "!pip install matplotlib openfermion openfermionpyscf pennylane cirq openfermioncirq -q"
      ],
      "metadata": {
        "id": "ZZfihNQ0OvCH"
      },
      "execution_count": null,
      "outputs": []
    },
    {
      "cell_type": "markdown",
      "source": [
        "[IonQ: Ground-state energy estimation of the water molecule on a trapped ion quantum computer](https://ionq.com/links/Water_Molecule_VQE_Simulation.pdf)"
      ],
      "metadata": {
        "id": "CLBe20wlSdSA"
      }
    },
    {
      "cell_type": "markdown",
      "source": [
        "https://pennylane.ai/qml/demos/tutorial_quantum_chemistry/"
      ],
      "metadata": {
        "id": "GhhbO-1FcMEX"
      }
    },
    {
      "cell_type": "code",
      "source": [
        "# Quantum Computing for Ground-state energy estimation\n",
        "# Variational Quantum Eigensolver\n",
        "\n",
        "!pip install pennylane -q\n",
        "\n",
        "import pennylane as qml\n",
        "from pennylane import numpy as np\n",
        "\n",
        "# Define the molecular system\n",
        "symbols = ['O', 'H', 'H']\n",
        "# The coordinates should be provided in atomic units (Bohr)\n",
        "coordinates = np.array([0.0, 0.0, 0.0, 1.432, 1.107, 0.0, -1.432, 1.107, 0.0])  # Approximate atomic units\n",
        "\n",
        "# Generate the molecular Hamiltonian using PennyLane's quantum chemistry module\n",
        "H, qubits = qml.qchem.molecular_hamiltonian(\n",
        "    symbols,\n",
        "    coordinates,\n",
        "    charge=0,\n",
        "    mult=1,  # Singlet state\n",
        "    basis='sto-3g',  # Simple minimal basis set\n",
        "    active_electrons=4,  # 2 electrons from hydrogen and 2 from oxygen (for a minimal example)\n",
        "    active_orbitals=4,  # Adjust as needed for accuracy\n",
        "    mapping='jordan_wigner'  # Fermion-to-qubit mapping\n",
        ")\n",
        "\n",
        "# Define the quantum device\n",
        "dev = qml.device('default.qubit', wires=qubits)\n",
        "\n",
        "# Define the ansatz (parameterized quantum circuit)\n",
        "def ansatz(params):\n",
        "    for i in range(qubits):\n",
        "        qml.RY(params[i], wires=i)\n",
        "    for i in range(qubits - 1):\n",
        "        qml.CNOT(wires=[i, i + 1])\n",
        "\n",
        "# Define the cost function (expectation value of the Hamiltonian)\n",
        "@qml.qnode(dev)\n",
        "def cost_fn(params):\n",
        "    ansatz(params)\n",
        "    return qml.expval(H)\n",
        "\n",
        "# Perform the VQE optimization\n",
        "optimizer = qml.GradientDescentOptimizer(stepsize=0.1)\n",
        "params = np.random.randn(qubits)\n",
        "for i in range(100):\n",
        "    params = optimizer.step(cost_fn, params)\n",
        "\n",
        "# Extract the ground state energy\n",
        "ground_state_energy = cost_fn(params)\n",
        "\n",
        "print(\"Ground state energy of H2O molecule:\", ground_state_energy)"
      ],
      "metadata": {
        "colab": {
          "base_uri": "https://localhost:8080/"
        },
        "id": "HTBJ19b8Y3Tj",
        "outputId": "16e821fc-2244-4e7a-e10b-748114b99b67"
      },
      "execution_count": null,
      "outputs": [
        {
          "output_type": "stream",
          "name": "stdout",
          "text": [
            "Ground state energy of H2O molecule: -73.8199543781253\n"
          ]
        }
      ]
    },
    {
      "cell_type": "markdown",
      "source": [
        "In your quantum algorithm to compute the ground state energy of the water molecule using the Variational Quantum Eigensolver (VQE), the number of qubits required depends on the number of active orbitals and the fermion-to-qubit mapping used.\n",
        "\n",
        "**How the Number of Qubits is Determined:**\n",
        "- **Active orbitals:** In your example, you have specified `active_orbitals=4`. This means you're choosing 4 molecular orbitals to describe the electronic structure of the water molecule.\n",
        "- **Qubit mapping (Jordan-Wigner transformation):** This transformation maps each spin-orbital to one qubit. For each active orbital, there are two spin states (spin-up and spin-down), so you need \\( 2 \\times \\text{{active orbitals}} \\) qubits.\n",
        "\n",
        "Thus, for your setup:\n",
        "$\n",
        "\\text{{Number of qubits}} = 2 \\times \\text{{active orbitals}} = 2 \\times 4 = 8 \\, \\text{{qubits}}.\n",
        "$\n",
        "\n",
        "Therefore, you are using **8 qubits** in this quantum algorithm for the water molecule. This is determined by the 4 active orbitals, where each orbital has two spin states (requiring two qubits per orbital) under the Jordan-Wigner mapping."
      ],
      "metadata": {
        "id": "9oJ61QjYV2uC"
      }
    },
    {
      "cell_type": "markdown",
      "source": [
        "**Example with Cirq and OpenFermion**\n",
        "\n",
        "1. Define the water molecule's geometry\n",
        "2. Generate the molecular Hamiltonian\n",
        "3. Use Cirq for the quantum circuit simulation\n",
        "4. Run the VQE optimization to find the ground state energy\n",
        "\n",
        "\n",
        "Notes:\n",
        "* **Molecular Geometry**: The water molecule's geometry is defined in atomic units (Bohr), just as in the PennyLane example.\n",
        "* **Basis Set**: A minimal basis set `'sto-3g'` is used to reduce the number of qubits.\n",
        "* **Jordan-Wigner Transformation**: The Fermionic Hamiltonian is mapped to a qubit Hamiltonian using the Jordan-Wigner transformation (which is also available in PennyLane).\n",
        "* **Ansatz**: The `SwapNetworkTrotterAnsatz` is used in this example. You can experiment with different ansätze such as `Unitary Coupled Cluster (UCC)` or others.\n",
        "* **Optimizer**: Cirq’s `SimulatedAnnealing` optimizer is used for VQE optimization. You can change this to other optimizers based on your preference (e.g., gradient-based optimizers).\n",
        "\n",
        "\n",
        "- This code uses OpenFermion and Cirq, both of which integrate seamlessly for quantum chemistry and VQE tasks.\n",
        "- For accuracy, you might want to run this on a quantum device or an advanced simulator like Google’s `Quantum Engine` when scaling up to larger molecules.\n",
        "- The number of qubits will depend on the basis set and active space chosen (here, `sto-3g` is minimal)."
      ],
      "metadata": {
        "id": "lQXcoPStc4D5"
      }
    },
    {
      "cell_type": "code",
      "source": [
        "import cirq\n",
        "import numpy as np\n",
        "from openfermion import MolecularData\n",
        "from openfermion.transforms import jordan_wigner, get_sparse_operator\n",
        "from openfermionpyscf import run_pyscf\n",
        "from scipy.sparse.linalg import eigsh  # For finding the ground state energy\n",
        "\n",
        "# Step 1: Define the molecular system (H2O)\n",
        "geometry = [('O', (0.0, 0.0, 0.0)), ('H', (1.432, 1.107, 0.0)), ('H', (-1.432, 1.107, 0.0))]\n",
        "basis = 'sto-3g'\n",
        "multiplicity = 1\n",
        "charge = 0\n",
        "\n",
        "# Step 2: Create the MolecularData object\n",
        "molecule = MolecularData(geometry, basis, multiplicity, charge)\n",
        "\n",
        "# Step 3: Run the quantum chemistry calculation using PySCF\n",
        "molecule = run_pyscf(molecule)\n",
        "\n",
        "# Step 4: Get the qubit Hamiltonian using Jordan-Wigner transformation\n",
        "qubit_hamiltonian = jordan_wigner(molecule.get_molecular_hamiltonian())\n",
        "\n",
        "# Convert the QubitOperator to a sparse matrix\n",
        "sparse_hamiltonian = get_sparse_operator(qubit_hamiltonian)\n",
        "\n",
        "# Step 5: Get the ground state energy using scipy's sparse eigenvalue solver\n",
        "# The lowest eigenvalue corresponds to the ground state energy\n",
        "ground_state_energy, ground_state = eigsh(sparse_hamiltonian, k=1, which='SA')\n",
        "ground_state_energy = ground_state_energy[0]\n",
        "print(f\"Classical ground state energy: {ground_state_energy}\")\n",
        "\n",
        "# Step 6: Define the quantum circuit (ansatz) using Cirq\n",
        "qubits = cirq.LineQubit.range(sparse_hamiltonian.shape[0])\n",
        "\n",
        "# Define a simple ansatz for VQE\n",
        "def create_ansatz(params):\n",
        "    circuit = cirq.Circuit()\n",
        "    for i, qubit in enumerate(qubits):\n",
        "        circuit.append(cirq.rx(params[i])(qubit))\n",
        "    for i in range(len(qubits) - 1):\n",
        "        circuit.append(cirq.CNOT(qubits[i], qubits[i + 1]))\n",
        "    return circuit\n",
        "\n",
        "# Define the cost function\n",
        "def vqe_cost(params):\n",
        "    ansatz = create_ansatz(params)\n",
        "    simulator = cirq.Simulator()\n",
        "    result = simulator.simulate(ansatz)\n",
        "    energy = np.real(np.dot(result.final_state_vector.conj().T, sparse_hamiltonian @ result.final_state_vector))\n",
        "    return energy\n",
        "\n",
        "# Step 7: Perform the VQE optimization using SciPy optimizer\n",
        "from scipy.optimize import minimize\n",
        "\n",
        "# Initial parameters for the ansatz\n",
        "initial_params = np.random.randn(len(qubits))\n",
        "\n",
        "# Minimize the VQE cost function\n",
        "result = minimize(vqe_cost, initial_params, method='BFGS')\n",
        "vqe_energy = result.fun\n",
        "\n",
        "print(f\"VQE ground state energy: {vqe_energy}\")\n"
      ],
      "metadata": {
        "colab": {
          "base_uri": "https://localhost:8080/",
          "height": 378
        },
        "id": "2uOqFolIc3NK",
        "outputId": "9e963133-a4ed-45b6-91e5-4d8485da1bdf"
      },
      "execution_count": null,
      "outputs": [
        {
          "output_type": "error",
          "ename": "ImportError",
          "evalue": "cannot import name 'get_sparse_operator' from 'openfermion.transforms' (/usr/local/lib/python3.10/dist-packages/openfermion/transforms/__init__.py)",
          "traceback": [
            "\u001b[0;31m---------------------------------------------------------------------------\u001b[0m",
            "\u001b[0;31mImportError\u001b[0m                               Traceback (most recent call last)",
            "\u001b[0;32m<ipython-input-27-c8915196200f>\u001b[0m in \u001b[0;36m<cell line: 4>\u001b[0;34m()\u001b[0m\n\u001b[1;32m      2\u001b[0m \u001b[0;32mimport\u001b[0m \u001b[0mnumpy\u001b[0m \u001b[0;32mas\u001b[0m \u001b[0mnp\u001b[0m\u001b[0;34m\u001b[0m\u001b[0;34m\u001b[0m\u001b[0m\n\u001b[1;32m      3\u001b[0m \u001b[0;32mfrom\u001b[0m \u001b[0mopenfermion\u001b[0m \u001b[0;32mimport\u001b[0m \u001b[0mMolecularData\u001b[0m\u001b[0;34m\u001b[0m\u001b[0;34m\u001b[0m\u001b[0m\n\u001b[0;32m----> 4\u001b[0;31m \u001b[0;32mfrom\u001b[0m \u001b[0mopenfermion\u001b[0m\u001b[0;34m.\u001b[0m\u001b[0mtransforms\u001b[0m \u001b[0;32mimport\u001b[0m \u001b[0mjordan_wigner\u001b[0m\u001b[0;34m,\u001b[0m \u001b[0mget_sparse_operator\u001b[0m\u001b[0;34m\u001b[0m\u001b[0;34m\u001b[0m\u001b[0m\n\u001b[0m\u001b[1;32m      5\u001b[0m \u001b[0;32mfrom\u001b[0m \u001b[0mopenfermionpyscf\u001b[0m \u001b[0;32mimport\u001b[0m \u001b[0mrun_pyscf\u001b[0m\u001b[0;34m\u001b[0m\u001b[0;34m\u001b[0m\u001b[0m\n\u001b[1;32m      6\u001b[0m \u001b[0;32mfrom\u001b[0m \u001b[0mscipy\u001b[0m\u001b[0;34m.\u001b[0m\u001b[0msparse\u001b[0m\u001b[0;34m.\u001b[0m\u001b[0mlinalg\u001b[0m \u001b[0;32mimport\u001b[0m \u001b[0meigsh\u001b[0m  \u001b[0;31m# For finding the ground state energy\u001b[0m\u001b[0;34m\u001b[0m\u001b[0;34m\u001b[0m\u001b[0m\n",
            "\u001b[0;31mImportError\u001b[0m: cannot import name 'get_sparse_operator' from 'openfermion.transforms' (/usr/local/lib/python3.10/dist-packages/openfermion/transforms/__init__.py)",
            "",
            "\u001b[0;31m---------------------------------------------------------------------------\u001b[0;32m\nNOTE: If your import is failing due to a missing package, you can\nmanually install dependencies using either !pip or !apt.\n\nTo view examples of installing some common dependencies, click the\n\"Open Examples\" button below.\n\u001b[0;31m---------------------------------------------------------------------------\u001b[0m\n"
          ],
          "errorDetails": {
            "actions": [
              {
                "action": "open_url",
                "actionText": "Open Examples",
                "url": "/notebooks/snippets/importing_libraries.ipynb"
              }
            ]
          }
        }
      ]
    }
  ]
}