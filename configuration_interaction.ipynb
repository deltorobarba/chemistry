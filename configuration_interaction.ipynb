{
  "nbformat": 4,
  "nbformat_minor": 0,
  "metadata": {
    "colab": {
      "provenance": [],
      "authorship_tag": "ABX9TyMKIgsEmY5cJ1RjNnjpv8Ds",
      "include_colab_link": true
    },
    "kernelspec": {
      "name": "python3",
      "display_name": "Python 3"
    },
    "language_info": {
      "name": "python"
    }
  },
  "cells": [
    {
      "cell_type": "markdown",
      "metadata": {
        "id": "view-in-github",
        "colab_type": "text"
      },
      "source": [
        "<a href=\"https://colab.research.google.com/github/deltorobarba/astrophysics/blob/main/configuration_interaction.ipynb\" target=\"_parent\"><img src=\"https://colab.research.google.com/assets/colab-badge.svg\" alt=\"Open In Colab\"/></a>"
      ]
    },
    {
      "cell_type": "markdown",
      "source": [
        "# **Configuration Interaction (CI)**"
      ],
      "metadata": {
        "id": "P2Q8UtnzoFpK"
      }
    },
    {
      "cell_type": "markdown",
      "source": [
        "[Configuration interaction (CI)](https://en.m.wikipedia.org/wiki/Configuration_interaction) is a is a post-Hartree-Fock linear variational method used in quantum chemistry to account for electron correlation. The simplest form is CISD (Configuration Interaction with Single and Double excitations).\n",
        "\n",
        "Configuration interaction is used for solving the nonrelativistic Schrödinger equation within the Born–Oppenheimer approximation for a quantum chemical multi-electron system. Mathematically, **configuration simply describes the linear combination of Slater determinants used for the wave function.**\n",
        "\n",
        "In terms of a specification of orbital occupation (for instance,\n",
        "$\\left.(1 \\mathrm{~s})^{2}(2 \\mathrm{~s})^{2}(2 \\mathrm{p})^{1} \\ldots\\right)$, interaction means the mixing (interaction) of\n",
        "different electronic configurations (states).\n",
        "\n",
        "* Due to the long\n",
        "$\\mathrm{CPU}$ time and large memory required for $\\mathrm{Cl}$ calculations, the\n",
        "method is limited to relatively small systems.\n",
        "\n",
        "* In contrast to the Hartree-Fock method, in order to account for\n",
        "electron correlation, $\\mathrm{Cl}$ **uses a variational wave function that is\n",
        "a linear combination of configuration state functions (CSFs)\n",
        "built from spin orbitals (denoted by the superscript SO)**,\n",
        "\n",
        "> $\\Psi=\\sum_{I=0} c_{I} \\Phi_{I}^{S O}=c_{0} \\Phi_{0}^{S O}+c_{1} \\Phi_{1}^{S O}+\\ldots$\n",
        "\n",
        "* where $\\Psi$ is usually the electronic ground state of the system.\n",
        "\n",
        "* If\n",
        "the expansion includes all possible CSFs of the appropriate\n",
        "symmetry, then this is a full configuration interaction"
      ],
      "metadata": {
        "id": "zZfWrEYtOuNv"
      }
    },
    {
      "cell_type": "markdown",
      "source": [
        "**Calculate Configuration Interaction a small molecule like H₂:**"
      ],
      "metadata": {
        "id": "BGsnM45COv01"
      }
    },
    {
      "cell_type": "code",
      "execution_count": null,
      "metadata": {
        "id": "GV0qWneAnneB"
      },
      "outputs": [],
      "source": [
        "!pip install pyscf -q"
      ]
    },
    {
      "cell_type": "code",
      "source": [
        "!pip install pyscf -q\n",
        "from pyscf import gto, scf, ci\n",
        "\n",
        "# Step 1: Define the molecule\n",
        "# H2 molecule with a bond length of 0.74 angstroms\n",
        "mol = gto.M(\n",
        "    atom = 'H 0 0 0; H 0 0 0.74',  # Specify the atomic coordinates\n",
        "    basis = 'sto-3g',               # Choose a basis set\n",
        "    symmetry = True\n",
        ")\n",
        "\n",
        "# Step 2: Perform Hartree-Fock (SCF) calculation\n",
        "mf = scf.RHF(mol)  # Restricted Hartree-Fock for a closed-shell system\n",
        "mf.kernel()        # Compute the SCF solution\n",
        "\n",
        "# Step 3: Configuration Interaction calculation (CISD)\n",
        "myci = ci.CISD(mf)\n",
        "myci.kernel()  # Perform the CISD calculation\n",
        "\n",
        "# Print the CISD total energy\n",
        "print(f'CISD total energy: {myci.e_tot:.6f} Ha')\n",
        "\n",
        "# Step 4: Analyze results (Optional)\n",
        "# You can also print out more details, like the CI coefficients or excitation amplitudes\n",
        "print(\"\\nCISD coefficients:\")\n",
        "print(myci.ci)\n",
        "\n",
        "# Final Output of Total Energy and Coefficients"
      ],
      "metadata": {
        "colab": {
          "base_uri": "https://localhost:8080/"
        },
        "id": "uWhAkvtYnxXI",
        "outputId": "bf69b0c8-8fdb-4360-ad6d-f47d094b12e1"
      },
      "execution_count": 1,
      "outputs": [
        {
          "output_type": "stream",
          "name": "stdout",
          "text": [
            "\u001b[2K   \u001b[90m━━━━━━━━━━━━━━━━━━━━━━━━━━━━━━━━━━━━━━━━\u001b[0m \u001b[32m48.6/48.6 MB\u001b[0m \u001b[31m9.3 MB/s\u001b[0m eta \u001b[36m0:00:00\u001b[0m\n",
            "\u001b[?25hconverged SCF energy = -1.11675930739643\n",
            "E(RCISD) = -1.137283834488502  E_corr = -0.02052452709207653\n",
            "CISD total energy: -1.137284 Ha\n",
            "\n",
            "CISD coefficients:\n",
            "[-9.93646755e-01  1.20053582e-16  1.12543887e-01]\n"
          ]
        }
      ]
    },
    {
      "cell_type": "markdown",
      "source": [
        "1. Molecule Definition: This defines an H₂ molecule with a bond length of 0.74 Å and uses the STO-3G basis set.\n",
        "2. SCF Calculation: The Hartree-Fock method is used to get the mean-field solution.\n",
        "3. CISD Calculation: The CISD method is applied on top of the SCF results to capture electron correlation.\n",
        "4. Results Analysis: Outputs the CISD total energy and the CI coefficients."
      ],
      "metadata": {
        "id": "ZAgP1VDGojFS"
      }
    },
    {
      "cell_type": "markdown",
      "source": [
        "*Code is adaptable this for larger molecules or different basis sets, or to explore more advanced CI methods like CCSD (Coupled Cluster with Single and Double excitations)*"
      ],
      "metadata": {
        "id": "4oMbv7j1oYsX"
      }
    },
    {
      "cell_type": "code",
      "source": [
        "import matplotlib.pyplot as plt\n",
        "\n",
        "# Collect the energies\n",
        "hf_energy = mf.e_tot  # Hartree-Fock energy\n",
        "cisd_energy = myci.e_tot  # CISD total energy\n",
        "\n",
        "# Step 1: Plot the energies\n",
        "energies = [hf_energy, cisd_energy]\n",
        "labels = ['Hartree-Fock', 'CISD']\n",
        "\n",
        "plt.figure(figsize=(6, 4))\n",
        "plt.bar(labels, energies, color=['blue', 'green'])\n",
        "plt.ylabel('Total Energy (Ha)')\n",
        "plt.title('Hartree-Fock vs CISD Total Energy')\n",
        "plt.show()\n"
      ],
      "metadata": {
        "colab": {
          "base_uri": "https://localhost:8080/",
          "height": 391
        },
        "id": "71cbBqpao82Z",
        "outputId": "1921b8bc-3c61-48ec-f9df-700bd9842ba4"
      },
      "execution_count": 2,
      "outputs": [
        {
          "output_type": "display_data",
          "data": {
            "text/plain": [
              "<Figure size 600x400 with 1 Axes>"
            ],
            "image/png": "[encoded data removed]"
          },
          "metadata": {}
        }
      ]
    },
    {
      "cell_type": "code",
      "source": [
        "# Visualizing the Molecular Orbitals\n",
        "\n",
        "# Import the tools for plotting orbitals\n",
        "from pyscf.tools import molden\n",
        "\n",
        "# Create a .molden file to visualize molecular orbitals using external viewers like Jmol or Molden\n",
        "with open('h2_molecular_orbitals.molden', 'w') as f:\n",
        "    molden.header(mol, f) # Write molecular header\n",
        "    molden.orbital_coeff(mol, f, mf.mo_coeff)  # Write the molecular orbitals\n",
        "\n",
        "print(\"Molecular orbitals saved to 'h2_molecular_orbitals.molden'. You can view it using a tool like Jmol or Molden.\")"
      ],
      "metadata": {
        "colab": {
          "base_uri": "https://localhost:8080/"
        },
        "id": "58bNJJTjpA2I",
        "outputId": "7a067514-b631-4db0-9d1d-2dd0cffd0f56"
      },
      "execution_count": 3,
      "outputs": [
        {
          "output_type": "stream",
          "name": "stdout",
          "text": [
            "Molecular orbitals saved to 'h2_molecular_orbitals.molden'. You can view it using a tool like Jmol or Molden.\n"
          ]
        }
      ]
    },
    {
      "cell_type": "markdown",
      "source": [
        "**Visualizing the molecular orbitals**\n",
        "\n",
        "* Take file called h2_molecular_orbitals.molden\n",
        "* Install a Molecular Viewer by installing Molden from Molden’s official website (alternatively Jmol or Avogadro)\n",
        "* Open Molden and load h2_molecular_orbitals.molden file.\n",
        "* Result: 3D view of H₂ molecule with options to view the orbitals."
      ],
      "metadata": {
        "id": "STEAAkhKNtVz"
      }
    }
  ]
}