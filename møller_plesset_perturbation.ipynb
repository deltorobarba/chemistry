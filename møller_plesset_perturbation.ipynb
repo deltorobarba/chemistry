{
  "nbformat": 4,
  "nbformat_minor": 0,
  "metadata": {
    "colab": {
      "provenance": [],
      "authorship_tag": "ABX9TyPf1kXrFkxhuwwnscL/r/8T",
      "include_colab_link": true
    },
    "kernelspec": {
      "name": "python3",
      "display_name": "Python 3"
    },
    "language_info": {
      "name": "python"
    }
  },
  "cells": [
    {
      "cell_type": "markdown",
      "metadata": {
        "id": "view-in-github",
        "colab_type": "text"
      },
      "source": [
        "<a href=\"https://colab.research.google.com/github/deltorobarba/chemistry/blob/main/m%C3%B8ller_plesset_perturbation.ipynb\" target=\"_parent\"><img src=\"https://colab.research.google.com/assets/colab-badge.svg\" alt=\"Open In Colab\"/></a>"
      ]
    },
    {
      "cell_type": "markdown",
      "source": [
        "# **Møller-Plesset Perturbation Theory (MPn)**"
      ],
      "metadata": {
        "id": "JUpVvA2DOU2M"
      }
    },
    {
      "cell_type": "markdown",
      "source": [
        "* post-hartree-fock method\n",
        "* MP2 (second-order perturbation theory) is the most common, which includes electron correlation corrections beyond HF.\n",
        "* MP2 is widely used for single point calculations because it provides a good balance between accuracy and computational cost."
      ],
      "metadata": {
        "id": "4PXBBLqnOr2Z"
      }
    },
    {
      "cell_type": "code",
      "execution_count": 1,
      "metadata": {
        "colab": {
          "base_uri": "https://localhost:8080/"
        },
        "id": "0J_OkX5WOUkk",
        "outputId": "24892ffc-b34a-4850-e507-e5b0a39f49f9"
      },
      "outputs": [
        {
          "output_type": "stream",
          "name": "stdout",
          "text": [
            "\u001b[2K   \u001b[90m━━━━━━━━━━━━━━━━━━━━━━━━━━━━━━━━━━━━━━━━\u001b[0m \u001b[32m48.7/48.7 MB\u001b[0m \u001b[31m13.3 MB/s\u001b[0m eta \u001b[36m0:00:00\u001b[0m\n",
            "\u001b[?25hconverged SCF energy = -76.022869055188\n",
            "E(MP2) = -76.2231174828669  E_corr = -0.20024842767883\n",
            "E(SCS-MP2) = -76.2190665309969  E_corr = -0.196197475808883\n",
            "MP2 energy: -0.20024842767883044 Hartree\n"
          ]
        }
      ],
      "source": [
        "!pip install pyscf -q\n",
        "\n",
        "from pyscf import gto, scf, mp\n",
        "\n",
        "mol = gto.M(\n",
        "    atom = '''\n",
        "        O  0.0000000   0.0000000   0.0000000\n",
        "        H  0.7586022   0.0000000   0.5042847\n",
        "        H -0.7586022   0.0000000   0.5042847\n",
        "    ''',\n",
        "    basis = 'cc-pvdz',\n",
        ")\n",
        "mf = scf.RHF(mol)\n",
        "mf.kernel()\n",
        "\n",
        "# MP2 single point energy calculation\n",
        "mp2 = mp.MP2(mf)\n",
        "energy_mp2 = mp2.kernel()\n",
        "print(f\"MP2 energy: {energy_mp2[0]} Hartree\")"
      ]
    }
  ]
}