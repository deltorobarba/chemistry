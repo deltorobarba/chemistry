{
  "nbformat": 4,
  "nbformat_minor": 0,
  "metadata": {
    "colab": {
      "provenance": [],
      "authorship_tag": "ABX9TyOWhDgTTjKb6qgKsdLL018D",
      "include_colab_link": true
    },
    "kernelspec": {
      "name": "python3",
      "display_name": "Python 3"
    },
    "language_info": {
      "name": "python"
    }
  },
  "cells": [
    {
      "cell_type": "markdown",
      "metadata": {
        "id": "view-in-github",
        "colab_type": "text"
      },
      "source": [
        "<a href=\"https://colab.research.google.com/github/deltorobarba/chemistry/blob/main/hydrogen_H2.ipynb\" target=\"_parent\"><img src=\"https://colab.research.google.com/assets/colab-badge.svg\" alt=\"Open In Colab\"/></a>"
      ]
    },
    {
      "cell_type": "markdown",
      "source": [
        "# **Hydrogen Molecule (H₂)**"
      ],
      "metadata": {
        "id": "bSdSnms1zJGc"
      }
    },
    {
      "cell_type": "code",
      "source": [
        "!pip install pyscf matplotlib geometric openfermion openfermionpyscf -q"
      ],
      "metadata": {
        "id": "PvzSOEgFX3Rh"
      },
      "execution_count": null,
      "outputs": []
    },
    {
      "cell_type": "code",
      "source": [
        "# Define hydrogen (H2) molecule\n",
        "from pyscf import gto\n",
        "mol = gto.Mole()\n",
        "mol.atom = '''\n",
        "    H  0.00 0.00  0.00\n",
        "    H  0.00 0.00  0.74\n",
        "'''"
      ],
      "metadata": {
        "id": "64xtdwNcX4-Y"
      },
      "execution_count": 2,
      "outputs": []
    },
    {
      "cell_type": "markdown",
      "source": [
        "**Hartree-Fock SCF (Slater Determinant-based Hartree-Fock Hamiltonian)**"
      ],
      "metadata": {
        "id": "TviIlQ3vX0ro"
      }
    },
    {
      "cell_type": "code",
      "source": [
        "# First, ensure you have the PySCF package installed\n",
        "from pyscf import gto, scf\n",
        "import matplotlib.pyplot as plt\n",
        "\n",
        "# Step 1: Define the molecule using gto.M() function\n",
        "mol = gto.M(\n",
        "    atom = mol.atom,\n",
        "    basis = 'cc-pvdz',  # Use a common basis set, good balance between accuracy and computational cost\n",
        ")\n",
        "\n",
        "# Step 2: Perform a HF-SCF calculation using Restricted Hartree-Fock (RHF) method\n",
        "\n",
        "# scf.RHF for a restricted Hartree-Fock calculation for a closed-shell system (H₂O)\n",
        "mf = scf.RHF(mol)\n",
        "\n",
        "# Store convergence data\n",
        "conv_data = []\n",
        "\n",
        "# Callback function to collect convergence information\n",
        "# (callback function captures energy values at each iteration to track the convergence process)\n",
        "def callback(envs):\n",
        "    conv_data.append(envs['e_tot'])\n",
        "\n",
        "# Set the callback directly on the mf object\n",
        "mf.callback = callback\n",
        "\n",
        "# Perform HF calculation\n",
        "energy = mf.kernel()\n",
        "\n",
        "# Extract energy values and iteration numbers\n",
        "energies = conv_data\n",
        "iterations = range(1, len(energies) + 1)\n",
        "\n",
        "# Plot the convergence\n",
        "plt.plot(iterations, energies, marker='o')\n",
        "plt.xlabel('Iteration')\n",
        "plt.ylabel('Total Energy (Hartree)')\n",
        "plt.title('HF-SCF Convergence')\n",
        "plt.grid(True)\n",
        "plt.show()\n",
        "\n",
        "print(f\"HF-SCF energy for H2O: {energy} Hartree\")"
      ],
      "metadata": {
        "id": "3Ka2Hq73Xynu",
        "outputId": "83f1a325-7f48-4751-a33d-5ef0c4d17a3c",
        "colab": {
          "base_uri": "https://localhost:8080/",
          "height": 506
        }
      },
      "execution_count": 3,
      "outputs": [
        {
          "output_type": "stream",
          "name": "stdout",
          "text": [
            "converged SCF energy = -1.12870009355644\n"
          ]
        },
        {
          "output_type": "display_data",
          "data": {
            "text/plain": [
              "<Figure size 640x480 with 1 Axes>"
            ],
            "image/png": "[encoded data removed]"
          },
          "metadata": {}
        },
        {
          "output_type": "stream",
          "name": "stdout",
          "text": [
            "HF-SCF energy for H2O: -1.1287000935564415 Hartree\n"
          ]
        }
      ]
    },
    {
      "cell_type": "markdown",
      "source": [
        "Potentially calculate and dispaly slater determinants"
      ],
      "metadata": {
        "id": "Me57U_knYWi5"
      }
    },
    {
      "cell_type": "code",
      "source": [
        "import numpy as np\n",
        "import matplotlib.pyplot as plt\n",
        "from mpl_toolkits.mplot3d import Axes3D\n",
        "\n",
        "# Define a mock wavefunction for two electrons between two atoms\n",
        "def wavefunction(e1, e2):\n",
        "    # This is just a fictional wavefunction for illustration\n",
        "    return np.sin(e1) * np.cos(e2) - np.cos(e1) * np.sin(e2)\n",
        "\n",
        "# Create a grid of electron positions\n",
        "e1_vals = np.linspace(-np.pi, np.pi, 100)  # Position of electron 1\n",
        "e2_vals = np.linspace(-np.pi, np.pi, 100)  # Position of electron 2\n",
        "E1, E2 = np.meshgrid(e1_vals, e2_vals)\n",
        "\n",
        "# Calculate wavefunction values over the grid\n",
        "W = wavefunction(E1, E2)\n",
        "\n",
        "# Plot the wavefunction as a 3D surface\n",
        "fig = plt.figure()\n",
        "ax = fig.add_subplot(111, projection='3d')\n",
        "\n",
        "# Plotting the surface\n",
        "ax.plot_surface(E1, E2, W, cmap='coolwarm')\n",
        "\n",
        "# Labels\n",
        "ax.set_title('Slater Determinant (Wavefunction)')\n",
        "ax.set_xlabel('Electron 1')\n",
        "ax.set_ylabel('Electron 2')\n",
        "ax.set_zlabel('Value of Wavefunction')\n",
        "\n",
        "# Show the plot\n",
        "plt.show()"
      ],
      "metadata": {
        "id": "tLxNuEHbYWEi"
      },
      "execution_count": null,
      "outputs": []
    },
    {
      "cell_type": "markdown",
      "source": [
        "**Configuration Interaction (CI)**\n"
      ],
      "metadata": {
        "id": "mOPxniPeYMpx"
      }
    },
    {
      "cell_type": "markdown",
      "source": [
        "\n",
        "* **Full CI (FCI)** provides an exact solution to the Schrödinger equation within a given basis set but is computationally prohibitive for large systems.\n",
        "* **CI with Single and Double excitations (CISD)**: A truncated version of FCI that is more computationally feasible but less accurate than CCSD.\n",
        "\n",
        "\n",
        "[Configuration interaction (CI)](https://en.m.wikipedia.org/wiki/Configuration_interaction) is a is a post-Hartree-Fock linear variational method used in quantum chemistry to account for electron correlation. The simplest form is CISD (Configuration Interaction with Single and Double excitations).\n",
        "\n",
        "Configuration interaction is used for solving the nonrelativistic Schrödinger equation within the Born–Oppenheimer approximation for a quantum chemical multi-electron system. Mathematically, **configuration simply describes the linear combination of Slater determinants used for the wave function.**\n",
        "\n",
        "In terms of a specification of orbital occupation (for instance,\n",
        "$\\left.(1 \\mathrm{~s})^{2}(2 \\mathrm{~s})^{2}(2 \\mathrm{p})^{1} \\ldots\\right)$, interaction means the mixing (interaction) of\n",
        "different electronic configurations (states).\n",
        "\n",
        "* Due to the long\n",
        "$\\mathrm{CPU}$ time and large memory required for $\\mathrm{Cl}$ calculations, the\n",
        "method is limited to relatively small systems.\n",
        "\n",
        "* In contrast to the Hartree-Fock method, in order to account for\n",
        "electron correlation, $\\mathrm{Cl}$ **uses a variational wave function that is\n",
        "a linear combination of configuration state functions (CSFs)\n",
        "built from spin orbitals (denoted by the superscript SO)**,\n",
        "\n",
        "> $\\Psi=\\sum_{I=0} c_{I} \\Phi_{I}^{S O}=c_{0} \\Phi_{0}^{S O}+c_{1} \\Phi_{1}^{S O}+\\ldots$\n",
        "\n",
        "* where $\\Psi$ is usually the electronic ground state of the system.\n",
        "\n",
        "* If expansion includes all possible CSFs of the appropriate\n",
        "symmetry, then this is a full configuration interaction"
      ],
      "metadata": {
        "id": "IDY9kxyq128M"
      }
    },
    {
      "cell_type": "code",
      "source": [
        "!pip install pyscf -q\n",
        "from pyscf import gto, scf, ci\n",
        "\n",
        "# Step 1: Define the molecule\n",
        "# H2 molecule with a bond length of 0.74 angstroms\n",
        "mol = gto.M(\n",
        "    atom = 'H 0 0 0; H 0 0 0.74',  # Specify the atomic coordinates\n",
        "    basis = 'sto-3g',               # Choose a basis set\n",
        "    symmetry = True\n",
        ")\n",
        "\n",
        "# Step 2: Perform Hartree-Fock (SCF) calculation\n",
        "mf = scf.RHF(mol)  # Restricted Hartree-Fock for a closed-shell system\n",
        "mf.kernel()        # Compute the SCF solution\n",
        "\n",
        "# Step 3: Configuration Interaction calculation (CISD)\n",
        "myci = ci.CISD(mf)\n",
        "myci.kernel()  # Perform the CISD calculation\n",
        "\n",
        "# Print the CISD total energy\n",
        "print(f'CISD total energy: {myci.e_tot:.6f} Ha')\n",
        "\n",
        "# Step 4: Analyze results (Optional)\n",
        "# You can also print out more details, like the CI coefficients or excitation amplitudes\n",
        "print(\"\\nCISD coefficients:\")\n",
        "print(myci.ci)\n",
        "\n",
        "# Final Output of Total Energy and Coefficients"
      ],
      "metadata": {
        "colab": {
          "base_uri": "https://localhost:8080/"
        },
        "id": "qYJVSIJh16mt",
        "outputId": "92b8f455-65c4-4f4e-9c69-730e7c95c836"
      },
      "execution_count": null,
      "outputs": [
        {
          "output_type": "stream",
          "name": "stdout",
          "text": [
            "converged SCF energy = -1.11675930739643\n",
            "E(RCISD) = -1.137283834488502  E_corr = -0.02052452709207653\n",
            "CISD total energy: -1.137284 Ha\n",
            "\n",
            "CISD coefficients:\n",
            "[-9.93646755e-01  1.20053582e-16  1.12543887e-01]\n"
          ]
        }
      ]
    },
    {
      "cell_type": "code",
      "source": [
        "import matplotlib.pyplot as plt\n",
        "\n",
        "# Collect the energies\n",
        "hf_energy = mf.e_tot  # Hartree-Fock energy\n",
        "cisd_energy = myci.e_tot  # CISD total energy\n",
        "\n",
        "# Step 1: Plot the energies\n",
        "energies = [hf_energy, cisd_energy]\n",
        "labels = ['Hartree-Fock', 'CISD']\n",
        "\n",
        "plt.figure(figsize=(6, 4))\n",
        "plt.bar(labels, energies, color=['blue', 'green'])\n",
        "plt.ylabel('Total Energy (Ha)')\n",
        "plt.title('Hartree-Fock vs CISD Total Energy')\n",
        "plt.show()"
      ],
      "metadata": {
        "colab": {
          "base_uri": "https://localhost:8080/",
          "height": 391
        },
        "id": "Ba0yXP_m2LUl",
        "outputId": "ae4fb201-438b-4018-c1c0-53634329736d"
      },
      "execution_count": null,
      "outputs": [
        {
          "output_type": "display_data",
          "data": {
            "text/plain": [
              "<Figure size 600x400 with 1 Axes>"
            ],
            "image/png": "[encoded data removed]"
          },
          "metadata": {}
        }
      ]
    },
    {
      "cell_type": "markdown",
      "source": [
        "**Molecular Geometry**\n",
        "\n",
        "* Take file called h2_molecular_orbitals.molden\n",
        "* Install a Molecular Viewer by installing Molden from Molden’s official website (alternatively Jmol or Avogadro)\n",
        "* Open Molden and load h2_molecular_orbitals.molden file.\n",
        "* Result: 3D view of H₂ molecule with options to view the orbitals."
      ],
      "metadata": {
        "id": "g2Bk9DIe2U_7"
      }
    },
    {
      "cell_type": "code",
      "source": [
        "# Visualizing the Molecular Orbitals\n",
        "\n",
        "# Import the tools for plotting orbitals\n",
        "from pyscf.tools import molden\n",
        "\n",
        "# Create a .molden file to visualize molecular orbitals using external viewers like Jmol or Molden\n",
        "with open('h2_molecular_orbitals.molden', 'w') as f:\n",
        "    molden.header(mol, f) # Write molecular header\n",
        "    molden.orbital_coeff(mol, f, mf.mo_coeff)  # Write the molecular orbitals\n",
        "\n",
        "print(\"Molecular orbitals saved to 'h2_molecular_orbitals.molden'. You can view it using a tool like Jmol or Molden.\")"
      ],
      "metadata": {
        "id": "rRpTpKAU2Sl5"
      },
      "execution_count": null,
      "outputs": []
    },
    {
      "cell_type": "markdown",
      "source": [
        "**Variational Quantum Eigensolve (VQE) for Ground State Calculation**"
      ],
      "metadata": {
        "id": "zX74gpj0zSeU"
      }
    },
    {
      "cell_type": "code",
      "execution_count": null,
      "metadata": {
        "colab": {
          "base_uri": "https://localhost:8080/"
        },
        "id": "fsvpbKoxzERi",
        "outputId": "3d8948a9-0230-4247-ccce-7d04142cbf9e"
      },
      "outputs": [
        {
          "output_type": "stream",
          "name": "stdout",
          "text": [
            "\u001b[2K   \u001b[90m━━━━━━━━━━━━━━━━━━━━━━━━━━━━━━━━━━━━━━━━\u001b[0m \u001b[32m1.9/1.9 MB\u001b[0m \u001b[31m9.0 MB/s\u001b[0m eta \u001b[36m0:00:00\u001b[0m\n",
            "\u001b[2K   \u001b[90m━━━━━━━━━━━━━━━━━━━━━━━━━━━━━━━━━━━━━━━━\u001b[0m \u001b[32m51.0/51.0 kB\u001b[0m \u001b[31m978.2 kB/s\u001b[0m eta \u001b[36m0:00:00\u001b[0m\n",
            "\u001b[2K   \u001b[90m━━━━━━━━━━━━━━━━━━━━━━━━━━━━━━━━━━━━━━━━\u001b[0m \u001b[32m15.3/15.3 MB\u001b[0m \u001b[31m30.3 MB/s\u001b[0m eta \u001b[36m0:00:00\u001b[0m\n",
            "\u001b[2K   \u001b[90m━━━━━━━━━━━━━━━━━━━━━━━━━━━━━━━━━━━━━━━━\u001b[0m \u001b[32m2.0/2.0 MB\u001b[0m \u001b[31m28.8 MB/s\u001b[0m eta \u001b[36m0:00:00\u001b[0m\n",
            "\u001b[?25hGround state energy: -0.868784928020456\n"
          ]
        }
      ],
      "source": [
        "!pip install pennylane -q\n",
        "\n",
        "import pennylane as qml\n",
        "from pennylane import numpy as np\n",
        "\n",
        "# Define the molecular system\n",
        "symbols = ['H', 'H']\n",
        "coordinates = np.array([0.0, 0.0, 0.0, 0.0, 0.0, 0.7414])  # Atomic units\n",
        "\n",
        "# Generate the molecular Hamiltonian directly in PennyLane\n",
        "H, qubits = qml.qchem.molecular_hamiltonian(\n",
        "    symbols,\n",
        "    coordinates,\n",
        "    charge=0,\n",
        "    mult=1,  # Singlet state\n",
        "    basis='sto-3g',\n",
        "    active_electrons=2,\n",
        "    active_orbitals=2,\n",
        "    mapping='jordan_wigner'\n",
        ")\n",
        "\n",
        "# Define the quantum device\n",
        "dev = qml.device('default.qubit', wires=qubits)\n",
        "\n",
        "# Define the ansatz (parameterized quantum circuit)\n",
        "def ansatz(params):\n",
        "    for i in range(qubits):\n",
        "        qml.RY(params[i], wires=i)\n",
        "    qml.CNOT(wires=[0, 1])\n",
        "\n",
        "# Define the cost function (expectation value of the Hamiltonian)\n",
        "@qml.qnode(dev)\n",
        "def cost_fn(params):\n",
        "    ansatz(params)\n",
        "    return qml.expval(H)\n",
        "\n",
        "# Perform the VQE optimization\n",
        "optimizer = qml.GradientDescentOptimizer(stepsize=0.1)\n",
        "params = np.random.randn(qubits)\n",
        "for i in range(100):\n",
        "    params = optimizer.step(cost_fn, params)\n",
        "\n",
        "# Extract the ground state energy\n",
        "ground_state_energy = cost_fn(params)\n",
        "\n",
        "# Compute excited state energies (modify the ansatz and cost function accordingly)\n",
        "# ...\n",
        "\n",
        "print(\"Ground state energy:\", ground_state_energy)"
      ]
    },
    {
      "cell_type": "markdown",
      "source": [
        "**Approach**\n",
        "1. Molecular System Definition: Specify the atomic symbols and coordinates (in atomic units) for H₂\n",
        "2. Hamiltonian Generation with PennyLane qml.qchem.molecular_hamiltonian to directly generate the qubit Hamiltonian. Specify charge, multiplicity, basis set, active electrons and orbitals, and fermion-to-qubit mapping.\n",
        "3. Quantum Device, Ansatz, and Cost Function used H generated by PennyLane directly in cost function.\n",
        "4. VQE Optimization to find the ground state energy.\n",
        "5. Adapt the ansatz and cost function to target excited states\n",
        "\n",
        "**Outlook**\n",
        "\n",
        "* active_electrons and active_orbitals parameters control the size of active space, which can impact the accuracy and computational cost. Choosen based on system and desired accuracy.\n",
        "* Excited state calculation: modify ansatz and cost function appropriately to target specific excited states. Techniques like subspace search or symmetry constraints might be needed.\n",
        "* Extend  to more complex molecules by changing the molecular geometry and basis set\n",
        "* Use more advanced ansätze like Unitary Coupled Cluster (UCC) for more accurate results"
      ],
      "metadata": {
        "id": "Kr47Rxqwzdbv"
      }
    },
    {
      "cell_type": "markdown",
      "source": [
        "**Restricted Hartree-Fock (RHF)**"
      ],
      "metadata": {
        "id": "nbkyXujEz71d"
      }
    },
    {
      "cell_type": "code",
      "source": [
        "!pip install pyscf -q\n",
        "from pyscf import gto, scf, tddft\n",
        "\n",
        "# Define the molecular system\n",
        "mol = gto.M(\n",
        "    atom = 'H 0 0 0; H 0 0 0.74',  # Hydrogen molecule\n",
        "    basis = '6-31g',\n",
        "    verbose = 4,\n",
        ")\n",
        "\n",
        "# Perform a ground-state calculation\n",
        "myhf = scf.RHF(mol).run()\n",
        "\n",
        "# Excited-state calculation using TDDFT\n",
        "mytd = tddft.TDA(myhf).run()\n",
        "mytd.analyze()"
      ],
      "metadata": {
        "colab": {
          "base_uri": "https://localhost:8080/"
        },
        "id": "wxKOysTVz-Lx",
        "outputId": "c546c330-7c48-4266-c6b3-3cfb86213104"
      },
      "execution_count": null,
      "outputs": [
        {
          "output_type": "stream",
          "name": "stdout",
          "text": [
            "\u001b[2K   \u001b[90m━━━━━━━━━━━━━━━━━━━━━━━━━━━━━━━━━━━━━━━━\u001b[0m \u001b[32m48.7/48.7 MB\u001b[0m \u001b[31m17.5 MB/s\u001b[0m eta \u001b[36m0:00:00\u001b[0m\n",
            "\u001b[?25hSystem: uname_result(system='Linux', node='5af4d54b094f', release='6.1.85+', version='#1 SMP PREEMPT_DYNAMIC Thu Jun 27 21:05:47 UTC 2024', machine='x86_64')  Threads 2\n",
            "Python 3.10.12 (main, Sep 11 2024, 15:47:36) [GCC 11.4.0]\n",
            "numpy 1.26.4  scipy 1.13.1  h5py 3.11.0\n",
            "Date: Sun Sep 29 12:45:08 2024\n",
            "PySCF version 2.7.0\n",
            "PySCF path  /usr/local/lib/python3.10/dist-packages/pyscf\n",
            "\n",
            "[CONFIG] conf_file None\n",
            "[INPUT] verbose = 4\n",
            "[INPUT] num. atoms = 2\n",
            "[INPUT] num. electrons = 2\n",
            "[INPUT] charge = 0\n",
            "[INPUT] spin (= nelec alpha-beta = 2S) = 0\n",
            "[INPUT] symmetry False subgroup None\n",
            "[INPUT] Mole.unit = angstrom\n",
            "[INPUT] Symbol           X                Y                Z      unit          X                Y                Z       unit  Magmom\n",
            "[INPUT]  1 H      0.000000000000   0.000000000000   0.000000000000 AA    0.000000000000   0.000000000000   0.000000000000 Bohr   0.0\n",
            "[INPUT]  2 H      0.000000000000   0.000000000000   0.740000000000 AA    0.000000000000   0.000000000000   1.398397332178 Bohr   0.0\n",
            "\n",
            "nuclear repulsion = 0.715104339081081\n",
            "number of shells = 4\n",
            "number of NR pGTOs = 8\n",
            "number of NR cGTOs = 4\n",
            "basis = 6-31g\n",
            "ecp = {}\n",
            "CPU time:        12.09\n",
            "\n",
            "\n",
            "******** <class 'pyscf.scf.hf.RHF'> ********\n",
            "method = RHF\n",
            "initial guess = minao\n",
            "damping factor = 0\n",
            "level_shift factor = 0\n",
            "DIIS = <class 'pyscf.scf.diis.CDIIS'>\n",
            "diis_start_cycle = 1\n",
            "diis_space = 8\n",
            "diis_damp = 0\n",
            "SCF conv_tol = 1e-09\n",
            "SCF conv_tol_grad = None\n",
            "SCF max_cycles = 50\n",
            "direct_scf = True\n",
            "direct_scf_tol = 1e-13\n",
            "chkfile to save SCF result = /tmp/tmpgdyxyk5c\n",
            "max_memory 4000 MB (current use 281 MB)\n",
            "Set gradient conv threshold to 3.16228e-05\n",
            "Initial guess from minao.\n",
            "init E= -0.807242838369268\n",
            "  HOMO = -0.552324800233207  LUMO = 0.189631159548683\n",
            "cycle= 1 E= -1.12609024036767  delta_E= -0.319  |g|= 0.0394  |ddm|= 0.607\n",
            "  HOMO = -0.601382177559134  LUMO = 0.23442030382044\n",
            "cycle= 2 E= -1.12674076813781  delta_E= -0.000651  |g|= 0.00583  |ddm|= 0.0358\n",
            "  HOMO = -0.595831720005477  LUMO = 0.238474213701137\n",
            "cycle= 3 E= -1.12675531718593  delta_E= -1.45e-05  |g|= 5.08e-06  |ddm|= 0.00623\n",
            "  HOMO = -0.595823300623388  LUMO = 0.238473397059191\n",
            "cycle= 4 E= -1.12675531719506  delta_E= -9.14e-12  |g|= 2.11e-06  |ddm|= 3.18e-06\n",
            "  HOMO = -0.595817604983992  LUMO = 0.238472599151534\n",
            "Extra cycle  E= -1.12675531719693  delta_E= -1.87e-12  |g|= 3.14e-07  |ddm|= 1.93e-06\n",
            "converged SCF energy = -1.12675531719693\n",
            "\n",
            "\n",
            "******** <class 'pyscf.tdscf.rhf.TDA'> for <class 'pyscf.scf.hf.RHF'> ********\n",
            "nstates = 3 singlet\n",
            "deg_eia_thresh = 1.000e-03\n",
            "wfnsym = None\n",
            "conv_tol = 1e-05\n",
            "eigh lindep = 1e-12\n",
            "eigh level_shift = 0\n",
            "eigh max_cycle = 100\n",
            "chkfile = /tmp/tmpgdyxyk5c\n",
            "max_memory 4000 MB (current use 288 MB)\n",
            "\n",
            "\n",
            "Excited State energies (eV)\n",
            "[15.24760901 28.77088492 43.87744945]\n",
            "\n",
            "** Singlet excitation energies and oscillator strengths **\n",
            "Excited State   1:     15.24761 eV     81.31 nm  f=0.7700\n",
            "       1 -> 2         0.70703\n",
            "Excited State   2:     28.77088 eV     43.09 nm  f=0.0000\n",
            "       1 -> 3         0.70711\n",
            "Excited State   3:     43.87745 eV     28.26 nm  f=0.1083\n",
            "       1 -> 4         0.70703\n",
            "\n",
            "** Transition electric dipole moments (AU) **\n",
            "state          X           Y           Z        Dip. S.      Osc.\n",
            "  1         0.0000      0.0000     -1.4357      2.0612      0.7700\n",
            "  2         0.0000      0.0000      0.0000      0.0000      0.0000\n",
            "  3         0.0000      0.0000      0.3174      0.1007      0.1083\n",
            "\n",
            "** Transition velocity dipole moments (imaginary part, AU) **\n",
            "state          X           Y           Z        Dip. S.      Osc.\n",
            "  1        -0.0000     -0.0000     -0.6188      0.3830      0.4556\n",
            "  2        -0.0000     -0.0000     -0.0000      0.0000      0.0000\n",
            "  3        -0.0000     -0.0000      0.2300      0.0529      0.0219\n",
            "\n",
            "** Transition magnetic dipole moments (imaginary part, AU) **\n",
            "state          X           Y           Z\n",
            "  1        -0.0000     -0.0000     -0.0000\n",
            "  2        -0.0000     -0.0000     -0.0000\n",
            "  3        -0.0000     -0.0000     -0.0000\n"
          ]
        },
        {
          "output_type": "execute_result",
          "data": {
            "text/plain": [
              "<pyscf.tdscf.rhf.TDA at 0x7dbadc08d0c0>"
            ]
          },
          "metadata": {},
          "execution_count": 2
        }
      ]
    },
    {
      "cell_type": "markdown",
      "source": [
        "**Interpretation**\n",
        "* The molecule has a strong absorption band around 81.31 nm (corresponding to the first excited state). This transition involves significant electron redistribution along the Z-axis.\n",
        "* The second excited state is \"dark\" (very low oscillator strength), which means that it won't be easily observed in absorption spectroscopy.\n",
        "* The third excited state has a weaker absorption band at 28.26 nm.\n",
        "\n",
        "* **Specify atomic coordinates (of Hydrogen molecule) and basis set ('6-31g')**. The choice of basis set significantly impacts the accuracy of the results. Larger basis sets generally lead to improved accuracy but increased computational cost.\n",
        "* **Restricted Hartree-Fock (RHF) calculation is performed to obtain the ground-state wavefunction**.\n",
        "* **Time-dependent density functional theory (TDDFT) is employed for excited-state calculation, using Tamm-Dancoff approximation (TDA)**.\n",
        "  * TDDFT is just one of several methods for excited-state calculations. Other options in PySCF include configuration interaction singles (CIS), complete active space self-consistent field (CASSCF), and equation-of-motion coupled-cluster (EOM-CC).\n",
        "  * For TDDFT, selecting an appropriate functional is crucial. Some functionals are known to perform better for specific types of excited states.\n",
        "* **analyze() function provides summary of calculated excitation energies and oscillator strengths**.\n",
        "* There are alternative excited-state calculation methods for more advanced features: solvent effects, spin-orbit coupling, and non-adiabatic dynamics\n",
        "\n",
        "**Singlet Excitation Energies and Oscillator Strengths:**\n",
        "* Excited State 1:\n",
        "  * Energy: 15.2476 eV\n",
        "  * Wavelength: 81.31 nm (corresponds to the energy difference between the ground and excited state)\n",
        "  * Oscillator Strength (f): 0.7700 (indicates the intensity of the transition; a higher value means a stronger absorption)\n",
        "  * The transition is primarily from orbital 1 to orbital 2 (coefficient 0.70703)\n",
        "* Excited State 2:\n",
        "  * Energy: 28.7709 eV\n",
        "  * Wavelength: 43.09 nm\n",
        "  * Oscillator Strength (f): 0.0000 (this transition is \"forbidden,\" meaning it's very unlikely to occur upon light absorption)\n",
        "  * The transition is primarily from orbital 1 to orbital 3\n",
        "* Excited State 3:\n",
        "  * Energy: 43.8775 eV\n",
        "  * Wavelength: 28.26 nm\n",
        "  * Oscillator Strength (f): 0.1083 (a weaker transition compared to the first excited state)\n",
        "  * The transition is primarily from orbital 1 to orbital 4\n",
        "\n",
        "\n",
        "**Transition Electric/Velocity/Magnetic Dipole Moments:**\n",
        "* tables describe changes in the molecule's electric and magnetic properties upon excitation.\n",
        "* Electric Dipole Moments: Important for light absorption and emission.\n",
        "* Velocity Dipole Moments: Related to the rate of change of the electron density during the transition.\n",
        "* Magnetic Dipole Moments: Relevant for magnetic interactions and certain types of spectroscopy.\n",
        "* here the first excited state has a significant electric dipole transition moment along the Z-axis,consistent with its high oscillator strength. The other states have negligible dipole moments, indicating weak or forbidden transitions."
      ],
      "metadata": {
        "id": "WaFpm81N0GQ7"
      }
    }
  ]
}