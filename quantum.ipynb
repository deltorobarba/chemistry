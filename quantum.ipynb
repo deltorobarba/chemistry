{
  "nbformat": 4,
  "nbformat_minor": 0,
  "metadata": {
    "colab": {
      "provenance": [],
      "authorship_tag": "ABX9TyP8yNrRfqFDzT+Z4MIJrI9f",
      "include_colab_link": true
    },
    "kernelspec": {
      "name": "python3",
      "display_name": "Python 3"
    },
    "language_info": {
      "name": "python"
    }
  },
  "cells": [
    {
      "cell_type": "markdown",
      "metadata": {
        "id": "view-in-github",
        "colab_type": "text"
      },
      "source": [
        "<a href=\"https://colab.research.google.com/github/deltorobarba/chemistry/blob/main/quantum.ipynb\" target=\"_parent\"><img src=\"https://colab.research.google.com/assets/colab-badge.svg\" alt=\"Open In Colab\"/></a>"
      ]
    },
    {
      "cell_type": "markdown",
      "source": [
        "# **Quantum Computing for Ground-state energy estimation**"
      ],
      "metadata": {
        "id": "QoX0Idp-ZlWl"
      }
    },
    {
      "cell_type": "code",
      "execution_count": 2,
      "metadata": {
        "id": "zaJ8YcO9Zjhe"
      },
      "outputs": [],
      "source": [
        "!pip install pyscf matplotlib pennylane -q"
      ]
    },
    {
      "cell_type": "code",
      "source": [
        "# Hartree-Fock SCF for Ground state energy - As benchmark\n",
        "from pyscf import gto, scf\n",
        "mol = gto.M(\n",
        "    atom = '''\n",
        "    O  0.000000  0.000000  0.000000\n",
        "    H  0.000000  0.757000  0.586000\n",
        "    H  0.000000 -0.757000  0.586000\n",
        "''',\n",
        "    basis = 'cc-pvdz',\n",
        ")\n",
        "mf = scf.RHF(mol)\n",
        "conv_data = []\n",
        "def callback(envs):\n",
        "    conv_data.append(envs['e_tot'])\n",
        "mf.callback = callback\n",
        "hf_scf_ground_state_energy = mf.kernel()"
      ],
      "metadata": {
        "colab": {
          "base_uri": "https://localhost:8080/"
        },
        "id": "Hi1MuAARaM01",
        "outputId": "be429a6b-e011-44de-fa8f-3b1566c9db8d"
      },
      "execution_count": 3,
      "outputs": [
        {
          "output_type": "stream",
          "name": "stdout",
          "text": [
            "converged SCF energy = -76.0267936449738\n"
          ]
        }
      ]
    },
    {
      "cell_type": "code",
      "source": [
        "# Variational Quantum Eigensolver for Ground-state energy estimation\n",
        "import pennylane as qml\n",
        "from pennylane import numpy as np\n",
        "\n",
        "# Define the molecular system\n",
        "symbols = ['O', 'H', 'H']\n",
        "# The coordinates should be provided in atomic units (Bohr)\n",
        "coordinates = np.array([0.0, 0.0, 0.0, 1.432, 1.107, 0.0, -1.432, 1.107, 0.0])  # Approximate atomic units\n",
        "\n",
        "# Generate the molecular Hamiltonian using PennyLane's quantum chemistry module\n",
        "H, qubits = qml.qchem.molecular_hamiltonian(\n",
        "    symbols,\n",
        "    coordinates,\n",
        "    charge=0,\n",
        "    mult=1,  # Singlet state\n",
        "    basis='sto-3g',  # Simple minimal basis set\n",
        "    active_electrons=4,  # 2 electrons from hydrogen and 2 from oxygen (for a minimal example)\n",
        "    active_orbitals=4,  # Adjust as needed for accuracy\n",
        "    mapping='jordan_wigner'  # Fermion-to-qubit mapping\n",
        ")\n",
        "\n",
        "# Define the quantum device\n",
        "dev = qml.device('default.qubit', wires=qubits)\n",
        "\n",
        "# Define the ansatz (parameterized quantum circuit)\n",
        "def ansatz(params):\n",
        "    for i in range(qubits):\n",
        "        qml.RY(params[i], wires=i)\n",
        "    for i in range(qubits - 1):\n",
        "        qml.CNOT(wires=[i, i + 1])\n",
        "\n",
        "# Define the cost function (expectation value of the Hamiltonian)\n",
        "@qml.qnode(dev)\n",
        "def cost_fn(params):\n",
        "    ansatz(params)\n",
        "    return qml.expval(H)\n",
        "\n",
        "# Perform the VQE optimization\n",
        "optimizer = qml.GradientDescentOptimizer(stepsize=0.1)\n",
        "params = np.random.randn(qubits)\n",
        "for i in range(100):\n",
        "    params = optimizer.step(cost_fn, params)\n",
        "\n",
        "# Extract the ground state energy\n",
        "vqe_ground_state_energy = cost_fn(params)\n",
        "\n",
        "print(\"Ground state energy of H2O molecule (Pennylane VQE):\", vqe_ground_state_energy)"
      ],
      "metadata": {
        "colab": {
          "base_uri": "https://localhost:8080/"
        },
        "id": "pYtfWKGYZpoc",
        "outputId": "900c83b8-dce1-4ed2-fe64-770f63ab9e0e"
      },
      "execution_count": 4,
      "outputs": [
        {
          "output_type": "stream",
          "name": "stdout",
          "text": [
            "Ground state energy of H2O molecule (Pennylane VQE): -74.48444328875853\n"
          ]
        }
      ]
    },
    {
      "cell_type": "markdown",
      "source": [
        "In this example I use 8 qubits for the water molecule. This is determined by 4 active molecular orbitals to describe the electronic structure of the water molecule (`active_orbitals=4`), where each orbital has two spin states (two qubits per orbital) under Jordan-Wigner transformation. Fermion-to-qubit mapping for each spin-orbital to one qubit. For each active orbital, there are two spin states (spin-up and spin-down)"
      ],
      "metadata": {
        "id": "z2Ju8V5NZuX1"
      }
    },
    {
      "cell_type": "code",
      "source": [
        "# Quantum Computing for Ground-state energy estimation using QPE\n",
        "import pennylane as qml\n",
        "from pennylane import numpy as np\n",
        "from scipy.linalg import expm\n",
        "\n",
        "# Define molecular system\n",
        "symbols = ['O', 'H', 'H']\n",
        "coordinates = np.array([0.0, 0.0, 0.0, 1.432, 1.107, 0.0, -1.432, 1.107, 0.0])\n",
        "\n",
        "# Generate the molecular Hamiltonian (PennyLane quantum chemistry module)\n",
        "H, qubits = qml.qchem.molecular_hamiltonian(\n",
        "    symbols,\n",
        "    coordinates,\n",
        "    charge=0,\n",
        "    mult=1,\n",
        "    basis='sto-3g',\n",
        "    active_electrons=4,\n",
        "    active_orbitals=4,\n",
        "    mapping='jordan_wigner'\n",
        ")\n",
        "\n",
        "# Get the wire ordering for the qubits representing the molecule\n",
        "molecule_wires = list(range(qubits))\n",
        "\n",
        "# Convert the Hamiltonian to a sparse matrix representation\n",
        "H_matrix = H.sparse_matrix(wire_order=molecule_wires).toarray()\n",
        "\n",
        "# Define the quantum device\n",
        "n_auxiliary_qubits = 4  # Number of qubits for the phase estimation register\n",
        "total_wires = n_auxiliary_qubits + qubits\n",
        "dev = qml.device('default.qubit', wires=total_wires)\n",
        "\n",
        "# Function for controlled unitary evolution using the Hamiltonian\n",
        "def controlled_unitary(time, wires):\n",
        "    # Time evolution operator e^(-iHt), where H is the Hamiltonian\n",
        "    U = expm(-1j * H_matrix * time)\n",
        "\n",
        "    # Apply the unitary controlled on an auxiliary qubit\n",
        "    qml.ControlledQubitUnitary(U, control_wires=wires[0], wires=wires[1:])\n",
        "\n",
        "# Quantum Phase Estimation (QPE) circuit\n",
        "def qpe_circuit(time):\n",
        "    # Step 1: Prepare auxiliary qubits in a superposition state (Hadamard transform)\n",
        "    for i in range(n_auxiliary_qubits):\n",
        "        qml.Hadamard(wires=i)\n",
        "\n",
        "    # Step 2: Apply controlled unitary operations (controlled e^(-iHt))\n",
        "    for i in range(n_auxiliary_qubits):\n",
        "        # Calculate the time for this iteration\n",
        "        t = 2 ** i * time\n",
        "        # Apply the controlled unitary with appropriate wires\n",
        "        control_wire = i\n",
        "        target_wires = list(range(n_auxiliary_qubits, total_wires))\n",
        "        wires = [control_wire] + target_wires\n",
        "        controlled_unitary(t, wires=wires)\n",
        "\n",
        "    # Step 3: Inverse Quantum Fourier Transform (QFT)\n",
        "    qml.adjoint(qml.QFT)(wires=range(n_auxiliary_qubits))\n",
        "\n",
        "# Define ansatz\n",
        "def ansatz(params):\n",
        "    for i in range(qubits):\n",
        "        qml.RY(params[i], wires=n_auxiliary_qubits + i)\n",
        "    for i in range(qubits - 1):\n",
        "        qml.CNOT(wires=[n_auxiliary_qubits + i, n_auxiliary_qubits + i + 1])\n",
        "\n",
        "# Define the QPE circuit combined with the ansatz\n",
        "@qml.qnode(dev)\n",
        "def phase_estimation(params):\n",
        "    # Prepare the ground state using the VQE ansatz\n",
        "    ansatz(params[1:])\n",
        "\n",
        "    # Apply the QPE circuit\n",
        "    qpe_circuit(params[0])\n",
        "\n",
        "    # Measure the auxiliary qubits in the computational basis\n",
        "    return qml.probs(wires=range(n_auxiliary_qubits))\n",
        "\n",
        "# Parameters: [time, ansatz_params]\n",
        "params = np.array([0.1] + list(np.random.randn(qubits)))\n",
        "\n",
        "# Run the phase estimation\n",
        "probs = phase_estimation(params)\n",
        "\n",
        "# The measured probabilities correspond to the binary representation of the eigenvalues\n",
        "# Convert these to eigenphases and then to energy estimates\n",
        "\n",
        "# Helper function to convert binary to decimal and to energy\n",
        "def binary_to_energy(binary_probabilities, time):\n",
        "    # Get the most probable state (highest probability)\n",
        "    max_prob_idx = np.argmax(binary_probabilities)\n",
        "\n",
        "    # Convert index to binary (phase estimate)\n",
        "    binary_phase = format(max_prob_idx, '0' + str(n_auxiliary_qubits) + 'b')\n",
        "\n",
        "    # Convert binary phase to decimal\n",
        "    phase_estimate = sum([int(bit) * 2 ** -(i + 1) for i, bit in enumerate(binary_phase)])\n",
        "\n",
        "    # Calculate the energy from the phase\n",
        "    energy_estimate = 2 * np.pi * phase_estimate / time\n",
        "\n",
        "    return energy_estimate\n",
        "\n",
        "# Extract the ground state energy\n",
        "qpe_ground_state_energy = binary_to_energy(probs, params[0])\n",
        "\n",
        "print(\"Ground state energy of H2O molecule (Pennylane QPE):\", qpe_ground_state_energy)"
      ],
      "metadata": {
        "colab": {
          "base_uri": "https://localhost:8080/"
        },
        "id": "ZUYB1YnLhIkA",
        "outputId": "f91a1d29-7285-43f9-dd31-45b3cf87bf44"
      },
      "execution_count": 5,
      "outputs": [
        {
          "output_type": "stream",
          "name": "stdout",
          "text": [
            "Ground state energy of H2O molecule (Pennylane QPE): 23.561944901923447\n"
          ]
        }
      ]
    },
    {
      "cell_type": "markdown",
      "source": [
        "[IonQ: Ground-state energy estimation of the water molecule on a trapped ion quantum computer](https://ionq.com/links/Water_Molecule_VQE_Simulation.pdf)\n",
        "\n",
        "https://pennylane.ai/qml/demos/tutorial_quantum_chemistry/"
      ],
      "metadata": {
        "id": "tf5v1FWkZnYJ"
      }
    },
    {
      "cell_type": "code",
      "source": [
        "print(\"Ground state energy of H2O molecule (Hartree-Fock SCF):\", hf_scf_ground_state_energy)\n",
        "print(\"Ground state energy of H2O molecule (Variational Quantum Eigensolver):\", vqe_ground_state_energy)\n",
        "print(\"Ground state energy of H2O molecule (Quantum Phase Estimation):\", qpe_ground_state_energy)"
      ],
      "metadata": {
        "colab": {
          "base_uri": "https://localhost:8080/"
        },
        "id": "vGTUICS7b-lZ",
        "outputId": "f1b3d940-e28d-4d08-d3be-48bd5ae4c0f7"
      },
      "execution_count": 7,
      "outputs": [
        {
          "output_type": "stream",
          "name": "stdout",
          "text": [
            "Ground state energy of H2O molecule (Hartree-Fock SCF): -76.02679364497384\n",
            "Ground state energy of H2O molecule (Variational Quantum Eigensolver): -74.48444328875853\n",
            "Ground state energy of H2O molecule (Quantum Phase Estimation): 23.561944901923447\n"
          ]
        }
      ]
    }
  ]
}