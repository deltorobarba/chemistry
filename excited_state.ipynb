{
  "nbformat": 4,
  "nbformat_minor": 0,
  "metadata": {
    "colab": {
      "provenance": [],
      "authorship_tag": "ABX9TyNZru9pglmszyOeJ7er6FWd",
      "include_colab_link": true
    },
    "kernelspec": {
      "name": "python3",
      "display_name": "Python 3"
    },
    "language_info": {
      "name": "python"
    }
  },
  "cells": [
    {
      "cell_type": "markdown",
      "metadata": {
        "id": "view-in-github",
        "colab_type": "text"
      },
      "source": [
        "<a href=\"https://colab.research.google.com/github/deltorobarba/chemistry/blob/main/excited_state.ipynb\" target=\"_parent\"><img src=\"https://colab.research.google.com/assets/colab-badge.svg\" alt=\"Open In Colab\"/></a>"
      ]
    },
    {
      "cell_type": "markdown",
      "source": [
        "# **Excited-State Calculations in Quantum Chemistry**"
      ],
      "metadata": {
        "id": "HG9rGajM-6kq"
      }
    },
    {
      "cell_type": "markdown",
      "source": [
        "* **Specify atomic coordinates (of Hydrogen molecule) and basis set ('6-31g')**. The choice of basis set significantly impacts the accuracy of the results. Larger basis sets generally lead to improved accuracy but increased computational cost.\n",
        "* **Restricted Hartree-Fock (RHF) calculation is performed to obtain the ground-state wavefunction**.\n",
        "* **Time-dependent density functional theory (TDDFT) is employed for excited-state calculation, using Tamm-Dancoff approximation (TDA)**.\n",
        "  * TDDFT is just one of several methods for excited-state calculations. Other options in PySCF include configuration interaction singles (CIS), complete active space self-consistent field (CASSCF), and equation-of-motion coupled-cluster (EOM-CC).\n",
        "  * For TDDFT, selecting an appropriate functional is crucial. Some functionals are known to perform better for specific types of excited states.\n",
        "* **analyze() function provides summary of calculated excitation energies and oscillator strengths**.\n",
        "* There are alternative excited-state calculation methods for more advanced features: solvent effects, spin-orbit coupling, and non-adiabatic dynamics"
      ],
      "metadata": {
        "id": "ClQR_Q0UY4eE"
      }
    },
    {
      "cell_type": "markdown",
      "source": [
        "**Restricted Hartree-Fock (RHF) for Hydrogen Molecule (H₂)**"
      ],
      "metadata": {
        "id": "hkyBGe6mRAaC"
      }
    },
    {
      "cell_type": "code",
      "source": [
        "!pip install pyscf -q"
      ],
      "metadata": {
        "id": "BVgUqvdIPVLp"
      },
      "execution_count": null,
      "outputs": []
    },
    {
      "cell_type": "code",
      "source": [
        "from pyscf import gto, scf, tddft\n",
        "\n",
        "# Define the molecular system\n",
        "mol = gto.M(\n",
        "    atom = 'H 0 0 0; H 0 0 0.74',  # Hydrogen molecule\n",
        "    basis = '6-31g',\n",
        "    verbose = 4,\n",
        ")\n",
        "\n",
        "# Perform a ground-state calculation\n",
        "myhf = scf.RHF(mol).run()\n",
        "\n",
        "# Excited-state calculation using TDDFT\n",
        "mytd = tddft.TDA(myhf).run()\n",
        "mytd.analyze()"
      ],
      "metadata": {
        "colab": {
          "base_uri": "https://localhost:8080/"
        },
        "id": "M1k40x0KPTb5",
        "outputId": "5775c6d2-b547-4b85-ea4f-227cea869071"
      },
      "execution_count": null,
      "outputs": [
        {
          "output_type": "stream",
          "name": "stdout",
          "text": [
            "System: uname_result(system='Linux', node='b4641d4a924f', release='6.1.85+', version='#1 SMP PREEMPT_DYNAMIC Thu Jun 27 21:05:47 UTC 2024', machine='x86_64')  Threads 2\n",
            "Python 3.10.12 (main, Sep 11 2024, 15:47:36) [GCC 11.4.0]\n",
            "numpy 1.26.4  scipy 1.13.1  h5py 3.11.0\n",
            "Date: Mon Sep 23 14:16:56 2024\n",
            "PySCF version 2.6.2\n",
            "PySCF path  /usr/local/lib/python3.10/dist-packages/pyscf\n",
            "\n",
            "[CONFIG] conf_file None\n",
            "[INPUT] verbose = 4\n",
            "[INPUT] num. atoms = 2\n",
            "[INPUT] num. electrons = 2\n",
            "[INPUT] charge = 0\n",
            "[INPUT] spin (= nelec alpha-beta = 2S) = 0\n",
            "[INPUT] symmetry False subgroup None\n",
            "[INPUT] Mole.unit = angstrom\n",
            "[INPUT] Symbol           X                Y                Z      unit          X                Y                Z       unit  Magmom\n",
            "[INPUT]  1 H      0.000000000000   0.000000000000   0.000000000000 AA    0.000000000000   0.000000000000   0.000000000000 Bohr   0.0\n",
            "[INPUT]  2 H      0.000000000000   0.000000000000   0.740000000000 AA    0.000000000000   0.000000000000   1.398397332178 Bohr   0.0\n",
            "\n",
            "nuclear repulsion = 0.715104339081081\n",
            "number of shells = 4\n",
            "number of NR pGTOs = 8\n",
            "number of NR cGTOs = 4\n",
            "basis = 6-31g\n",
            "ecp = {}\n",
            "CPU time:         2.99\n",
            "\n",
            "\n",
            "******** <class 'pyscf.scf.hf.RHF'> ********\n",
            "method = RHF\n",
            "initial guess = minao\n",
            "damping factor = 0\n",
            "level_shift factor = 0\n",
            "DIIS = <class 'pyscf.scf.diis.CDIIS'>\n",
            "diis_start_cycle = 1\n",
            "diis_space = 8\n",
            "diis_damp = 0\n",
            "SCF conv_tol = 1e-09\n",
            "SCF conv_tol_grad = None\n",
            "SCF max_cycles = 50\n",
            "direct_scf = True\n",
            "direct_scf_tol = 1e-13\n",
            "chkfile to save SCF result = /tmp/tmpoi8a7y8o\n",
            "max_memory 4000 MB (current use 142 MB)\n",
            "Set gradient conv threshold to 3.16228e-05\n",
            "Initial guess from minao.\n",
            "init E= -0.807242838369268\n",
            "  HOMO = -0.552324800233207  LUMO = 0.189631159548683\n",
            "cycle= 1 E= -1.12609024036767  delta_E= -0.319  |g|= 0.0394  |ddm|= 0.607\n",
            "  HOMO = -0.601382177559134  LUMO = 0.23442030382044\n",
            "cycle= 2 E= -1.12674076813781  delta_E= -0.000651  |g|= 0.00583  |ddm|= 0.0358\n",
            "  HOMO = -0.595831720005477  LUMO = 0.238474213701137\n",
            "cycle= 3 E= -1.12675531718593  delta_E= -1.45e-05  |g|= 5.08e-06  |ddm|= 0.00623\n",
            "  HOMO = -0.595823300623388  LUMO = 0.238473397059191\n",
            "cycle= 4 E= -1.12675531719506  delta_E= -9.14e-12  |g|= 2.11e-06  |ddm|= 3.18e-06\n",
            "  HOMO = -0.595817604983992  LUMO = 0.238472599151534\n",
            "Extra cycle  E= -1.12675531719693  delta_E= -1.87e-12  |g|= 3.14e-07  |ddm|= 1.93e-06\n",
            "converged SCF energy = -1.12675531719693\n",
            "\n",
            "\n",
            "******** <class 'pyscf.tdscf.rhf.TDA'> for <class 'pyscf.scf.hf.RHF'> ********\n",
            "nstates = 3 singlet\n",
            "deg_eia_thresh = 1.000e-03\n",
            "wfnsym = None\n",
            "conv_tol = 1e-09\n",
            "eigh lindep = 1e-12\n",
            "eigh level_shift = 0\n",
            "eigh max_space = 50\n",
            "eigh max_cycle = 100\n",
            "chkfile = /tmp/tmpoi8a7y8o\n",
            "max_memory 4000 MB (current use 155 MB)\n",
            "\n",
            "\n",
            "Excited State energies (eV)\n",
            "[15.24760901 28.77088492 43.87744945]\n",
            "\n",
            "** Singlet excitation energies and oscillator strengths **\n",
            "Excited State   1:     15.24761 eV     81.31 nm  f=0.7700\n",
            "       1 -> 2         0.70703\n",
            "Excited State   2:     28.77088 eV     43.09 nm  f=0.0000\n",
            "       1 -> 3         0.70711\n",
            "Excited State   3:     43.87745 eV     28.26 nm  f=0.1083\n",
            "       1 -> 4         0.70703\n",
            "\n",
            "** Transition electric dipole moments (AU) **\n",
            "state          X           Y           Z        Dip. S.      Osc.\n",
            "  1         0.0000      0.0000     -1.4357      2.0612      0.7700\n",
            "  2         0.0000      0.0000      0.0000      0.0000      0.0000\n",
            "  3         0.0000      0.0000      0.3174      0.1007      0.1083\n",
            "\n",
            "** Transition velocity dipole moments (imaginary part, AU) **\n",
            "state          X           Y           Z        Dip. S.      Osc.\n",
            "  1        -0.0000     -0.0000     -0.6188      0.3830      0.4556\n",
            "  2        -0.0000     -0.0000     -0.0000      0.0000      0.0000\n",
            "  3        -0.0000     -0.0000      0.2300      0.0529      0.0219\n",
            "\n",
            "** Transition magnetic dipole moments (imaginary part, AU) **\n",
            "state          X           Y           Z\n",
            "  1        -0.0000     -0.0000     -0.0000\n",
            "  2        -0.0000     -0.0000     -0.0000\n",
            "  3        -0.0000     -0.0000     -0.0000\n"
          ]
        },
        {
          "output_type": "execute_result",
          "data": {
            "text/plain": [
              "<pyscf.tdscf.rhf.TDA at 0x7aa9d0e21f00>"
            ]
          },
          "metadata": {},
          "execution_count": 2
        }
      ]
    },
    {
      "cell_type": "markdown",
      "source": [
        "**Excited State Energies (eV):**\n",
        "* This lists the energies of the three lowest singlet excited states of your molecule, relative to the ground state.\n",
        "* The values are in electronvolts (eV), a common unit of energy in quantum chemistry.\n",
        "* the first excited state lies 15.2476 eV above the ground state, the second at 28.7709 eV, and the third at 43.8774 eV."
      ],
      "metadata": {
        "id": "gIfgBjUiQRvK"
      }
    },
    {
      "cell_type": "markdown",
      "source": [
        "**Singlet Excitation Energies and Oscillator Strengths:**\n",
        "* Excited State 1:\n",
        "  * Energy: 15.2476 eV\n",
        "  * Wavelength: 81.31 nm (corresponds to the energy difference between the ground and excited state)\n",
        "  * Oscillator Strength (f): 0.7700 (indicates the intensity of the transition; a higher value means a stronger absorption)\n",
        "  * The transition is primarily from orbital 1 to orbital 2 (coefficient 0.70703)\n",
        "* Excited State 2:\n",
        "  * Energy: 28.7709 eV\n",
        "  * Wavelength: 43.09 nm\n",
        "  * Oscillator Strength (f): 0.0000 (this transition is \"forbidden,\" meaning it's very unlikely to occur upon light absorption)\n",
        "  * The transition is primarily from orbital 1 to orbital 3\n",
        "* Excited State 3:\n",
        "  * Energy: 43.8775 eV\n",
        "  * Wavelength: 28.26 nm\n",
        "  * Oscillator Strength (f): 0.1083 (a weaker transition compared to the first excited state)\n",
        "  * The transition is primarily from orbital 1 to orbital 4"
      ],
      "metadata": {
        "id": "h80s6glVRNhe"
      }
    },
    {
      "cell_type": "markdown",
      "source": [
        "**Transition Electric/Velocity/Magnetic Dipole Moments:**\n",
        "* tables describe changes in the molecule's electric and magnetic properties upon excitation.\n",
        "* Electric Dipole Moments: Important for light absorption and emission.\n",
        "* Velocity Dipole Moments: Related to the rate of change of the electron density during the transition.\n",
        "* Magnetic Dipole Moments: Relevant for magnetic interactions and certain types of spectroscopy.\n",
        "* here the first excited state has a significant electric dipole transition moment along the Z-axis,consistent with its high oscillator strength. The other states have negligible dipole moments, indicating weak or forbidden transitions."
      ],
      "metadata": {
        "id": "epArGOxmRMLJ"
      }
    },
    {
      "cell_type": "markdown",
      "source": [
        "**Interpretation**\n",
        "* The molecule has a strong absorption band around 81.31 nm (corresponding to the first excited state). This transition involves significant electron redistribution along the Z-axis.\n",
        "* The second excited state is \"dark\" (very low oscillator strength), which means that it won't be easily observed in absorption spectroscopy.\n",
        "* The third excited state has a weaker absorption band at 28.26 nm."
      ],
      "metadata": {
        "id": "o8m5zrqMRLI-"
      }
    }
  ]
}