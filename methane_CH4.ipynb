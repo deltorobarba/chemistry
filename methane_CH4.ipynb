{
  "nbformat": 4,
  "nbformat_minor": 0,
  "metadata": {
    "colab": {
      "provenance": [],
      "authorship_tag": "ABX9TyO+VNYGgylCyb7dPcUE6eGH",
      "include_colab_link": true
    },
    "kernelspec": {
      "name": "python3",
      "display_name": "Python 3"
    },
    "language_info": {
      "name": "python"
    }
  },
  "cells": [
    {
      "cell_type": "markdown",
      "metadata": {
        "id": "view-in-github",
        "colab_type": "text"
      },
      "source": [
        "<a href=\"https://colab.research.google.com/github/deltorobarba/chemistry/blob/main/methane_CH4.ipynb\" target=\"_parent\"><img src=\"https://colab.research.google.com/assets/colab-badge.svg\" alt=\"Open In Colab\"/></a>"
      ]
    },
    {
      "cell_type": "markdown",
      "source": [
        "# **Methane (CH₄)**"
      ],
      "metadata": {
        "id": "y6KY9T_X840N"
      }
    },
    {
      "cell_type": "markdown",
      "source": [
        "**Density Functional Theory (DFT) self-consistent field (SCF)**"
      ],
      "metadata": {
        "id": "wftGICAT6xxC"
      }
    },
    {
      "cell_type": "markdown",
      "source": [
        "[Methane](https://en.m.wikipedia.org/wiki/Methane) (CH₄) has a Tetrahedral geometry with equal C-H bond lengths.\n",
        "\n",
        "![science](https://upload.wikimedia.org/wikipedia/commons/thumb/9/9b/Methane-2D-dimensions.svg/320px-Methane-2D-dimensions.svg.png)"
      ],
      "metadata": {
        "id": "qkhWxCD99koZ"
      }
    },
    {
      "cell_type": "code",
      "source": [
        "from pyscf import gto, dft\n",
        "\n",
        "# Define the methane molecule (CH₄)\n",
        "mol = gto.Mole()\n",
        "mol.atom = '''\n",
        "    C  0.0000000   0.0000000   0.0000000\n",
        "    H  0.6291180   0.6291180   0.6291180\n",
        "    H -0.6291180  -0.6291180   0.6291180\n",
        "    H  0.6291180  -0.6291180  -0.6291180\n",
        "    H -0.6291180   0.6291180  -0.6291180\n",
        "'''\n",
        "mol.basis = 'cc-pvdz'\n",
        "mol.verbose = 4\n",
        "mol.build()\n",
        "\n",
        "# Perform a DFT calculation using the B3LYP functional\n",
        "mf = dft.RKS(mol)\n",
        "mf.xc = 'b3lyp'\n",
        "energy = mf.kernel()\n",
        "\n",
        "print(f\"DFT energy for Methane (CH₄) using B3LYP: {energy} Hartree\")"
      ],
      "metadata": {
        "id": "KR6npc_H863I",
        "outputId": "f4554097-f9ab-4169-be41-5ace31715b20",
        "colab": {
          "base_uri": "https://localhost:8080/"
        }
      },
      "execution_count": null,
      "outputs": [
        {
          "output_type": "stream",
          "name": "stdout",
          "text": [
            "System: uname_result(system='Linux', node='4fd708dbf2a1', release='6.1.85+', version='#1 SMP PREEMPT_DYNAMIC Thu Jun 27 21:05:47 UTC 2024', machine='x86_64')  Threads 2\n",
            "Python 3.10.12 (main, Sep 11 2024, 15:47:36) [GCC 11.4.0]\n",
            "numpy 1.26.4  scipy 1.13.1  h5py 3.11.0\n",
            "Date: Mon Sep 23 12:56:36 2024\n",
            "PySCF version 2.6.2\n",
            "PySCF path  /usr/local/lib/python3.10/dist-packages/pyscf\n",
            "\n",
            "[CONFIG] conf_file None\n",
            "[INPUT] verbose = 4\n",
            "[INPUT] num. atoms = 5\n",
            "[INPUT] num. electrons = 10\n",
            "[INPUT] charge = 0\n",
            "[INPUT] spin (= nelec alpha-beta = 2S) = 0\n",
            "[INPUT] symmetry False subgroup None\n",
            "[INPUT] Mole.unit = angstrom\n",
            "[INPUT] Symbol           X                Y                Z      unit          X                Y                Z       unit  Magmom\n",
            "[INPUT]  1 C      0.000000000000   0.000000000000   0.000000000000 AA    0.000000000000   0.000000000000   0.000000000000 Bohr   0.0\n",
            "[INPUT]  2 H      0.629118000000   0.629118000000   0.629118000000 AA    1.188860720034   1.188860720034   1.188860720034 Bohr   0.0\n",
            "[INPUT]  3 H     -0.629118000000  -0.629118000000   0.629118000000 AA   -1.188860720034  -1.188860720034   1.188860720034 Bohr   0.0\n",
            "[INPUT]  4 H      0.629118000000  -0.629118000000  -0.629118000000 AA    1.188860720034  -1.188860720034  -1.188860720034 Bohr   0.0\n",
            "[INPUT]  5 H     -0.629118000000   0.629118000000  -0.629118000000 AA   -1.188860720034   1.188860720034  -1.188860720034 Bohr   0.0\n",
            "\n",
            "nuclear repulsion = 13.4395278899046\n",
            "number of shells = 17\n",
            "number of NR pGTOs = 54\n",
            "number of NR cGTOs = 34\n",
            "basis = cc-pvdz\n",
            "ecp = {}\n",
            "CPU time:         2.88\n",
            "\n",
            "\n",
            "******** <class 'pyscf.dft.rks.RKS'> ********\n",
            "method = RKS\n",
            "initial guess = minao\n",
            "damping factor = 0\n",
            "level_shift factor = 0\n",
            "DIIS = <class 'pyscf.scf.diis.CDIIS'>\n",
            "diis_start_cycle = 1\n",
            "diis_space = 8\n",
            "diis_damp = 0\n",
            "SCF conv_tol = 1e-09\n",
            "SCF conv_tol_grad = None\n",
            "SCF max_cycles = 50\n",
            "direct_scf = True\n",
            "direct_scf_tol = 1e-13\n",
            "chkfile to save SCF result = /tmp/tmpdod2n3ry\n",
            "max_memory 4000 MB (current use 142 MB)\n",
            "XC library pyscf.dft.libxc version 6.1.0\n",
            "    S. Lehtola, C. Steigemann, M. J.T. Oliveira, and M. A.L. Marques.,  SoftwareX 7, 1–5 (2018)\n",
            "XC functionals = b3lyp\n",
            "    P. J. Stephens, F. J. Devlin, C. F. Chabalowski, and M. J. Frisch.,  J. Phys. Chem. 98, 11623 (1994)\n",
            "radial grids: \n",
            "    Treutler-Ahlrichs [JCP 102, 346 (1995); DOI:10.1063/1.469408] (M4) radial grids\n",
            "    \n",
            "becke partition: Becke, JCP 88, 2547 (1988); DOI:10.1063/1.454033\n",
            "pruning grids: <function nwchem_prune at 0x7e45e46b12d0>\n",
            "grids dens level: 3\n",
            "symmetrized grids: False\n",
            "atomic radii adjust function: <function treutler_atomic_radii_adjust at 0x7e45e4ee7be0>\n",
            "small_rho_cutoff = 1e-07\n",
            "Set gradient conv threshold to 3.16228e-05\n",
            "Initial guess from minao.\n"
          ]
        },
        {
          "output_type": "stream",
          "name": "stderr",
          "text": [
            "/usr/local/lib/python3.10/dist-packages/pyscf/dft/libxc.py:1110: UserWarning: Since PySCF-2.3, B3LYP (and B3P86) are changed to the VWN-RPA variant, corresponding to the original definition by Stephens et al. (issue 1480) and the same as the B3LYP functional in Gaussian. To restore the VWN5 definition, you can put the setting \"B3LYP_WITH_VWN5 = True\" in pyscf_conf.py\n",
            "  warnings.warn('Since PySCF-2.3, B3LYP (and B3P86) are changed to the VWN-RPA variant, '\n"
          ]
        },
        {
          "output_type": "stream",
          "name": "stdout",
          "text": [
            "tot grids = 54000\n",
            "init E= -40.3265497639281\n",
            "  HOMO = -0.450070922171779  LUMO = 0.0328210281961182\n",
            "cycle= 1 E= -40.4934798774134  delta_E= -0.167  |g|= 0.286  |ddm|= 1.67\n",
            "  HOMO = -0.333471400759681  LUMO = 0.095659381133608\n",
            "cycle= 2 E= -40.4864319798434  delta_E= 0.00705  |g|= 0.329  |ddm|= 0.493\n",
            "  HOMO = -0.389912682985832  LUMO = 0.074876775348693\n",
            "cycle= 3 E= -40.5160832457423  delta_E= -0.0297  |g|= 0.00145  |ddm|= 0.258\n",
            "  HOMO = -0.390017978702249  LUMO = 0.0748319709095789\n",
            "cycle= 4 E= -40.5160837796302  delta_E= -5.34e-07  |g|= 0.000322  |ddm|= 0.00275\n",
            "  HOMO = -0.39014839179896  LUMO = 0.0747750811262947\n",
            "cycle= 5 E= -40.516083809316  delta_E= -2.97e-08  |g|= 6.72e-06  |ddm|= 0.000243\n",
            "  HOMO = -0.390143372895753  LUMO = 0.0747771185921628\n",
            "cycle= 6 E= -40.5160838093333  delta_E= -1.73e-11  |g|= 4.74e-07  |ddm|= 1.29e-05\n",
            "  HOMO = -0.39014372578021  LUMO = 0.0747769565136719\n",
            "Extra cycle  E= -40.5160838093335  delta_E= -1.85e-13  |g|= 4.98e-07  |ddm|= 6.73e-07\n",
            "converged SCF energy = -40.5160838093335\n",
            "DFT energy for Methane (CH₄) using B3LYP: -40.51608380933349 Hartree\n"
          ]
        }
      ]
    }
  ]
}