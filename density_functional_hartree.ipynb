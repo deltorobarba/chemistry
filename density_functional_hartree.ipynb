{
  "nbformat": 4,
  "nbformat_minor": 0,
  "metadata": {
    "colab": {
      "provenance": [],
      "authorship_tag": "ABX9TyOA3kAn8RAiQECeBiSf0cEn",
      "include_colab_link": true
    },
    "kernelspec": {
      "name": "python3",
      "display_name": "Python 3"
    },
    "language_info": {
      "name": "python"
    }
  },
  "cells": [
    {
      "cell_type": "markdown",
      "metadata": {
        "id": "view-in-github",
        "colab_type": "text"
      },
      "source": [
        "<a href=\"https://colab.research.google.com/github/deltorobarba/astrophysics/blob/main/density_functional_hartree.ipynb\" target=\"_parent\"><img src=\"https://colab.research.google.com/assets/colab-badge.svg\" alt=\"Open In Colab\"/></a>"
      ]
    },
    {
      "cell_type": "markdown",
      "source": [
        "# **Calculate total energy of a system using DFT**"
      ],
      "metadata": {
        "id": "wftGICAT6xxC"
      }
    },
    {
      "cell_type": "markdown",
      "source": [
        "The Density Functional Theory (DFT) code calculates total energy for the molecule and output it in Hartrees. mf.kernel() method computes final ground-state energy after solving Kohn-Sham equations for system. (The Hamiltonian in contrast is operator that governs system)\n"
      ],
      "metadata": {
        "id": "aOSXP7wL6Dgg"
      }
    },
    {
      "cell_type": "code",
      "execution_count": null,
      "metadata": {
        "id": "7nreSbkR5yCo"
      },
      "outputs": [],
      "source": [
        "!pip install pyscf -q"
      ]
    },
    {
      "cell_type": "markdown",
      "source": [
        "#### **Water molecule (H₂O)**"
      ],
      "metadata": {
        "id": "5knHZsO_8NWT"
      }
    },
    {
      "cell_type": "markdown",
      "source": [
        "[Water molecule](https://en.m.wikipedia.org/wiki/Water) (H₂O) has a bent (or V-shaped) molecular geometry.\n",
        "\n",
        "![science](https://upload.wikimedia.org/wikipedia/commons/thumb/b/b7/H2O_2D_labelled.svg/320px-H2O_2D_labelled.svg.png)\n"
      ],
      "metadata": {
        "id": "SA7CyL0oAY5c"
      }
    },
    {
      "cell_type": "code",
      "source": [
        "from pyscf import gto, dft\n",
        "\n",
        "# Step 1: Define molecule using gto.M() function. Provide atomic positions in angstroms and basis set (here: cc-pvdz)\n",
        "mol = gto.M(\n",
        "    atom = '''\n",
        "        O  0.0000000   0.0000000   0.0000000\n",
        "        H  0.7586022   0.0000000   0.5042847\n",
        "        H -0.7586022   0.0000000   0.5042847\n",
        "    ''',\n",
        "    basis = 'cc-pvdz',  # Use a common basis set, good balance between accuracy and computational cost\n",
        ")\n",
        "\n",
        "# Step 2: Perform a DFT calculation using the B3LYP functional\n",
        "\n",
        "# dft.RKS for Restricted Kohn-Sham DFT appropriate for a closed-shell system (like water)\n",
        "mf = dft.RKS(mol)\n",
        "\n",
        "# Exchange-correlation functional is set using mf.xc = 'b3lyp' (popular hybrid functional)\n",
        "mf.xc = 'b3lyp'\n",
        "\n",
        "# mf.kernel() function performs actual DFT calculation and returns energy\n",
        "energy = mf.kernel()\n",
        "\n",
        "# Change the molecule, basis set, or DFT functional for other calculations\n",
        "\n",
        "print(f\"DFT energy for H2O using B3LYP: {energy} Hartree\")"
      ],
      "metadata": {
        "colab": {
          "base_uri": "https://localhost:8080/"
        },
        "id": "sVUJQnZ_6BSq",
        "outputId": "555d023c-cdba-4cbd-bb43-bf1b5a2ac8e1"
      },
      "execution_count": null,
      "outputs": [
        {
          "output_type": "stream",
          "name": "stderr",
          "text": [
            "/usr/local/lib/python3.10/dist-packages/pyscf/dft/libxc.py:1110: UserWarning: Since PySCF-2.3, B3LYP (and B3P86) are changed to the VWN-RPA variant, corresponding to the original definition by Stephens et al. (issue 1480) and the same as the B3LYP functional in Gaussian. To restore the VWN5 definition, you can put the setting \"B3LYP_WITH_VWN5 = True\" in pyscf_conf.py\n",
            "  warnings.warn('Since PySCF-2.3, B3LYP (and B3P86) are changed to the VWN-RPA variant, '\n"
          ]
        },
        {
          "output_type": "stream",
          "name": "stdout",
          "text": [
            "converged SCF energy = -76.4124561108163\n",
            "DFT energy for H2O using B3LYP: -76.41245611081627 Hartree\n"
          ]
        }
      ]
    },
    {
      "cell_type": "markdown",
      "source": [
        "#### **Ammonia (NH₃)**"
      ],
      "metadata": {
        "id": "xq_t20NJ9SZ0"
      }
    },
    {
      "cell_type": "markdown",
      "source": [
        "[Ammonia](https://en.m.wikipedia.org/wiki/Ammonia) (NH₃) has a Trigonal pyramidal structure with three hydrogen atoms forming a triangular base.\n",
        "\n",
        "![science](https://upload.wikimedia.org/wikipedia/commons/thumb/0/03/Ammoniak.svg/195px-Ammoniak.svg.png)\n"
      ],
      "metadata": {
        "id": "o7ttRrzK9orK"
      }
    },
    {
      "cell_type": "code",
      "source": [
        "from pyscf import gto, dft\n",
        "\n",
        "# Define the ammonia molecule (NH₃)\n",
        "mol = gto.Mole()\n",
        "mol.atom = '''\n",
        "    N  0.0000000   0.0000000   0.2000000\n",
        "    H  0.0000000   0.9433030  -0.2000000\n",
        "    H  0.8164970  -0.4716510  -0.2000000\n",
        "    H -0.8164970  -0.4716510  -0.2000000\n",
        "'''\n",
        "mol.basis = 'cc-pvdz'\n",
        "mol.verbose = 4\n",
        "mol.build()\n",
        "\n",
        "# Perform a DFT calculation using the B3LYP functional\n",
        "mf = dft.RKS(mol)\n",
        "mf.xc = 'b3lyp'\n",
        "energy = mf.kernel()\n",
        "\n",
        "print(f\"DFT energy for Ammonia (NH₃) using B3LYP: {energy} Hartree\")\n"
      ],
      "metadata": {
        "id": "cN2FaYBa9UbA",
        "outputId": "e20f9696-7488-4c6e-b942-7d950e598214",
        "colab": {
          "base_uri": "https://localhost:8080/"
        }
      },
      "execution_count": null,
      "outputs": [
        {
          "output_type": "stream",
          "name": "stdout",
          "text": [
            "System: uname_result(system='Linux', node='4fd708dbf2a1', release='6.1.85+', version='#1 SMP PREEMPT_DYNAMIC Thu Jun 27 21:05:47 UTC 2024', machine='x86_64')  Threads 2\n",
            "Python 3.10.12 (main, Sep 11 2024, 15:47:36) [GCC 11.4.0]\n",
            "numpy 1.26.4  scipy 1.13.1  h5py 3.11.0\n",
            "Date: Mon Sep 23 12:57:25 2024\n",
            "PySCF version 2.6.2\n",
            "PySCF path  /usr/local/lib/python3.10/dist-packages/pyscf\n",
            "\n",
            "[CONFIG] conf_file None\n",
            "[INPUT] verbose = 4\n",
            "[INPUT] num. atoms = 4\n",
            "[INPUT] num. electrons = 10\n",
            "[INPUT] charge = 0\n",
            "[INPUT] spin (= nelec alpha-beta = 2S) = 0\n",
            "[INPUT] symmetry False subgroup None\n",
            "[INPUT] Mole.unit = angstrom\n",
            "[INPUT] Symbol           X                Y                Z      unit          X                Y                Z       unit  Magmom\n",
            "[INPUT]  1 N      0.000000000000   0.000000000000   0.200000000000 AA    0.000000000000   0.000000000000   0.377945224913 Bohr   0.0\n",
            "[INPUT]  2 H      0.000000000000   0.943303000000  -0.200000000000 AA    0.000000000000   1.782584322481  -0.377945224913 Bohr   0.0\n",
            "[INPUT]  3 H      0.816497000000  -0.471651000000  -0.200000000000 AA    1.542955711529  -0.891291216377  -0.377945224913 Bohr   0.0\n",
            "[INPUT]  4 H     -0.816497000000  -0.471651000000  -0.200000000000 AA   -1.542955711529  -0.891291216377  -0.377945224913 Bohr   0.0\n",
            "\n",
            "nuclear repulsion = 11.820145192758\n",
            "number of shells = 14\n",
            "number of NR pGTOs = 47\n",
            "number of NR cGTOs = 29\n",
            "basis = cc-pvdz\n",
            "ecp = {}\n",
            "CPU time:         6.72\n",
            "\n",
            "\n",
            "******** <class 'pyscf.dft.rks.RKS'> ********\n",
            "method = RKS\n",
            "initial guess = minao\n",
            "damping factor = 0\n",
            "level_shift factor = 0\n",
            "DIIS = <class 'pyscf.scf.diis.CDIIS'>\n",
            "diis_start_cycle = 1\n",
            "diis_space = 8\n",
            "diis_damp = 0\n",
            "SCF conv_tol = 1e-09\n",
            "SCF conv_tol_grad = None\n",
            "SCF max_cycles = 50\n",
            "direct_scf = True\n",
            "direct_scf_tol = 1e-13\n",
            "chkfile to save SCF result = /tmp/tmp75xu6tyu\n",
            "max_memory 4000 MB (current use 173 MB)\n",
            "XC library pyscf.dft.libxc version 6.1.0\n",
            "    S. Lehtola, C. Steigemann, M. J.T. Oliveira, and M. A.L. Marques.,  SoftwareX 7, 1–5 (2018)\n",
            "XC functionals = b3lyp\n",
            "    P. J. Stephens, F. J. Devlin, C. F. Chabalowski, and M. J. Frisch.,  J. Phys. Chem. 98, 11623 (1994)\n",
            "radial grids: \n",
            "    Treutler-Ahlrichs [JCP 102, 346 (1995); DOI:10.1063/1.469408] (M4) radial grids\n",
            "    \n",
            "becke partition: Becke, JCP 88, 2547 (1988); DOI:10.1063/1.454033\n",
            "pruning grids: <function nwchem_prune at 0x7e45e46b12d0>\n",
            "grids dens level: 3\n",
            "symmetrized grids: False\n",
            "atomic radii adjust function: <function treutler_atomic_radii_adjust at 0x7e45e4ee7be0>\n",
            "small_rho_cutoff = 1e-07\n",
            "Set gradient conv threshold to 3.16228e-05\n",
            "Initial guess from minao.\n",
            "tot grids = 44120\n",
            "init E= -56.4428541574991\n",
            "  HOMO = -0.33115574243438  LUMO = 0.0201222015388542\n",
            "cycle= 1 E= -56.5184383534108  delta_E= -0.0756  |g|= 0.401  |ddm|= 1.54\n",
            "  HOMO = -0.151477360293576  LUMO = 0.0781472753659973\n",
            "cycle= 2 E= -56.4919925714468  delta_E= 0.0264  |g|= 0.531  |ddm|= 0.632\n",
            "  HOMO = -0.251933372020816  LUMO = 0.0549473541704234\n",
            "cycle= 3 E= -56.5540720245357  delta_E= -0.0621  |g|= 0.0182  |ddm|= 0.37\n",
            "  HOMO = -0.251129178228506  LUMO = 0.0573957077466951\n",
            "cycle= 4 E= -56.5541457166211  delta_E= -7.37e-05  |g|= 0.00206  |ddm|= 0.014\n",
            "  HOMO = -0.25133019707119  LUMO = 0.057215898816242\n",
            "cycle= 5 E= -56.5541465637511  delta_E= -8.47e-07  |g|= 0.000268  |ddm|= 0.00155\n",
            "  HOMO = -0.251423692158913  LUMO = 0.0571830310222143\n",
            "cycle= 6 E= -56.5541465802518  delta_E= -1.65e-08  |g|= 6e-06  |ddm|= 0.000196\n",
            "  HOMO = -0.251423633929711  LUMO = 0.0571833355765832\n",
            "cycle= 7 E= -56.5541465802736  delta_E= -2.18e-11  |g|= 1.04e-06  |ddm|= 1.6e-05\n",
            "  HOMO = -0.251423412153071  LUMO = 0.0571834283016293\n",
            "Extra cycle  E= -56.5541465802736  delta_E= -2.84e-14  |g|= 8.44e-07  |ddm|= 1.98e-06\n",
            "converged SCF energy = -56.5541465802736\n",
            "DFT energy for Ammonia (NH₃) using B3LYP: -56.554146580273645 Hartree\n"
          ]
        }
      ]
    },
    {
      "cell_type": "markdown",
      "source": [
        "The result from DFT calculation for ammonia (NH₃) — DFT energy for Ammonia (NH₃) using B3LYP: -56.554146580273645 Hartree — represents the total electronic energy of the ammonia molecule in its current configuration, computed using the Density Functional Theory (DFT) method with the B3LYP functional and the cc-pvdz basis set.\n",
        "\n",
        "* The energy, -56.554 Hartree, is the **ground-state electronic energy of the molecule in its optimized geometry**. This is the energy of all the electrons in the molecule interacting with the nuclei, accounting for the kinetic energy of the electrons, their interactions with the nuclear charges, the repulsion between electrons, and the exchange-correlation effects modeled by the B3LYP functional.\n",
        "* A Hartree (or atomic unit of energy) is a standard unit in quantum chemistry. **1 Hartree = 27.2114 eV (electron volts), which means this result is roughly -1538.73 eV**\n",
        "* The energy is negative because this a bound system. The system is stable because the electrons are bound to the nuclei, and a negative total energy indicates that the molecule is in a lower-energy, stable configuration. **The more negative the total energy, the more stable the molecule is.**\n",
        "* Ground-State Configuration value represents the electronic energy at the ground state - the energy is for the lowest possible configuration of electrons around the nuclei in ammonia.\n",
        "* The energy is calculated using the [B3LYP functional](https://en.m.wikipedia.org/wiki/Hybrid_functional) (a hybrid functional combining Becke's exchange functional with the Lee-Yang-Parr correlation functional). One of most commonly used functionals in computational chemistry with a good balance between accuracy and computational cost.\n",
        "* This result of total energy can be compared to different molecules or different geometries of same molecule. For example, to calculate energy for an excited state or a different configuration of ammonia (e.g., a stretched N-H bond), the total energy differs, and one can assess which configuration is more stable based on the energy values.\n"
      ],
      "metadata": {
        "id": "9dgbLal--ht-"
      }
    },
    {
      "cell_type": "markdown",
      "source": [
        "#### **Methane (CH₄)**"
      ],
      "metadata": {
        "id": "y6KY9T_X840N"
      }
    },
    {
      "cell_type": "markdown",
      "source": [
        "[Methane](https://en.m.wikipedia.org/wiki/Methane) (CH₄) has a Tetrahedral geometry with equal C-H bond lengths.\n",
        "\n",
        "![science](https://upload.wikimedia.org/wikipedia/commons/thumb/9/9b/Methane-2D-dimensions.svg/320px-Methane-2D-dimensions.svg.png)"
      ],
      "metadata": {
        "id": "qkhWxCD99koZ"
      }
    },
    {
      "cell_type": "code",
      "source": [
        "from pyscf import gto, dft\n",
        "\n",
        "# Define the methane molecule (CH₄)\n",
        "mol = gto.Mole()\n",
        "mol.atom = '''\n",
        "    C  0.0000000   0.0000000   0.0000000\n",
        "    H  0.6291180   0.6291180   0.6291180\n",
        "    H -0.6291180  -0.6291180   0.6291180\n",
        "    H  0.6291180  -0.6291180  -0.6291180\n",
        "    H -0.6291180   0.6291180  -0.6291180\n",
        "'''\n",
        "mol.basis = 'cc-pvdz'\n",
        "mol.verbose = 4\n",
        "mol.build()\n",
        "\n",
        "# Perform a DFT calculation using the B3LYP functional\n",
        "mf = dft.RKS(mol)\n",
        "mf.xc = 'b3lyp'\n",
        "energy = mf.kernel()\n",
        "\n",
        "print(f\"DFT energy for Methane (CH₄) using B3LYP: {energy} Hartree\")"
      ],
      "metadata": {
        "id": "KR6npc_H863I",
        "outputId": "f4554097-f9ab-4169-be41-5ace31715b20",
        "colab": {
          "base_uri": "https://localhost:8080/"
        }
      },
      "execution_count": null,
      "outputs": [
        {
          "output_type": "stream",
          "name": "stdout",
          "text": [
            "System: uname_result(system='Linux', node='4fd708dbf2a1', release='6.1.85+', version='#1 SMP PREEMPT_DYNAMIC Thu Jun 27 21:05:47 UTC 2024', machine='x86_64')  Threads 2\n",
            "Python 3.10.12 (main, Sep 11 2024, 15:47:36) [GCC 11.4.0]\n",
            "numpy 1.26.4  scipy 1.13.1  h5py 3.11.0\n",
            "Date: Mon Sep 23 12:56:36 2024\n",
            "PySCF version 2.6.2\n",
            "PySCF path  /usr/local/lib/python3.10/dist-packages/pyscf\n",
            "\n",
            "[CONFIG] conf_file None\n",
            "[INPUT] verbose = 4\n",
            "[INPUT] num. atoms = 5\n",
            "[INPUT] num. electrons = 10\n",
            "[INPUT] charge = 0\n",
            "[INPUT] spin (= nelec alpha-beta = 2S) = 0\n",
            "[INPUT] symmetry False subgroup None\n",
            "[INPUT] Mole.unit = angstrom\n",
            "[INPUT] Symbol           X                Y                Z      unit          X                Y                Z       unit  Magmom\n",
            "[INPUT]  1 C      0.000000000000   0.000000000000   0.000000000000 AA    0.000000000000   0.000000000000   0.000000000000 Bohr   0.0\n",
            "[INPUT]  2 H      0.629118000000   0.629118000000   0.629118000000 AA    1.188860720034   1.188860720034   1.188860720034 Bohr   0.0\n",
            "[INPUT]  3 H     -0.629118000000  -0.629118000000   0.629118000000 AA   -1.188860720034  -1.188860720034   1.188860720034 Bohr   0.0\n",
            "[INPUT]  4 H      0.629118000000  -0.629118000000  -0.629118000000 AA    1.188860720034  -1.188860720034  -1.188860720034 Bohr   0.0\n",
            "[INPUT]  5 H     -0.629118000000   0.629118000000  -0.629118000000 AA   -1.188860720034   1.188860720034  -1.188860720034 Bohr   0.0\n",
            "\n",
            "nuclear repulsion = 13.4395278899046\n",
            "number of shells = 17\n",
            "number of NR pGTOs = 54\n",
            "number of NR cGTOs = 34\n",
            "basis = cc-pvdz\n",
            "ecp = {}\n",
            "CPU time:         2.88\n",
            "\n",
            "\n",
            "******** <class 'pyscf.dft.rks.RKS'> ********\n",
            "method = RKS\n",
            "initial guess = minao\n",
            "damping factor = 0\n",
            "level_shift factor = 0\n",
            "DIIS = <class 'pyscf.scf.diis.CDIIS'>\n",
            "diis_start_cycle = 1\n",
            "diis_space = 8\n",
            "diis_damp = 0\n",
            "SCF conv_tol = 1e-09\n",
            "SCF conv_tol_grad = None\n",
            "SCF max_cycles = 50\n",
            "direct_scf = True\n",
            "direct_scf_tol = 1e-13\n",
            "chkfile to save SCF result = /tmp/tmpdod2n3ry\n",
            "max_memory 4000 MB (current use 142 MB)\n",
            "XC library pyscf.dft.libxc version 6.1.0\n",
            "    S. Lehtola, C. Steigemann, M. J.T. Oliveira, and M. A.L. Marques.,  SoftwareX 7, 1–5 (2018)\n",
            "XC functionals = b3lyp\n",
            "    P. J. Stephens, F. J. Devlin, C. F. Chabalowski, and M. J. Frisch.,  J. Phys. Chem. 98, 11623 (1994)\n",
            "radial grids: \n",
            "    Treutler-Ahlrichs [JCP 102, 346 (1995); DOI:10.1063/1.469408] (M4) radial grids\n",
            "    \n",
            "becke partition: Becke, JCP 88, 2547 (1988); DOI:10.1063/1.454033\n",
            "pruning grids: <function nwchem_prune at 0x7e45e46b12d0>\n",
            "grids dens level: 3\n",
            "symmetrized grids: False\n",
            "atomic radii adjust function: <function treutler_atomic_radii_adjust at 0x7e45e4ee7be0>\n",
            "small_rho_cutoff = 1e-07\n",
            "Set gradient conv threshold to 3.16228e-05\n",
            "Initial guess from minao.\n"
          ]
        },
        {
          "output_type": "stream",
          "name": "stderr",
          "text": [
            "/usr/local/lib/python3.10/dist-packages/pyscf/dft/libxc.py:1110: UserWarning: Since PySCF-2.3, B3LYP (and B3P86) are changed to the VWN-RPA variant, corresponding to the original definition by Stephens et al. (issue 1480) and the same as the B3LYP functional in Gaussian. To restore the VWN5 definition, you can put the setting \"B3LYP_WITH_VWN5 = True\" in pyscf_conf.py\n",
            "  warnings.warn('Since PySCF-2.3, B3LYP (and B3P86) are changed to the VWN-RPA variant, '\n"
          ]
        },
        {
          "output_type": "stream",
          "name": "stdout",
          "text": [
            "tot grids = 54000\n",
            "init E= -40.3265497639281\n",
            "  HOMO = -0.450070922171779  LUMO = 0.0328210281961182\n",
            "cycle= 1 E= -40.4934798774134  delta_E= -0.167  |g|= 0.286  |ddm|= 1.67\n",
            "  HOMO = -0.333471400759681  LUMO = 0.095659381133608\n",
            "cycle= 2 E= -40.4864319798434  delta_E= 0.00705  |g|= 0.329  |ddm|= 0.493\n",
            "  HOMO = -0.389912682985832  LUMO = 0.074876775348693\n",
            "cycle= 3 E= -40.5160832457423  delta_E= -0.0297  |g|= 0.00145  |ddm|= 0.258\n",
            "  HOMO = -0.390017978702249  LUMO = 0.0748319709095789\n",
            "cycle= 4 E= -40.5160837796302  delta_E= -5.34e-07  |g|= 0.000322  |ddm|= 0.00275\n",
            "  HOMO = -0.39014839179896  LUMO = 0.0747750811262947\n",
            "cycle= 5 E= -40.516083809316  delta_E= -2.97e-08  |g|= 6.72e-06  |ddm|= 0.000243\n",
            "  HOMO = -0.390143372895753  LUMO = 0.0747771185921628\n",
            "cycle= 6 E= -40.5160838093333  delta_E= -1.73e-11  |g|= 4.74e-07  |ddm|= 1.29e-05\n",
            "  HOMO = -0.39014372578021  LUMO = 0.0747769565136719\n",
            "Extra cycle  E= -40.5160838093335  delta_E= -1.85e-13  |g|= 4.98e-07  |ddm|= 6.73e-07\n",
            "converged SCF energy = -40.5160838093335\n",
            "DFT energy for Methane (CH₄) using B3LYP: -40.51608380933349 Hartree\n"
          ]
        }
      ]
    },
    {
      "cell_type": "markdown",
      "source": [
        "#### **Carbon Dioxide (CO₂)**"
      ],
      "metadata": {
        "id": "b925rozL9YXD"
      }
    },
    {
      "cell_type": "markdown",
      "source": [
        "[Carbon Dioxide](https://en.m.wikipedia.org/wiki/Carbon_dioxide) (CO₂) has a Linear structure with two oxygen atoms symmetrically arranged around the carbon atom.\n",
        "\n",
        "![science](https://upload.wikimedia.org/wikipedia/commons/thumb/1/1f/Carbon-dioxide-2D-dimensions.svg/320px-Carbon-dioxide-2D-dimensions.svg.png)"
      ],
      "metadata": {
        "id": "bb8oLA2t9r3x"
      }
    },
    {
      "cell_type": "code",
      "source": [
        "from pyscf import gto, dft\n",
        "\n",
        "# Define the carbon dioxide molecule (CO₂)\n",
        "mol = gto.Mole()\n",
        "mol.atom = '''\n",
        "    C   0.0000000   0.0000000   0.0000000\n",
        "    O   0.0000000   0.0000000   1.1600000\n",
        "    O   0.0000000   0.0000000  -1.1600000\n",
        "'''\n",
        "mol.basis = 'cc-pvdz'\n",
        "mol.verbose = 4\n",
        "mol.build()\n",
        "\n",
        "# Perform a DFT calculation using the B3LYP functional\n",
        "mf = dft.RKS(mol)\n",
        "mf.xc = 'b3lyp'\n",
        "energy = mf.kernel()\n",
        "\n",
        "print(f\"DFT energy for Carbon Dioxide (CO₂) using B3LYP: {energy} Hartree\")"
      ],
      "metadata": {
        "id": "oYaqIf_k9a2M",
        "outputId": "71752aca-1abf-4231-a7a4-603788980520",
        "colab": {
          "base_uri": "https://localhost:8080/"
        }
      },
      "execution_count": null,
      "outputs": [
        {
          "output_type": "stream",
          "name": "stdout",
          "text": [
            "System: uname_result(system='Linux', node='4fd708dbf2a1', release='6.1.85+', version='#1 SMP PREEMPT_DYNAMIC Thu Jun 27 21:05:47 UTC 2024', machine='x86_64')  Threads 2\n",
            "Python 3.10.12 (main, Sep 11 2024, 15:47:36) [GCC 11.4.0]\n",
            "numpy 1.26.4  scipy 1.13.1  h5py 3.11.0\n",
            "Date: Mon Sep 23 12:57:52 2024\n",
            "PySCF version 2.6.2\n",
            "PySCF path  /usr/local/lib/python3.10/dist-packages/pyscf\n",
            "\n",
            "[CONFIG] conf_file None\n",
            "[INPUT] verbose = 4\n",
            "[INPUT] num. atoms = 3\n",
            "[INPUT] num. electrons = 22\n",
            "[INPUT] charge = 0\n",
            "[INPUT] spin (= nelec alpha-beta = 2S) = 0\n",
            "[INPUT] symmetry False subgroup None\n",
            "[INPUT] Mole.unit = angstrom\n",
            "[INPUT] Symbol           X                Y                Z      unit          X                Y                Z       unit  Magmom\n",
            "[INPUT]  1 C      0.000000000000   0.000000000000   0.000000000000 AA    0.000000000000   0.000000000000   0.000000000000 Bohr   0.0\n",
            "[INPUT]  2 O      0.000000000000   0.000000000000   1.160000000000 AA    0.000000000000   0.000000000000   2.192082304495 Bohr   0.0\n",
            "[INPUT]  3 O      0.000000000000   0.000000000000  -1.160000000000 AA    0.000000000000   0.000000000000  -2.192082304495 Bohr   0.0\n",
            "\n",
            "nuclear repulsion = 58.3919681015173\n",
            "number of shells = 15\n",
            "number of NR pGTOs = 78\n",
            "number of NR cGTOs = 42\n",
            "basis = cc-pvdz\n",
            "ecp = {}\n",
            "CPU time:         9.53\n",
            "\n",
            "\n",
            "******** <class 'pyscf.dft.rks.RKS'> ********\n",
            "method = RKS\n",
            "initial guess = minao\n",
            "damping factor = 0\n",
            "level_shift factor = 0\n",
            "DIIS = <class 'pyscf.scf.diis.CDIIS'>\n",
            "diis_start_cycle = 1\n",
            "diis_space = 8\n",
            "diis_damp = 0\n",
            "SCF conv_tol = 1e-09\n",
            "SCF conv_tol_grad = None\n",
            "SCF max_cycles = 50\n",
            "direct_scf = True\n",
            "direct_scf_tol = 1e-13\n",
            "chkfile to save SCF result = /tmp/tmpmyrm16ld\n",
            "max_memory 4000 MB (current use 173 MB)\n",
            "XC library pyscf.dft.libxc version 6.1.0\n",
            "    S. Lehtola, C. Steigemann, M. J.T. Oliveira, and M. A.L. Marques.,  SoftwareX 7, 1–5 (2018)\n",
            "XC functionals = b3lyp\n",
            "    P. J. Stephens, F. J. Devlin, C. F. Chabalowski, and M. J. Frisch.,  J. Phys. Chem. 98, 11623 (1994)\n",
            "radial grids: \n",
            "    Treutler-Ahlrichs [JCP 102, 346 (1995); DOI:10.1063/1.469408] (M4) radial grids\n",
            "    \n",
            "becke partition: Becke, JCP 88, 2547 (1988); DOI:10.1063/1.454033\n",
            "pruning grids: <function nwchem_prune at 0x7e45e46b12d0>\n",
            "grids dens level: 3\n",
            "symmetrized grids: False\n",
            "atomic radii adjust function: <function treutler_atomic_radii_adjust at 0x7e45e4ee7be0>\n",
            "small_rho_cutoff = 1e-07\n",
            "Set gradient conv threshold to 3.16228e-05\n",
            "Initial guess from minao.\n",
            "tot grids = 42432\n",
            "init E= -189.105396194364\n",
            "  HOMO = -0.432395570708512  LUMO = -0.00357018684568126\n",
            "cycle= 1 E= -188.442635976643  delta_E= 0.663  |g|= 0.922  |ddm|= 2.03\n",
            "  HOMO = -0.270557867913382  LUMO = 0.0505454201518702\n",
            "cycle= 2 E= -188.117302929461  delta_E= 0.325  |g|= 1.63  |ddm|= 1.29\n",
            "  HOMO = -0.359541932948253  LUMO = 0.0466099170486651\n",
            "cycle= 3 E= -188.597917065767  delta_E= -0.481  |g|= 0.0364  |ddm|= 0.839\n",
            "  HOMO = -0.37046801413483  LUMO = 0.0344669452829247\n",
            "cycle= 4 E= -188.598194728862  delta_E= -0.000278  |g|= 0.0147  |ddm|= 0.0447\n",
            "  HOMO = -0.367572761635072  LUMO = 0.0382432490398612\n",
            "cycle= 5 E= -188.59824274714  delta_E= -4.8e-05  |g|= 0.00178  |ddm|= 0.0113\n",
            "  HOMO = -0.367666454353059  LUMO = 0.0382995516291005\n",
            "cycle= 6 E= -188.598243231453  delta_E= -4.84e-07  |g|= 0.000286  |ddm|= 0.000753\n",
            "  HOMO = -0.367682431113626  LUMO = 0.0382981962132932\n",
            "cycle= 7 E= -188.598243245819  delta_E= -1.44e-08  |g|= 1.02e-05  |ddm|= 0.000155\n",
            "  HOMO = -0.367682534087345  LUMO = 0.0382985784327345\n",
            "cycle= 8 E= -188.59824324584  delta_E= -2.05e-11  |g|= 4.12e-07  |ddm|= 8.16e-06\n",
            "  HOMO = -0.367682464516367  LUMO = 0.038298578269929\n",
            "Extra cycle  E= -188.598243245839  delta_E= 4.55e-13  |g|= 6.95e-07  |ddm|= 5.6e-07\n",
            "converged SCF energy = -188.598243245839\n",
            "DFT energy for Carbon Dioxide (CO₂) using B3LYP: -188.59824324583923 Hartree\n"
          ]
        }
      ]
    },
    {
      "cell_type": "markdown",
      "source": [
        "#### **Molecular Symmetry**"
      ],
      "metadata": {
        "id": "J9U36K01DJSW"
      }
    },
    {
      "cell_type": "markdown",
      "source": [
        "[Water molecule](https://en.m.wikipedia.org/wiki/Water) (H₂O) has a bent (or V-shaped) molecular geometry.\n",
        "\n",
        "![science](https://upload.wikimedia.org/wikipedia/commons/thumb/b/b7/H2O_2D_labelled.svg/320px-H2O_2D_labelled.svg.png)\n",
        "\n",
        "* Bond Angle: The bond angle between the two hydrogen atoms in water is approximately 104.5°. This bond angle is smaller than the ideal tetrahedral angle (109.5°) due to the presence of lone pairs on the oxygen atom, which exert greater repulsion on the hydrogen atoms.\n",
        "\n",
        "* Electron Pair Geometry: the oxygen atom in H₂O has two lone pairs of electrons and two bonding pairs (with hydrogen atoms). In terms of electron pair geometry, water is tetrahedral, because the lone pairs are considered when predicting electron repulsion.\n",
        "\n",
        "* Bent Shape: Due to the lone pairs, the actual molecular shape of H₂O is bent, as the two lone pairs on the oxygen atom push the hydrogen atoms closer together, resulting in the bent shape.\n",
        "\n",
        "Why Water is Bent:\n",
        "* The oxygen atom in H₂O has four electron pairs: two bonding pairs (with hydrogen atoms) and two lone pairs. According to **VSEPR theory (Valence Shell Electron Pair Repulsion)**, electron pairs (both bonding and lone pairs) repel each other, arranging themselves as far apart as possible to minimize repulsion.\n",
        "* Although the electron pair geometry is tetrahedral, the presence of lone pairs distorts the geometry, leading to a bent shape.\n",
        "* This bent geometry of water is critical to its unique properties, such as its polarity and ability to form hydrogen bonds, which are fundamental to its role in chemistry and biology.\n",
        "\n",
        "https://chem.libretexts.org/Courses/Saint_Marys_College_Notre_Dame_IN/CHEM_431%3A_Inorganic_Chemistry_%28Haas%29/CHEM_431_Readings/06%3A_Using_Character_Tables_and_Generating_SALCS_for_MO_Diagrams/6.02%3A_Molecular_Orbital_Theory_for_Larger_%28Polyatomic%29_Molecules/6.2.03%3A_H2O"
      ],
      "metadata": {
        "id": "FsbFFAn7Dc5H"
      }
    },
    {
      "cell_type": "markdown",
      "source": [
        "![sciences](https://raw.githubusercontent.com/deltorobarba/repo/master/sciences_1822.png)"
      ],
      "metadata": {
        "id": "TrCU0GQ4DYBZ"
      }
    },
    {
      "cell_type": "markdown",
      "source": [
        "Molecular Symmetry and Bent Geometry:\n",
        "* Water (H₂O) has a bent geometry with an approximate bond angle of 104.5° between the two hydrogen atoms.\n",
        "* In this coordinate system, the oxygen atom is placed at the origin (0, 0, 0), and the two hydrogen atoms are symmetrically placed around the oxygen, but in opposite directions along the x-axis.\n",
        "* The coordinates 0.7586022 and -0.7586022 for the x-axis represent the symmetrical placement of the two hydrogen atoms relative to the oxygen atom.\n",
        "  * The first hydrogen atom is located at x = +0.7586022, meaning it is positioned to the right of the oxygen atom along the x-axis.\n",
        "  * The second hydrogen atom is located at x = -0.7586022, meaning it is positioned to the left of the oxygen atom along the x-axis.\n",
        "* Same z-Coordinate for Both Hydrogens:\n",
        "  * Both hydrogen atoms share the same positive z-coordinate (0.5042847), which means they are positioned above the xy-plane in this coordinate system.\n",
        "  * This arrangement reflects the bent structure of the water molecule, with both hydrogen atoms being tilted up relative to the oxygen atom.\n",
        "\n",
        "```\n",
        "       H\n",
        "       |\n",
        "  H -- O\n",
        "```\n",
        "\n",
        "* In this simplified setup, the oxygen atom (O) is placed at the center of the coordinate system, while the two hydrogen atoms (H) are symmetrically positioned along the x-axis and tilted upward along the z-axis. The negative x-value for the second hydrogen simply means it's on the opposite side of the oxygen compared to the first hydrogen atom.\n",
        "\n",
        "* Why One Hydrogen is Negative on x and Positive on z:\n",
        "  * The x-axis defines the horizontal direction: One hydrogen is on the right of oxygen (positive x), and the other is on the left of oxygen (negative x).\n",
        "  * The z-axis defines the vertical direction: Both hydrogen atoms are tilted upward from the plane where oxygen lies (positive z)."
      ],
      "metadata": {
        "id": "VT728QgOBvXc"
      }
    },
    {
      "cell_type": "markdown",
      "source": [
        "**Find molecular geometry** (i.e., the atomic coordinates) for a molecule - the molecular structure and atomic positions in Cartesian coordinates (often given in Angstroms):\n",
        "* Chemical Databases provide 3D structures of molecules, including atomic coordinates. Here are a few popular ones like\n",
        "  * [PubChem](https://pubchem.ncbi.nlm.nih.gov) for small molecules under \"3D Conformer\" section to view and download **3D structure** in **SDF** or **XYZ**\n",
        "  * [CCDC - Cambridge Structural Database (CSD)](https://www.ccdc.cam.ac.uk) for high-quality crystallographic data for many organic and organometallic compounds\n",
        "  * [NIST Chemistry WebBook](https://webbook.nist.gov/chemistry/struct/) for molecular data, including 3D structures, thermodynamic properties and spectroscopic data, for a wide variety of molecules.\n",
        "  * [Protein Data Bank (PDB)](https://www.rcsb.org) for biological macromolecules like proteins, but small molecules like ligands, solvents, and inhibitors often have detailed 3D structures.\n",
        "\n",
        "* Online Geometry Optimization Tools that calculate the optimal geometry using quantum chemistry methods.\n",
        "  * [Avogadro](https://avogadro.cc) to build molecules and optimize their geometries using various force fields or quantum chemistry methods in formats **XYZ**, **PDB**, or **GJF**.\n",
        "  * [WebMO](https://www.webmo.net) for computational chemistry programs like Gaussian and NWChem to build a molecule and run calculations to get optimized geometries.\n",
        "\n",
        "* Quantum Chemistry Software to calculate the molecular geometry from scratch, many quantum chemistry programs (like PySCF, Gaussian, ORCA, etc.) can optimize the geometry of a molecule using methods such as **Density Functional Theory (DFT)** or **Hartree-Fock (HF)**. PySCF Geometry Optimization: If you already know the atomic composition of a molecule but not the exact coordinates, you can start with approximate coordinates (or guess coordinates) and use PySCF (or similar software) to perform a **geometry optimization** and get the exact structure.\n",
        "\n"
      ],
      "metadata": {
        "id": "bRHhMiwtDzh9"
      }
    }
  ]
}