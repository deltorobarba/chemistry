{
  "nbformat": 4,
  "nbformat_minor": 0,
  "metadata": {
    "colab": {
      "provenance": [],
      "authorship_tag": "ABX9TyPBQRhzqjOgwaWpZO70Ty9E",
      "include_colab_link": true
    },
    "kernelspec": {
      "name": "python3",
      "display_name": "Python 3"
    },
    "language_info": {
      "name": "python"
    }
  },
  "cells": [
    {
      "cell_type": "markdown",
      "metadata": {
        "id": "view-in-github",
        "colab_type": "text"
      },
      "source": [
        "<a href=\"https://colab.research.google.com/github/deltorobarba/astrophysics/blob/main/geometry_optimization.ipynb\" target=\"_parent\"><img src=\"https://colab.research.google.com/assets/colab-badge.svg\" alt=\"Open In Colab\"/></a>"
      ]
    },
    {
      "cell_type": "markdown",
      "source": [
        "# **Geometry Optimization in Chemistry**"
      ],
      "metadata": {
        "id": "CGsEK1-j8RrY"
      }
    },
    {
      "cell_type": "markdown",
      "source": [
        "Geometry optimization is useful because the initial guess for the atomic positions of a molecule might not correspond to the lowest energy configuration. Through optimization, you refine these positions to get the most stable configuration, which is typically the geometry found in experiments. Geometry optimization can be done using external optimizers like SciPy or by using PySCF's built-in geometric_solver function.\n",
        "\n"
      ],
      "metadata": {
        "id": "I-V9JEZI8ecv"
      }
    },
    {
      "cell_type": "markdown",
      "source": [
        "**Geometry Optimization of the molecule Ammonia, NH₃**"
      ],
      "metadata": {
        "id": "PkmfU80I8sYB"
      }
    },
    {
      "cell_type": "code",
      "source": [
        "!pip install pyscf -q\n",
        "!pip install pyscf geometric -q\n",
        "\n",
        "#### Code for Geometry Optimization:\n",
        "from pyscf import gto, dft\n",
        "from pyscf.geomopt.geometric_solver import optimize\n",
        "\n",
        "# Define the molecule with a rough guess for geometry (initial atomic positions)\n",
        "# These positions don't need to be exact, as the optimization will refine them\n",
        "mol = gto.Mole()\n",
        "mol.atom = '''\n",
        "    N  0.0000  0.0000  0.2000\n",
        "    H  0.0000  0.9433 -0.2000\n",
        "    H  0.8165 -0.4717 -0.2000\n",
        "    H -0.8165 -0.4717 -0.2000\n",
        "'''\n",
        "mol.basis = 'cc-pvdz'\n",
        "mol.build()\n",
        "\n",
        "# Perform geometry optimization using DFT\n",
        "mf = dft.RKS(mol)\n",
        "mf.xc = 'b3lyp'       # Define the exchange-correlation functional\n",
        "mol_eq = optimize(mf) # This function iteratively adjusts positions of atoms to minimize total energy of system\n",
        "\n",
        "# Print optimized coordinates. This geometry corresponds to lowest energy configuration found during optimization process\n",
        "print(\"Optimized Geometry (in Angstroms):\")\n",
        "print(mol_eq.atom_coords())"
      ],
      "metadata": {
        "id": "SC1unqhyRitU",
        "outputId": "3d472123-15a8-42ed-f25c-ed3f7999b4c7",
        "colab": {
          "base_uri": "https://localhost:8080/"
        }
      },
      "execution_count": 4,
      "outputs": [
        {
          "output_type": "stream",
          "name": "stderr",
          "text": [
            "geometric-optimize called with the following command line:\n",
            "/usr/local/lib/python3.10/dist-packages/colab_kernel_launcher.py -f /root/.local/share/jupyter/runtime/kernel-d7eda4ec-22db-4dd3-9f3d-b4ef9cd23030.json\n",
            "\n",
            "                                        \u001b[91m())))))))))))))))/\u001b[0m                     \n",
            "                                    \u001b[91m())))))))))))))))))))))))),\u001b[0m                \n",
            "                                \u001b[91m*)))))))))))))))))))))))))))))))))\u001b[0m             \n",
            "                        \u001b[94m#,\u001b[0m    \u001b[91m()))))))))/\u001b[0m                \u001b[91m.)))))))))),\u001b[0m          \n",
            "                      \u001b[94m#%%%%,\u001b[0m  \u001b[91m())))))\u001b[0m                        \u001b[91m.))))))))*\u001b[0m        \n",
            "                      \u001b[94m*%%%%%%,\u001b[0m  \u001b[91m))\u001b[0m              \u001b[93m..\u001b[0m              \u001b[91m,))))))).\u001b[0m      \n",
            "                        \u001b[94m*%%%%%%,\u001b[0m         \u001b[93m***************/.\u001b[0m        \u001b[91m.)))))))\u001b[0m     \n",
            "                \u001b[94m#%%/\u001b[0m      \u001b[94m(%%%%%%,\u001b[0m    \u001b[93m/*********************.\u001b[0m       \u001b[91m)))))))\u001b[0m    \n",
            "              \u001b[94m.%%%%%%#\u001b[0m      \u001b[94m*%%%%%%,\u001b[0m  \u001b[93m*******/,\u001b[0m     \u001b[93m**********,\u001b[0m      \u001b[91m.))))))\u001b[0m   \n",
            "                \u001b[94m.%%%%%%/\u001b[0m      \u001b[94m*%%%%%%,\u001b[0m  \u001b[93m**\u001b[0m              \u001b[93m********\u001b[0m      \u001b[91m.))))))\u001b[0m  \n",
            "          \u001b[94m##\u001b[0m      \u001b[94m.%%%%%%/\u001b[0m      \u001b[94m(%%%%%%,\u001b[0m                  \u001b[93m,******\u001b[0m      \u001b[91m/)))))\u001b[0m  \n",
            "        \u001b[94m%%%%%%\u001b[0m      \u001b[94m.%%%%%%#\u001b[0m      \u001b[94m*%%%%%%,\u001b[0m    \u001b[92m,/////.\u001b[0m       \u001b[93m******\u001b[0m      \u001b[91m))))))\u001b[0m \n",
            "      \u001b[94m#%\u001b[0m      \u001b[94m%%\u001b[0m      \u001b[94m.%%%%%%/\u001b[0m      \u001b[94m*%%%%%%,\u001b[0m  \u001b[92m////////,\u001b[0m      \u001b[93m*****/\u001b[0m     \u001b[91m,)))))\u001b[0m \n",
            "    \u001b[94m#%%\u001b[0m  \u001b[94m%%%\u001b[0m  \u001b[94m%%%#\u001b[0m      \u001b[94m.%%%%%%/\u001b[0m      \u001b[94m(%%%%%%,\u001b[0m  \u001b[92m///////.\u001b[0m     \u001b[93m/*****\u001b[0m      \u001b[91m))))).\u001b[0m\n",
            "  \u001b[94m#%%%%.\u001b[0m      \u001b[94m%%%%%#\u001b[0m      \u001b[94m/%%%%%%*\u001b[0m      \u001b[94m#%%%%%%\u001b[0m   \u001b[92m/////)\u001b[0m     \u001b[93m******\u001b[0m      \u001b[91m))))),\u001b[0m\n",
            "    \u001b[94m#%%%%##%\u001b[0m  \u001b[94m%%%#\u001b[0m      \u001b[94m.%%%%%%/\u001b[0m      \u001b[94m(%%%%%%,\u001b[0m  \u001b[92m///////.\u001b[0m     \u001b[93m/*****\u001b[0m      \u001b[91m))))).\u001b[0m\n",
            "      \u001b[94m##\u001b[0m     \u001b[94m%%%\u001b[0m      \u001b[94m.%%%%%%/\u001b[0m      \u001b[94m*%%%%%%,\u001b[0m  \u001b[92m////////.\u001b[0m      \u001b[93m*****/\u001b[0m     \u001b[91m,)))))\u001b[0m \n",
            "        \u001b[94m#%%%%#\u001b[0m      \u001b[94m/%%%%%%/\u001b[0m      \u001b[94m(%%%%%%\u001b[0m      \u001b[92m/)/)//\u001b[0m       \u001b[93m******\u001b[0m      \u001b[91m))))))\u001b[0m \n",
            "          \u001b[94m##\u001b[0m      \u001b[94m.%%%%%%/\u001b[0m      \u001b[94m(%%%%%%,\u001b[0m                  \u001b[93m*******\u001b[0m      \u001b[91m))))))\u001b[0m  \n",
            "                \u001b[94m.%%%%%%/\u001b[0m      \u001b[94m*%%%%%%,\u001b[0m  \u001b[93m**.\u001b[0m             \u001b[93m/*******\u001b[0m      \u001b[91m.))))))\u001b[0m  \n",
            "              \u001b[94m*%%%%%%/\u001b[0m      \u001b[94m(%%%%%%\u001b[0m   \u001b[93m********/*..,*/*********\u001b[0m       \u001b[91m*))))))\u001b[0m   \n",
            "                \u001b[94m#%%/\u001b[0m      \u001b[94m(%%%%%%,\u001b[0m    \u001b[93m*********************/\u001b[0m        \u001b[91m)))))))\u001b[0m    \n",
            "                        \u001b[94m*%%%%%%,\u001b[0m         \u001b[93m,**************/\u001b[0m         \u001b[91m,))))))/\u001b[0m     \n",
            "                      \u001b[94m(%%%%%%\u001b[0m   \u001b[91m()\u001b[0m                              \u001b[91m))))))))\u001b[0m       \n",
            "                      \u001b[94m#%%%%,\u001b[0m  \u001b[91m())))))\u001b[0m                        \u001b[91m,)))))))),\u001b[0m        \n",
            "                        \u001b[94m#,\u001b[0m    \u001b[91m())))))))))\u001b[0m                \u001b[91m,)))))))))).\u001b[0m          \n",
            "                                 \u001b[91m()))))))))))))))))))))))))))))))/\u001b[0m             \n",
            "                                    \u001b[91m())))))))))))))))))))))))).\u001b[0m                \n",
            "                                         \u001b[91m())))))))))))))),\u001b[0m                     \n",
            "\n",
            "-=# \u001b[1;94m geomeTRIC started. Version: 1.0.2 \u001b[0m #=-\n",
            "Current date and time: 2024-09-24 13:49:28\n",
            "Custom engine selected.\n",
            "Bonds will be generated from interatomic distances less than 1.20 times sum of covalent radii\n",
            "12 internal coordinates being used (instead of 12 Cartesians)\n",
            "Internal coordinate system (atoms numbered from 1):\n",
            "Distance 1-2\n",
            "Distance 1-3\n",
            "Distance 1-4\n",
            "Angle 2-1-3\n",
            "Angle 2-1-4\n",
            "Angle 3-1-4\n",
            "Translation-X 1-4\n",
            "Translation-Y 1-4\n",
            "Translation-Z 1-4\n",
            "Rotation-A 1-4\n",
            "Rotation-B 1-4\n",
            "Rotation-C 1-4\n",
            "<class 'geometric.internal.Distance'> : 3\n",
            "<class 'geometric.internal.Angle'> : 3\n",
            "<class 'geometric.internal.TranslationX'> : 1\n",
            "<class 'geometric.internal.TranslationY'> : 1\n",
            "<class 'geometric.internal.TranslationZ'> : 1\n",
            "<class 'geometric.internal.RotationA'> : 1\n",
            "<class 'geometric.internal.RotationB'> : 1\n",
            "<class 'geometric.internal.RotationC'> : 1\n",
            "> ===== Optimization Info: ====\n",
            "> Job type: Energy minimization\n",
            "> Maximum number of optimization cycles: 300\n",
            "> Initial / maximum trust radius (Angstrom): 0.100 / 0.300\n",
            "> Convergence Criteria:\n",
            "> Will converge when all 5 criteria are reached:\n",
            ">  |Delta-E| < 1.00e-06\n",
            ">  RMS-Grad  < 3.00e-04\n",
            ">  Max-Grad  < 4.50e-04\n",
            ">  RMS-Disp  < 1.20e-03\n",
            ">  Max-Disp  < 1.80e-03\n",
            "> === End Optimization Info ===\n"
          ]
        },
        {
          "output_type": "stream",
          "name": "stdout",
          "text": [
            "\n",
            "Geometry optimization cycle 1\n",
            "Cartesian coordinates (Angstrom)\n",
            " Atom        New coordinates             dX        dY        dZ\n",
            "   N   0.000000   0.000000   0.200000    0.000000  0.000000  0.000000\n",
            "   H   0.000000   0.943300  -0.200000    0.000000  0.000000  0.000000\n",
            "   H   0.816500  -0.471700  -0.200000    0.000000  0.000000  0.000000\n",
            "   H  -0.816500  -0.471700  -0.200000    0.000000  0.000000  0.000000\n",
            "converged SCF energy = -56.5541464166483\n",
            "--------------- RKS_Scanner gradients ---------------\n",
            "         x                y                z\n",
            "0 N    -0.0000000000    -0.0001759544    -0.0033521685\n",
            "1 H    -0.0000000000     0.0019081551     0.0010657715\n",
            "2 H     0.0013950752    -0.0008659377     0.0011417704\n",
            "3 H    -0.0013950752    -0.0008659377     0.0011417704\n",
            "----------------------------------------------\n",
            "cycle 1: E = -56.5541464166  dE = -56.5541  norm(grad) = 0.00490351\n"
          ]
        },
        {
          "output_type": "stream",
          "name": "stderr",
          "text": [
            "Step    0 : Gradient = 2.452e-03/3.357e-03 (rms/max) Energy = -56.5541464166\n",
            "Hessian Eigenvalues: 5.00000e-02 5.00000e-02 5.00000e-02 ... 4.36115e-01 4.36604e-01 4.36604e-01\n"
          ]
        },
        {
          "output_type": "stream",
          "name": "stdout",
          "text": [
            "\n",
            "Geometry optimization cycle 2\n",
            "Cartesian coordinates (Angstrom)\n",
            " Atom        New coordinates             dX        dY        dZ\n",
            "   N   0.000000  -0.000038   0.211031    0.000000 -0.000038  0.011031\n",
            "   H   0.000000   0.935133  -0.203625    0.000000 -0.008167 -0.003625\n",
            "   H   0.809913  -0.467604  -0.203643   -0.006587  0.004096 -0.003643\n",
            "   H  -0.809913  -0.467604  -0.203643    0.006587  0.004096 -0.003643\n",
            "converged SCF energy = -56.554243443975\n",
            "--------------- RKS_Scanner gradients ---------------\n",
            "         x                y                z\n",
            "0 N     0.0000000000     0.0000118977    -0.0022762862\n",
            "1 H    -0.0000000000    -0.0009043009     0.0007601288\n",
            "2 H    -0.0007626198     0.0004464020     0.0007566953\n",
            "3 H     0.0007626198     0.0004464020     0.0007566953\n",
            "----------------------------------------------\n",
            "cycle 2: E = -56.554243444  dE = -9.70273e-05  norm(grad) = 0.00304698\n"
          ]
        },
        {
          "output_type": "stream",
          "name": "stderr",
          "text": [
            "Step    1 : Displace = \u001b[0m9.333e-03\u001b[0m/\u001b[0m1.100e-02\u001b[0m (rms/max) Trust = 1.000e-01 (=) Grad = \u001b[0m1.523e-03\u001b[0m/\u001b[0m2.276e-03\u001b[0m (rms/max) E (change) = -56.5542434440 (\u001b[0m-9.703e-05\u001b[0m) Quality = \u001b[0m1.129\u001b[0m\n",
            "Hessian Eigenvalues: 4.99998e-02 5.00000e-02 5.00000e-02 ... 4.36234e-01 4.36604e-01 5.23135e-01\n"
          ]
        },
        {
          "output_type": "stream",
          "name": "stdout",
          "text": [
            "\n",
            "Geometry optimization cycle 3\n",
            "Cartesian coordinates (Angstrom)\n",
            " Atom        New coordinates             dX        dY        dZ\n",
            "   N   0.000000  -0.000050   0.214943   -0.000000 -0.000011  0.003911\n",
            "   H   0.000000   0.934399  -0.204852    0.000000 -0.000734 -0.001226\n",
            "   H   0.809270  -0.467242  -0.204913   -0.000643  0.000362 -0.001270\n",
            "   H  -0.809270  -0.467242  -0.204913    0.000643  0.000362 -0.001270\n",
            "converged SCF energy = -56.5542541886924\n",
            "--------------- RKS_Scanner gradients ---------------\n",
            "         x                y                z\n",
            "0 N     0.0000000000     0.0000129224    -0.0004109802\n",
            "1 H     0.0000000000    -0.0002674875     0.0001387828\n",
            "2 H    -0.0002131714     0.0001274806     0.0001347890\n",
            "3 H     0.0002131714     0.0001274806     0.0001347890\n",
            "----------------------------------------------\n",
            "cycle 3: E = -56.5542541887  dE = -1.07447e-05  norm(grad) = 0.000647769\n"
          ]
        },
        {
          "output_type": "stream",
          "name": "stderr",
          "text": [
            "Step    2 : Displace = \u001b[0m2.326e-03\u001b[0m/\u001b[0m3.875e-03\u001b[0m (rms/max) Trust = 1.414e-01 (\u001b[92m+\u001b[0m) Grad = \u001b[0m3.239e-04\u001b[0m/\u001b[92m4.112e-04\u001b[0m (rms/max) E (change) = -56.5542541887 (\u001b[0m-1.074e-05\u001b[0m) Quality = \u001b[0m1.155\u001b[0m\n",
            "Hessian Eigenvalues: 4.99974e-02 5.00000e-02 5.00000e-02 ... 4.36201e-01 4.36604e-01 4.60292e-01\n"
          ]
        },
        {
          "output_type": "stream",
          "name": "stdout",
          "text": [
            "\n",
            "Geometry optimization cycle 4\n",
            "Cartesian coordinates (Angstrom)\n",
            " Atom        New coordinates             dX        dY        dZ\n",
            "   N   0.000000  -0.000062   0.215504   -0.000000 -0.000012  0.000562\n",
            "   H   0.000000   0.934532  -0.204965    0.000000  0.000133 -0.000114\n",
            "   H   0.809354  -0.467312  -0.205069    0.000084 -0.000070 -0.000156\n",
            "   H  -0.809354  -0.467312  -0.205069   -0.000084 -0.000070 -0.000156\n",
            "converged SCF energy = -56.5542545491679\n",
            "--------------- RKS_Scanner gradients ---------------\n",
            "         x                y                z\n",
            "0 N    -0.0000000000     0.0000009510    -0.0000046493\n",
            "1 H    -0.0000000000    -0.0000071970    -0.0000002281\n",
            "2 H    -0.0000060305     0.0000033206     0.0000011428\n",
            "3 H     0.0000060305     0.0000033206     0.0000011428\n",
            "----------------------------------------------\n",
            "cycle 4: E = -56.5542545492  dE = -3.60475e-07  norm(grad) = 1.3106e-05\n"
          ]
        },
        {
          "output_type": "stream",
          "name": "stderr",
          "text": [
            "Step    3 : Displace = \u001b[92m3.214e-04\u001b[0m/\u001b[92m5.278e-04\u001b[0m (rms/max) Trust = 2.000e-01 (\u001b[92m+\u001b[0m) Grad = \u001b[92m6.553e-06\u001b[0m/\u001b[92m7.201e-06\u001b[0m (rms/max) E (change) = -56.5542545492 (\u001b[92m-3.605e-07\u001b[0m) Quality = \u001b[0m1.009\u001b[0m\n",
            "Hessian Eigenvalues: 4.99974e-02 5.00000e-02 5.00000e-02 ... 4.36201e-01 4.36604e-01 4.60292e-01\n",
            "Converged! =D\n",
            "\n",
            "    #==========================================================================#\n",
            "    #| If this code has benefited your research, please support us by citing: |#\n",
            "    #|                                                                        |#\n",
            "    #| Wang, L.-P.; Song, C.C. (2016) \"Geometry optimization made simple with |#\n",
            "    #| translation and rotation coordinates\", J. Chem, Phys. 144, 214108.     |#\n",
            "    #| http://dx.doi.org/10.1063/1.4952956                                    |#\n",
            "    #==========================================================================#\n",
            "    Time elapsed since start of run_optimizer: 10.163 seconds\n"
          ]
        },
        {
          "output_type": "stream",
          "name": "stdout",
          "text": [
            "Optimized Geometry (in Angstroms):\n",
            "[[ 1.17211258e-13 -1.17285409e-04  4.07243788e-01]\n",
            " [ 2.62175656e-13  1.76600886e+00 -3.87327908e-01]\n",
            " [ 1.52945799e+00 -8.83092020e-01 -3.87524279e-01]\n",
            " [-1.52945799e+00 -8.83092020e-01 -3.87524279e-01]]\n"
          ]
        }
      ]
    }
  ]
}