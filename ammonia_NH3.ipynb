{
  "nbformat": 4,
  "nbformat_minor": 0,
  "metadata": {
    "colab": {
      "provenance": [],
      "authorship_tag": "ABX9TyMukib+qS1CWgPYG19gHapW",
      "include_colab_link": true
    },
    "kernelspec": {
      "name": "python3",
      "display_name": "Python 3"
    },
    "language_info": {
      "name": "python"
    }
  },
  "cells": [
    {
      "cell_type": "markdown",
      "metadata": {
        "id": "view-in-github",
        "colab_type": "text"
      },
      "source": [
        "<a href=\"https://colab.research.google.com/github/deltorobarba/chemistry/blob/main/ammonia_NH3.ipynb\" target=\"_parent\"><img src=\"https://colab.research.google.com/assets/colab-badge.svg\" alt=\"Open In Colab\"/></a>"
      ]
    },
    {
      "cell_type": "markdown",
      "source": [
        "# **Ammonia (NH₃)**"
      ],
      "metadata": {
        "id": "xq_t20NJ9SZ0"
      }
    },
    {
      "cell_type": "markdown",
      "source": [
        "**Geometry Optimization using DFT-SCF**"
      ],
      "metadata": {
        "id": "NE6VJC2j31ha"
      }
    },
    {
      "cell_type": "code",
      "source": [
        "!pip install pyscf -q\n",
        "!pip install pyscf geometric -q\n",
        "\n",
        "#### Code for Geometry Optimization:\n",
        "from pyscf import gto, dft\n",
        "from pyscf.geomopt.geometric_solver import optimize\n",
        "\n",
        "# Define the molecule with a rough guess for geometry (initial atomic positions)\n",
        "# These positions don't need to be exact, as the optimization will refine them\n",
        "mol = gto.Mole()\n",
        "mol.atom = '''\n",
        "    N  0.0000  0.0000  0.2000\n",
        "    H  0.0000  0.9433 -0.2000\n",
        "    H  0.8165 -0.4717 -0.2000\n",
        "    H -0.8165 -0.4717 -0.2000\n",
        "'''\n",
        "mol.basis = 'cc-pvdz'\n",
        "mol.build()\n",
        "\n",
        "# Perform geometry optimization using DFT\n",
        "mf = dft.RKS(mol)\n",
        "mf.xc = 'b3lyp'       # Define the exchange-correlation functional\n",
        "mol_eq = optimize(mf) # This function iteratively adjusts positions of atoms to minimize total energy of system\n",
        "\n",
        "# Print optimized coordinates. This geometry corresponds to lowest energy configuration found during optimization process\n",
        "print(\"Optimized Geometry (in Angstroms):\")\n",
        "print(mol_eq.atom_coords())"
      ],
      "metadata": {
        "id": "W27MRjvA322B"
      },
      "execution_count": null,
      "outputs": []
    },
    {
      "cell_type": "markdown",
      "source": [
        "[Ammonia](https://en.m.wikipedia.org/wiki/Ammonia) (NH₃) has a Trigonal pyramidal structure with three hydrogen atoms forming a triangular base.\n",
        "\n",
        "![science](https://upload.wikimedia.org/wikipedia/commons/thumb/0/03/Ammoniak.svg/195px-Ammoniak.svg.png)\n"
      ],
      "metadata": {
        "id": "o7ttRrzK9orK"
      }
    },
    {
      "cell_type": "code",
      "source": [
        "from pyscf import gto, dft\n",
        "\n",
        "# Define the ammonia molecule (NH₃)\n",
        "mol = gto.Mole()\n",
        "mol.atom = '''\n",
        "    N  0.0000000   0.0000000   0.2000000\n",
        "    H  0.0000000   0.9433030  -0.2000000\n",
        "    H  0.8164970  -0.4716510  -0.2000000\n",
        "    H -0.8164970  -0.4716510  -0.2000000\n",
        "'''\n",
        "mol.basis = 'cc-pvdz'\n",
        "mol.verbose = 4\n",
        "mol.build()\n",
        "\n",
        "# Perform a DFT calculation using the B3LYP functional\n",
        "mf = dft.RKS(mol)\n",
        "mf.xc = 'b3lyp'\n",
        "energy = mf.kernel()\n",
        "\n",
        "print(f\"DFT energy for Ammonia (NH₃) using B3LYP: {energy} Hartree\")\n"
      ],
      "metadata": {
        "id": "cN2FaYBa9UbA",
        "outputId": "e20f9696-7488-4c6e-b942-7d950e598214",
        "colab": {
          "base_uri": "https://localhost:8080/"
        }
      },
      "execution_count": null,
      "outputs": [
        {
          "output_type": "stream",
          "name": "stdout",
          "text": [
            "System: uname_result(system='Linux', node='4fd708dbf2a1', release='6.1.85+', version='#1 SMP PREEMPT_DYNAMIC Thu Jun 27 21:05:47 UTC 2024', machine='x86_64')  Threads 2\n",
            "Python 3.10.12 (main, Sep 11 2024, 15:47:36) [GCC 11.4.0]\n",
            "numpy 1.26.4  scipy 1.13.1  h5py 3.11.0\n",
            "Date: Mon Sep 23 12:57:25 2024\n",
            "PySCF version 2.6.2\n",
            "PySCF path  /usr/local/lib/python3.10/dist-packages/pyscf\n",
            "\n",
            "[CONFIG] conf_file None\n",
            "[INPUT] verbose = 4\n",
            "[INPUT] num. atoms = 4\n",
            "[INPUT] num. electrons = 10\n",
            "[INPUT] charge = 0\n",
            "[INPUT] spin (= nelec alpha-beta = 2S) = 0\n",
            "[INPUT] symmetry False subgroup None\n",
            "[INPUT] Mole.unit = angstrom\n",
            "[INPUT] Symbol           X                Y                Z      unit          X                Y                Z       unit  Magmom\n",
            "[INPUT]  1 N      0.000000000000   0.000000000000   0.200000000000 AA    0.000000000000   0.000000000000   0.377945224913 Bohr   0.0\n",
            "[INPUT]  2 H      0.000000000000   0.943303000000  -0.200000000000 AA    0.000000000000   1.782584322481  -0.377945224913 Bohr   0.0\n",
            "[INPUT]  3 H      0.816497000000  -0.471651000000  -0.200000000000 AA    1.542955711529  -0.891291216377  -0.377945224913 Bohr   0.0\n",
            "[INPUT]  4 H     -0.816497000000  -0.471651000000  -0.200000000000 AA   -1.542955711529  -0.891291216377  -0.377945224913 Bohr   0.0\n",
            "\n",
            "nuclear repulsion = 11.820145192758\n",
            "number of shells = 14\n",
            "number of NR pGTOs = 47\n",
            "number of NR cGTOs = 29\n",
            "basis = cc-pvdz\n",
            "ecp = {}\n",
            "CPU time:         6.72\n",
            "\n",
            "\n",
            "******** <class 'pyscf.dft.rks.RKS'> ********\n",
            "method = RKS\n",
            "initial guess = minao\n",
            "damping factor = 0\n",
            "level_shift factor = 0\n",
            "DIIS = <class 'pyscf.scf.diis.CDIIS'>\n",
            "diis_start_cycle = 1\n",
            "diis_space = 8\n",
            "diis_damp = 0\n",
            "SCF conv_tol = 1e-09\n",
            "SCF conv_tol_grad = None\n",
            "SCF max_cycles = 50\n",
            "direct_scf = True\n",
            "direct_scf_tol = 1e-13\n",
            "chkfile to save SCF result = /tmp/tmp75xu6tyu\n",
            "max_memory 4000 MB (current use 173 MB)\n",
            "XC library pyscf.dft.libxc version 6.1.0\n",
            "    S. Lehtola, C. Steigemann, M. J.T. Oliveira, and M. A.L. Marques.,  SoftwareX 7, 1–5 (2018)\n",
            "XC functionals = b3lyp\n",
            "    P. J. Stephens, F. J. Devlin, C. F. Chabalowski, and M. J. Frisch.,  J. Phys. Chem. 98, 11623 (1994)\n",
            "radial grids: \n",
            "    Treutler-Ahlrichs [JCP 102, 346 (1995); DOI:10.1063/1.469408] (M4) radial grids\n",
            "    \n",
            "becke partition: Becke, JCP 88, 2547 (1988); DOI:10.1063/1.454033\n",
            "pruning grids: <function nwchem_prune at 0x7e45e46b12d0>\n",
            "grids dens level: 3\n",
            "symmetrized grids: False\n",
            "atomic radii adjust function: <function treutler_atomic_radii_adjust at 0x7e45e4ee7be0>\n",
            "small_rho_cutoff = 1e-07\n",
            "Set gradient conv threshold to 3.16228e-05\n",
            "Initial guess from minao.\n",
            "tot grids = 44120\n",
            "init E= -56.4428541574991\n",
            "  HOMO = -0.33115574243438  LUMO = 0.0201222015388542\n",
            "cycle= 1 E= -56.5184383534108  delta_E= -0.0756  |g|= 0.401  |ddm|= 1.54\n",
            "  HOMO = -0.151477360293576  LUMO = 0.0781472753659973\n",
            "cycle= 2 E= -56.4919925714468  delta_E= 0.0264  |g|= 0.531  |ddm|= 0.632\n",
            "  HOMO = -0.251933372020816  LUMO = 0.0549473541704234\n",
            "cycle= 3 E= -56.5540720245357  delta_E= -0.0621  |g|= 0.0182  |ddm|= 0.37\n",
            "  HOMO = -0.251129178228506  LUMO = 0.0573957077466951\n",
            "cycle= 4 E= -56.5541457166211  delta_E= -7.37e-05  |g|= 0.00206  |ddm|= 0.014\n",
            "  HOMO = -0.25133019707119  LUMO = 0.057215898816242\n",
            "cycle= 5 E= -56.5541465637511  delta_E= -8.47e-07  |g|= 0.000268  |ddm|= 0.00155\n",
            "  HOMO = -0.251423692158913  LUMO = 0.0571830310222143\n",
            "cycle= 6 E= -56.5541465802518  delta_E= -1.65e-08  |g|= 6e-06  |ddm|= 0.000196\n",
            "  HOMO = -0.251423633929711  LUMO = 0.0571833355765832\n",
            "cycle= 7 E= -56.5541465802736  delta_E= -2.18e-11  |g|= 1.04e-06  |ddm|= 1.6e-05\n",
            "  HOMO = -0.251423412153071  LUMO = 0.0571834283016293\n",
            "Extra cycle  E= -56.5541465802736  delta_E= -2.84e-14  |g|= 8.44e-07  |ddm|= 1.98e-06\n",
            "converged SCF energy = -56.5541465802736\n",
            "DFT energy for Ammonia (NH₃) using B3LYP: -56.554146580273645 Hartree\n"
          ]
        }
      ]
    },
    {
      "cell_type": "markdown",
      "source": [
        "The result from DFT calculation for ammonia (NH₃) — DFT energy for Ammonia (NH₃) using B3LYP: -56.554146580273645 Hartree — represents the total electronic energy of the ammonia molecule in its current configuration, computed using the Density Functional Theory (DFT) method with the B3LYP functional and the cc-pvdz basis set.\n",
        "\n",
        "* The energy, -56.554 Hartree, is the **ground-state electronic energy of the molecule in its optimized geometry**. This is the energy of all the electrons in the molecule interacting with the nuclei, accounting for the kinetic energy of the electrons, their interactions with the nuclear charges, the repulsion between electrons, and the exchange-correlation effects modeled by the B3LYP functional.\n",
        "* A Hartree (or atomic unit of energy) is a standard unit in quantum chemistry. **1 Hartree = 27.2114 eV (electron volts), which means this result is roughly -1538.73 eV**\n",
        "* The energy is negative because this a bound system. The system is stable because the electrons are bound to the nuclei, and a negative total energy indicates that the molecule is in a lower-energy, stable configuration. **The more negative the total energy, the more stable the molecule is.**\n",
        "* Ground-State Configuration value represents the electronic energy at the ground state - the energy is for the lowest possible configuration of electrons around the nuclei in ammonia.\n",
        "* The energy is calculated using the [B3LYP functional](https://en.m.wikipedia.org/wiki/Hybrid_functional) (a hybrid functional combining Becke's exchange functional with the Lee-Yang-Parr correlation functional). One of most commonly used functionals in computational chemistry with a good balance between accuracy and computational cost.\n",
        "* This result of total energy can be compared to different molecules or different geometries of same molecule. For example, to calculate energy for an excited state or a different configuration of ammonia (e.g., a stretched N-H bond), the total energy differs, and one can assess which configuration is more stable based on the energy values.\n"
      ],
      "metadata": {
        "id": "9dgbLal--ht-"
      }
    }
  ]
}