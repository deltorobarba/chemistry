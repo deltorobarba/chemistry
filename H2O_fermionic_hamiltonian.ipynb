{
  "nbformat": 4,
  "nbformat_minor": 0,
  "metadata": {
    "colab": {
      "provenance": [],
      "authorship_tag": "ABX9TyPhBQvuNDR5z96LTVB0Uymq",
      "include_colab_link": true
    },
    "kernelspec": {
      "name": "python3",
      "display_name": "Python 3"
    },
    "language_info": {
      "name": "python"
    }
  },
  "cells": [
    {
      "cell_type": "markdown",
      "metadata": {
        "id": "view-in-github",
        "colab_type": "text"
      },
      "source": [
        "<a href=\"https://colab.research.google.com/github/deltorobarba/chemistry/blob/main/H2O_fermionic_hamiltonian.ipynb\" target=\"_parent\"><img src=\"https://colab.research.google.com/assets/colab-badge.svg\" alt=\"Open In Colab\"/></a>"
      ]
    },
    {
      "cell_type": "markdown",
      "source": [
        "# **Water Molecule (H₂O) - Fermionic (Molecular) Hamiltonian with Second Quantization**"
      ],
      "metadata": {
        "id": "VVx4DuF00Xk7"
      }
    },
    {
      "cell_type": "code",
      "source": [
        "!pip install pyscf matplotlib openfermion openfermionpyscf -q"
      ],
      "metadata": {
        "id": "ZZfihNQ0OvCH"
      },
      "execution_count": null,
      "outputs": []
    },
    {
      "cell_type": "code",
      "source": [
        "# Fermionic (Molecular) Hamiltonian with Second Quantization\n",
        "from pyscf import gto, scf, ao2mo\n",
        "from openfermion import MolecularData, transforms\n",
        "from openfermion.transforms import jordan_wigner\n",
        "from openfermionpyscf import generate_molecular_hamiltonian\n",
        "from openfermion.transforms import bravyi_kitaev\n",
        "\n",
        "# Define molecule\n",
        "geometry = [\n",
        "    ('O', (0.0000000, 0.0000000, 0.0000000)),\n",
        "    ('H', (0.7586022, 0.0000000, 0.5042847)),\n",
        "    ('H', (-0.7586022, 0.0000000, 0.5042847))\n",
        "]\n",
        "\n",
        "basis = 'cc-pvdz' # Smaller basis set (e.g., sto-3g instead of cc-pvdz) to reduce the number of orbitals involved.\n",
        "charge = 0\n",
        "multiplicity = 1\n",
        "\n",
        "# Create a MolecularData object\n",
        "molecule = MolecularData(geometry, basis, multiplicity, charge)\n",
        "\n",
        "# Perform a Hartree-Fock calculation\n",
        "mol = gto.M(\n",
        "    atom=geometry,\n",
        "    basis=basis,\n",
        "    charge=charge,\n",
        "    spin=multiplicity - 1\n",
        ")\n",
        "\n",
        "mf = scf.RHF(mol)\n",
        "mf.kernel()\n",
        "\n",
        "# Number of electrons and orbitals for the molecule\n",
        "num_electrons = mol.nelectron\n",
        "num_orbitals = mf.mo_coeff.shape[1]\n",
        "\n",
        "# Manually extract integrals from PySCF\n",
        "h1 = mf.get_hcore()  # One-electron integrals\n",
        "eri = ao2mo.kernel(mol, mf.mo_coeff)  # Two-electron integrals\n",
        "nuclear_repulsion = mol.energy_nuc()\n",
        "\n",
        "# Use OpenFermion to generate the molecular Hamiltonian\n",
        "molecular_hamiltonian = generate_molecular_hamiltonian(\n",
        "    geometry=geometry,\n",
        "    basis=basis,\n",
        "    multiplicity=multiplicity,\n",
        "    charge=charge,\n",
        "    n_active_electrons=num_electrons,\n",
        "    n_active_orbitals=num_orbitals\n",
        ")\n",
        "\n",
        "# Get the Hamiltonian in second-quantized form\n",
        "fermion_hamiltonian = transforms.get_fermion_operator(molecular_hamiltonian)\n",
        "\n",
        "# Convert the fermionic Hamiltonian to a qubit Hamiltonian using Jordan-Wigner transformation\n",
        "qubit_hamiltonian = jordan_wigner(fermion_hamiltonian)\n",
        "# qubit_hamiltonian = bravyi_kitaev(fermion_hamiltonian) # To speed up: Convert to qubit Hamiltonian using Bravyi-Kitaev transform\n",
        "\n",
        "# Print the qubit Hamiltonian\n",
        "print(\"Qubit Hamiltonian (Jordan-Wigner):\\n\", qubit_hamiltonian)"
      ],
      "metadata": {
        "id": "JTAWnC8370Sg"
      },
      "execution_count": null,
      "outputs": []
    },
    {
      "cell_type": "markdown",
      "source": [
        "**This can be computationally intensive because:**\n",
        "* Number of Orbitals and Electrons: If your molecule has many orbitals (e.g., a large basis set) or electrons, the Hamiltonian will involve many terms. The Jordan-Wigner transformation processes each of these terms and converts them to qubit operators, which can take time.\n",
        "* Two-Electron Integrals: These integrals contribute many terms to the Hamiltonian, and the mapping from fermions to qubits adds further complexity.\n",
        "\n",
        "**To speed this up**:\n",
        "* Try using a **smaller basis set** (e.g., sto-3g instead of cc-pvdz) to reduce the number of orbitals involved.\n",
        "* **Active Space Approximation**: You can reduce the number of orbitals by focusing on an \"active space\" that includes only the most chemically relevant orbitals. For example, in OpenFermion-PySCF, you can define an active space of electrons and orbitals to restrict the number of orbitals used in the calculation.\n",
        "* Use the **Bravyi-Kitaev transformation**: The Bravyi-Kitaev transformation may sometimes be faster and more efficient than the Jordan-Wigner transformation for certain systems, as it has better scaling for specific problem sizes.\n",
        "\n",
        "**To speed up: Active Space Approximation and Smaller Basis Set**\n",
        "* n_active_electrons = 4: Specifies the number of active electrons in the calculation. You can adjust this value based on your molecule's complexity and the level of approximation you're willing to make.\n",
        "* n_active_orbitals = 6: Specifies the number of active orbitals, reducing the size of the problem."
      ],
      "metadata": {
        "id": "7YWKCbNm73jJ"
      }
    },
    {
      "cell_type": "code",
      "source": [
        "from pyscf import gto, scf, ao2mo\n",
        "from openfermion import MolecularData, transforms\n",
        "from openfermion.transforms import jordan_wigner\n",
        "from openfermionpyscf import generate_molecular_hamiltonian\n",
        "\n",
        "# Define the molecule\n",
        "geometry = [\n",
        "    ('O', (0.0000000, 0.0000000, 0.0000000)),\n",
        "    ('H', (0.7586022, 0.0000000, 0.5042847)),\n",
        "    ('H', (-0.7586022, 0.0000000, 0.5042847))\n",
        "]\n",
        "basis = 'sto-3g'  # Smaller basis set\n",
        "charge = 0\n",
        "multiplicity = 1\n",
        "\n",
        "# Perform a Hartree-Fock calculation\n",
        "mol = gto.M(\n",
        "    atom=geometry,\n",
        "    basis=basis,\n",
        "    charge=charge,\n",
        "    spin=multiplicity - 1\n",
        ")\n",
        "\n",
        "mf = scf.RHF(mol)\n",
        "mf.kernel()\n",
        "\n",
        "# Print the number of molecular orbitals and electrons\n",
        "num_orbitals = mf.mo_coeff.shape[1]\n",
        "num_electrons = mol.nelectron\n",
        "\n",
        "print(f\"Total number of orbitals: {num_orbitals}\")\n",
        "print(f\"Total number of electrons: {num_electrons}\")\n",
        "\n",
        "# Set the active space (ensure these values are within the total available)\n",
        "n_active_electrons = min(4, num_electrons)  # Adjust to be <= total number of electrons\n",
        "n_active_orbitals = min(4, num_orbitals)    # Adjust to be <= total number of orbitals\n",
        "\n",
        "# Use OpenFermion-PySCF to generate the molecular Hamiltonian with the active space\n",
        "molecular_hamiltonian = generate_molecular_hamiltonian(\n",
        "    geometry=geometry,\n",
        "    basis=basis,\n",
        "    multiplicity=multiplicity,\n",
        "    charge=charge,\n",
        "    n_active_electrons=n_active_electrons,\n",
        "    n_active_orbitals=n_active_orbitals\n",
        ")\n",
        "\n",
        "# Get the Hamiltonian in second-quantized form\n",
        "fermion_hamiltonian = transforms.get_fermion_operator(molecular_hamiltonian)\n",
        "\n",
        "# Convert the fermionic Hamiltonian to a qubit Hamiltonian using Jordan-Wigner transformation\n",
        "qubit_hamiltonian = jordan_wigner(fermion_hamiltonian)\n",
        "\n",
        "# Print the qubit Hamiltonian\n",
        "print(\"Qubit Hamiltonian (Jordan-Wigner):\\n\", qubit_hamiltonian)"
      ],
      "metadata": {
        "id": "UvyH_7Vc77L8"
      },
      "execution_count": null,
      "outputs": []
    }
  ]
}