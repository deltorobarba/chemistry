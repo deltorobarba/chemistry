{
  "nbformat": 4,
  "nbformat_minor": 0,
  "metadata": {
    "colab": {
      "provenance": [],
      "authorship_tag": "ABX9TyMX/CpikCjz0SAityf1DYoz",
      "include_colab_link": true
    },
    "kernelspec": {
      "name": "python3",
      "display_name": "Python 3"
    },
    "language_info": {
      "name": "python"
    }
  },
  "cells": [
    {
      "cell_type": "markdown",
      "metadata": {
        "id": "view-in-github",
        "colab_type": "text"
      },
      "source": [
        "<a href=\"https://colab.research.google.com/github/deltorobarba/chemistry/blob/main/H2O_geometry_optimization.ipynb\" target=\"_parent\"><img src=\"https://colab.research.google.com/assets/colab-badge.svg\" alt=\"Open In Colab\"/></a>"
      ]
    },
    {
      "cell_type": "markdown",
      "source": [
        "# **Water Molecule (H₂O) - Geometry Optimization**"
      ],
      "metadata": {
        "id": "VVx4DuF00Xk7"
      }
    },
    {
      "cell_type": "code",
      "source": [
        "!pip install pyscf matplotlib geometric -q"
      ],
      "metadata": {
        "id": "ZZfihNQ0OvCH"
      },
      "execution_count": null,
      "outputs": []
    },
    {
      "cell_type": "markdown",
      "source": [
        "**Geometry Optimization (HF-SCF)** - adjusting the atomic positions to find a configuration with minimal energy\n",
        "\n",
        "[Water molecule](https://en.m.wikipedia.org/wiki/Water) (H₂O) has a bent (or V-shaped) molecular geometry\n",
        "\n",
        "![science](https://upload.wikimedia.org/wikipedia/commons/thumb/b/b7/H2O_2D_labelled.svg/320px-H2O_2D_labelled.svg.png)\n",
        "\n",
        "![sciences](https://raw.githubusercontent.com/deltorobarba/repo/master/sciences_1822.png)"
      ],
      "metadata": {
        "id": "33Dg_9RE3gnQ"
      }
    },
    {
      "cell_type": "code",
      "source": [
        "# Geometry Optimization (HF-SCF)\n",
        "from pyscf import gto, scf, geomopt\n",
        "\n",
        "# Step 1: Define the molecule\n",
        "mol = gto.M(\n",
        "    atom = '''\n",
        "    O  0.000000  0.000000  0.000000\n",
        "    H  0.000000  0.757000  0.586000\n",
        "    H  0.000000 -0.757000  0.586000\n",
        "''',\n",
        "    basis = 'cc-pvdz',\n",
        ")\n",
        "\n",
        "# Step 2: Perform HF calculation with geometry optimization\n",
        "mf = scf.RHF(mol)\n",
        "\n",
        "# Geometry optimization\n",
        "mol_eq = geomopt.optimize(mf)\n",
        "\n",
        "print(f\"Optimized geometry:\\n{mol_eq.atom_coords()}\")"
      ],
      "metadata": {
        "colab": {
          "base_uri": "https://localhost:8080/"
        },
        "id": "iY9ini5i3ime",
        "outputId": "57054595-8571-471a-e3f4-fe888413979e"
      },
      "execution_count": null,
      "outputs": [
        {
          "output_type": "stream",
          "name": "stderr",
          "text": [
            "geometric-optimize called with the following command line:\n",
            "/usr/local/lib/python3.10/dist-packages/colab_kernel_launcher.py -f /root/.local/share/jupyter/runtime/kernel-46984e7b-02c9-42a3-86f4-cf31d6362241.json\n",
            "\n",
            "                                        \u001b[91m())))))))))))))))/\u001b[0m                     \n",
            "                                    \u001b[91m())))))))))))))))))))))))),\u001b[0m                \n",
            "                                \u001b[91m*)))))))))))))))))))))))))))))))))\u001b[0m             \n",
            "                        \u001b[94m#,\u001b[0m    \u001b[91m()))))))))/\u001b[0m                \u001b[91m.)))))))))),\u001b[0m          \n",
            "                      \u001b[94m#%%%%,\u001b[0m  \u001b[91m())))))\u001b[0m                        \u001b[91m.))))))))*\u001b[0m        \n",
            "                      \u001b[94m*%%%%%%,\u001b[0m  \u001b[91m))\u001b[0m              \u001b[93m..\u001b[0m              \u001b[91m,))))))).\u001b[0m      \n",
            "                        \u001b[94m*%%%%%%,\u001b[0m         \u001b[93m***************/.\u001b[0m        \u001b[91m.)))))))\u001b[0m     \n",
            "                \u001b[94m#%%/\u001b[0m      \u001b[94m(%%%%%%,\u001b[0m    \u001b[93m/*********************.\u001b[0m       \u001b[91m)))))))\u001b[0m    \n",
            "              \u001b[94m.%%%%%%#\u001b[0m      \u001b[94m*%%%%%%,\u001b[0m  \u001b[93m*******/,\u001b[0m     \u001b[93m**********,\u001b[0m      \u001b[91m.))))))\u001b[0m   \n",
            "                \u001b[94m.%%%%%%/\u001b[0m      \u001b[94m*%%%%%%,\u001b[0m  \u001b[93m**\u001b[0m              \u001b[93m********\u001b[0m      \u001b[91m.))))))\u001b[0m  \n",
            "          \u001b[94m##\u001b[0m      \u001b[94m.%%%%%%/\u001b[0m      \u001b[94m(%%%%%%,\u001b[0m                  \u001b[93m,******\u001b[0m      \u001b[91m/)))))\u001b[0m  \n",
            "        \u001b[94m%%%%%%\u001b[0m      \u001b[94m.%%%%%%#\u001b[0m      \u001b[94m*%%%%%%,\u001b[0m    \u001b[92m,/////.\u001b[0m       \u001b[93m******\u001b[0m      \u001b[91m))))))\u001b[0m \n",
            "      \u001b[94m#%\u001b[0m      \u001b[94m%%\u001b[0m      \u001b[94m.%%%%%%/\u001b[0m      \u001b[94m*%%%%%%,\u001b[0m  \u001b[92m////////,\u001b[0m      \u001b[93m*****/\u001b[0m     \u001b[91m,)))))\u001b[0m \n",
            "    \u001b[94m#%%\u001b[0m  \u001b[94m%%%\u001b[0m  \u001b[94m%%%#\u001b[0m      \u001b[94m.%%%%%%/\u001b[0m      \u001b[94m(%%%%%%,\u001b[0m  \u001b[92m///////.\u001b[0m     \u001b[93m/*****\u001b[0m      \u001b[91m))))).\u001b[0m\n",
            "  \u001b[94m#%%%%.\u001b[0m      \u001b[94m%%%%%#\u001b[0m      \u001b[94m/%%%%%%*\u001b[0m      \u001b[94m#%%%%%%\u001b[0m   \u001b[92m/////)\u001b[0m     \u001b[93m******\u001b[0m      \u001b[91m))))),\u001b[0m\n",
            "    \u001b[94m#%%%%##%\u001b[0m  \u001b[94m%%%#\u001b[0m      \u001b[94m.%%%%%%/\u001b[0m      \u001b[94m(%%%%%%,\u001b[0m  \u001b[92m///////.\u001b[0m     \u001b[93m/*****\u001b[0m      \u001b[91m))))).\u001b[0m\n",
            "      \u001b[94m##\u001b[0m     \u001b[94m%%%\u001b[0m      \u001b[94m.%%%%%%/\u001b[0m      \u001b[94m*%%%%%%,\u001b[0m  \u001b[92m////////.\u001b[0m      \u001b[93m*****/\u001b[0m     \u001b[91m,)))))\u001b[0m \n",
            "        \u001b[94m#%%%%#\u001b[0m      \u001b[94m/%%%%%%/\u001b[0m      \u001b[94m(%%%%%%\u001b[0m      \u001b[92m/)/)//\u001b[0m       \u001b[93m******\u001b[0m      \u001b[91m))))))\u001b[0m \n",
            "          \u001b[94m##\u001b[0m      \u001b[94m.%%%%%%/\u001b[0m      \u001b[94m(%%%%%%,\u001b[0m                  \u001b[93m*******\u001b[0m      \u001b[91m))))))\u001b[0m  \n",
            "                \u001b[94m.%%%%%%/\u001b[0m      \u001b[94m*%%%%%%,\u001b[0m  \u001b[93m**.\u001b[0m             \u001b[93m/*******\u001b[0m      \u001b[91m.))))))\u001b[0m  \n",
            "              \u001b[94m*%%%%%%/\u001b[0m      \u001b[94m(%%%%%%\u001b[0m   \u001b[93m********/*..,*/*********\u001b[0m       \u001b[91m*))))))\u001b[0m   \n",
            "                \u001b[94m#%%/\u001b[0m      \u001b[94m(%%%%%%,\u001b[0m    \u001b[93m*********************/\u001b[0m        \u001b[91m)))))))\u001b[0m    \n",
            "                        \u001b[94m*%%%%%%,\u001b[0m         \u001b[93m,**************/\u001b[0m         \u001b[91m,))))))/\u001b[0m     \n",
            "                      \u001b[94m(%%%%%%\u001b[0m   \u001b[91m()\u001b[0m                              \u001b[91m))))))))\u001b[0m       \n",
            "                      \u001b[94m#%%%%,\u001b[0m  \u001b[91m())))))\u001b[0m                        \u001b[91m,)))))))),\u001b[0m        \n",
            "                        \u001b[94m#,\u001b[0m    \u001b[91m())))))))))\u001b[0m                \u001b[91m,)))))))))).\u001b[0m          \n",
            "                                 \u001b[91m()))))))))))))))))))))))))))))))/\u001b[0m             \n",
            "                                    \u001b[91m())))))))))))))))))))))))).\u001b[0m                \n",
            "                                         \u001b[91m())))))))))))))),\u001b[0m                     \n",
            "\n",
            "-=# \u001b[1;94m geomeTRIC started. Version: 1.0.2 \u001b[0m #=-\n",
            "Current date and time: 2024-09-29 14:53:43\n",
            "Custom engine selected.\n",
            "Bonds will be generated from interatomic distances less than 1.20 times sum of covalent radii\n",
            "9 internal coordinates being used (instead of 9 Cartesians)\n",
            "Internal coordinate system (atoms numbered from 1):\n",
            "Distance 1-2\n",
            "Distance 1-3\n",
            "Angle 2-1-3\n",
            "Translation-X 1-3\n",
            "Translation-Y 1-3\n",
            "Translation-Z 1-3\n",
            "Rotation-A 1-3\n",
            "Rotation-B 1-3\n",
            "Rotation-C 1-3\n",
            "<class 'geometric.internal.Distance'> : 2\n",
            "<class 'geometric.internal.Angle'> : 1\n",
            "<class 'geometric.internal.TranslationX'> : 1\n",
            "<class 'geometric.internal.TranslationY'> : 1\n",
            "<class 'geometric.internal.TranslationZ'> : 1\n",
            "<class 'geometric.internal.RotationA'> : 1\n",
            "<class 'geometric.internal.RotationB'> : 1\n",
            "<class 'geometric.internal.RotationC'> : 1\n",
            "> ===== Optimization Info: ====\n",
            "> Job type: Energy minimization\n",
            "> Maximum number of optimization cycles: 300\n",
            "> Initial / maximum trust radius (Angstrom): 0.100 / 0.300\n",
            "> Convergence Criteria:\n",
            "> Will converge when all 5 criteria are reached:\n",
            ">  |Delta-E| < 1.00e-06\n",
            ">  RMS-Grad  < 3.00e-04\n",
            ">  Max-Grad  < 4.50e-04\n",
            ">  RMS-Disp  < 1.20e-03\n",
            ">  Max-Disp  < 1.80e-03\n",
            "> === End Optimization Info ===\n"
          ]
        },
        {
          "output_type": "stream",
          "name": "stdout",
          "text": [
            "\n",
            "Geometry optimization cycle 1\n",
            "Cartesian coordinates (Angstrom)\n",
            " Atom        New coordinates             dX        dY        dZ\n",
            "   O   0.000000   0.000000   0.000000    0.000000  0.000000  0.000000\n",
            "   H   0.000000   0.757000   0.586000    0.000000  0.000000  0.000000\n",
            "   H   0.000000  -0.757000   0.586000    0.000000  0.000000  0.000000\n",
            "converged SCF energy = -76.0267936449738\n",
            "--------------- RHF_Scanner gradients ---------------\n",
            "         x                y                z\n",
            "0 O     0.0000000000     0.0000000000    -0.0143168421\n",
            "1 H     0.0000000000     0.0100821479     0.0071584211\n",
            "2 H    -0.0000000000    -0.0100821479     0.0071584211\n",
            "----------------------------------------------\n",
            "cycle 1: E = -76.026793645  dE = -76.0268  norm(grad) = 0.0225999\n"
          ]
        },
        {
          "output_type": "stream",
          "name": "stderr",
          "text": [
            "Step    0 : Gradient = 1.305e-02/1.432e-02 (rms/max) Energy = -76.0267936450\n",
            "Hessian Eigenvalues: 5.00000e-02 5.00000e-02 5.00000e-02 ... 1.60000e-01 5.60557e-01 5.60557e-01\n"
          ]
        },
        {
          "output_type": "stream",
          "name": "stdout",
          "text": [
            "\n",
            "Geometry optimization cycle 2\n",
            "Cartesian coordinates (Angstrom)\n",
            " Atom        New coordinates             dX        dY        dZ\n",
            "   O  -0.000000  -0.000000   0.003321   -0.000000 -0.000000  0.003321\n",
            "   H  -0.000000   0.746102   0.584340   -0.000000 -0.010898 -0.001660\n",
            "   H   0.000000  -0.746102   0.584340    0.000000  0.010898 -0.001660\n",
            "converged SCF energy = -76.0270469068813\n",
            "--------------- RHF_Scanner gradients ---------------\n",
            "         x                y                z\n",
            "0 O     0.0000000000     0.0000000000    -0.0000755904\n",
            "1 H     0.0000000000    -0.0012665893     0.0000377952\n",
            "2 H    -0.0000000000     0.0012665893     0.0000377952\n",
            "----------------------------------------------\n",
            "cycle 2: E = -76.0270469069  dE = -0.000253262  norm(grad) = 0.00179362\n"
          ]
        },
        {
          "output_type": "stream",
          "name": "stderr",
          "text": [
            "Step    1 : Displace = \u001b[0m9.203e-03\u001b[0m/\u001b[0m1.102e-02\u001b[0m (rms/max) Trust = 1.000e-01 (=) Grad = \u001b[0m1.036e-03\u001b[0m/\u001b[0m1.267e-03\u001b[0m (rms/max) E (change) = -76.0270469069 (\u001b[0m-2.533e-04\u001b[0m) Quality = \u001b[0m0.921\u001b[0m\n",
            "Hessian Eigenvalues: 5.00000e-02 5.00000e-02 5.00000e-02 ... 1.63126e-01 5.60557e-01 6.01174e-01\n"
          ]
        },
        {
          "output_type": "stream",
          "name": "stdout",
          "text": [
            "\n",
            "Geometry optimization cycle 3\n",
            "Cartesian coordinates (Angstrom)\n",
            " Atom        New coordinates             dX        dY        dZ\n",
            "   O  -0.000000  -0.000000   0.005092   -0.000000 -0.000000  0.001771\n",
            "   H  -0.000000   0.748968   0.583454   -0.000000  0.002866 -0.000886\n",
            "   H   0.000000  -0.748968   0.583454    0.000000 -0.002866 -0.000886\n",
            "converged SCF energy = -76.0270534782029\n",
            "--------------- RHF_Scanner gradients ---------------\n",
            "         x                y                z\n",
            "0 O    -0.0000000000    -0.0000000000     0.0000785734\n",
            "1 H     0.0000000000     0.0000518864    -0.0000392867\n",
            "2 H     0.0000000000    -0.0000518864    -0.0000392867\n",
            "----------------------------------------------\n",
            "cycle 3: E = -76.0270534782  dE = -6.57132e-06  norm(grad) = 0.000121017\n"
          ]
        },
        {
          "output_type": "stream",
          "name": "stderr",
          "text": [
            "Step    2 : Displace = \u001b[0m2.654e-03\u001b[0m/\u001b[0m2.999e-03\u001b[0m (rms/max) Trust = 1.414e-01 (\u001b[92m+\u001b[0m) Grad = \u001b[92m6.987e-05\u001b[0m/\u001b[92m7.857e-05\u001b[0m (rms/max) E (change) = -76.0270534782 (\u001b[0m-6.571e-06\u001b[0m) Quality = \u001b[0m0.931\u001b[0m\n",
            "Hessian Eigenvalues: 5.00000e-02 5.00000e-02 5.00000e-02 ... 1.75074e-01 5.60557e-01 5.98100e-01\n"
          ]
        },
        {
          "output_type": "stream",
          "name": "stdout",
          "text": [
            "\n",
            "Geometry optimization cycle 4\n",
            "Cartesian coordinates (Angstrom)\n",
            " Atom        New coordinates             dX        dY        dZ\n",
            "   O  -0.000000  -0.000000   0.004935    0.000000 -0.000000 -0.000157\n",
            "   H  -0.000000   0.748790   0.583533   -0.000000 -0.000177  0.000079\n",
            "   H   0.000000  -0.748790   0.583533   -0.000000  0.000177  0.000079\n",
            "converged SCF energy = -76.0270535127392\n",
            "--------------- RHF_Scanner gradients ---------------\n",
            "         x                y                z\n",
            "0 O     0.0000000000    -0.0000000000    -0.0000049496\n",
            "1 H    -0.0000000000     0.0000021141     0.0000024748\n",
            "2 H    -0.0000000000    -0.0000021141     0.0000024748\n",
            "----------------------------------------------\n",
            "cycle 4: E = -76.0270535127  dE = -3.45363e-08  norm(grad) = 6.75913e-06\n"
          ]
        },
        {
          "output_type": "stream",
          "name": "stderr",
          "text": [
            "Step    3 : Displace = \u001b[92m1.827e-04\u001b[0m/\u001b[92m1.941e-04\u001b[0m (rms/max) Trust = 2.000e-01 (\u001b[92m+\u001b[0m) Grad = \u001b[92m3.902e-06\u001b[0m/\u001b[92m4.950e-06\u001b[0m (rms/max) E (change) = -76.0270535127 (\u001b[92m-3.454e-08\u001b[0m) Quality = \u001b[0m0.989\u001b[0m\n",
            "Hessian Eigenvalues: 5.00000e-02 5.00000e-02 5.00000e-02 ... 1.75074e-01 5.60557e-01 5.98100e-01\n",
            "Converged! =D\n",
            "\n",
            "    #==========================================================================#\n",
            "    #| If this code has benefited your research, please support us by citing: |#\n",
            "    #|                                                                        |#\n",
            "    #| Wang, L.-P.; Song, C.C. (2016) \"Geometry optimization made simple with |#\n",
            "    #| translation and rotation coordinates\", J. Chem, Phys. 144, 214108.     |#\n",
            "    #| http://dx.doi.org/10.1063/1.4952956                                    |#\n",
            "    #==========================================================================#\n",
            "    Time elapsed since start of run_optimizer: 2.395 seconds\n"
          ]
        },
        {
          "output_type": "stream",
          "name": "stdout",
          "text": [
            "Optimized geometry:\n",
            "[[-2.06595741e-15 -6.06216733e-14  9.32501188e-03]\n",
            " [-3.41115931e-14  1.41500863e+00  1.10271700e+00]\n",
            " [ 3.61323290e-14 -1.41500863e+00  1.10271700e+00]]\n"
          ]
        }
      ]
    },
    {
      "cell_type": "markdown",
      "source": [
        "**Geometry Optimization using DFT-SCF**"
      ],
      "metadata": {
        "id": "LQ0wkw634R6M"
      }
    },
    {
      "cell_type": "code",
      "source": [
        "from pyscf import gto, scf, geomopt\n",
        "from pyscf import gto, dft\n",
        "from pyscf.geomopt.geometric_solver import optimize\n",
        "\n",
        "\n",
        "# Step 1: Define the molecule\n",
        "mol = gto.M(\n",
        "    atom = '''\n",
        "    O  0.000000  0.000000  0.000000\n",
        "    H  0.000000  0.757000  0.586000\n",
        "    H  0.000000 -0.757000  0.586000\n",
        "''',\n",
        "    basis = 'cc-pvdz',\n",
        ")\n",
        "\n",
        "mol.basis = 'cc-pvdz'\n",
        "mol.build()\n",
        "\n",
        "# Perform geometry optimization using DFT\n",
        "mf = dft.RKS(mol)\n",
        "mf.xc = 'b3lyp'       # Define the exchange-correlation functional\n",
        "mol_eq = optimize(mf) # This function iteratively adjusts positions of atoms to minimize total energy of system\n",
        "\n",
        "# Print optimized coordinates. This geometry corresponds to lowest energy configuration found during optimization process\n",
        "print(\"Optimized Geometry (in Angstroms):\")\n",
        "print(mol_eq.atom_coords())"
      ],
      "metadata": {
        "colab": {
          "base_uri": "https://localhost:8080/"
        },
        "id": "K0Q15NAI4Gej",
        "outputId": "45761b9a-5dfe-4aa7-b99e-e0b8a5bf2356"
      },
      "execution_count": null,
      "outputs": [
        {
          "output_type": "stream",
          "name": "stderr",
          "text": [
            "geometric-optimize called with the following command line:\n",
            "/usr/local/lib/python3.10/dist-packages/colab_kernel_launcher.py -f /root/.local/share/jupyter/runtime/kernel-46984e7b-02c9-42a3-86f4-cf31d6362241.json\n",
            "\n",
            "                                        \u001b[91m())))))))))))))))/\u001b[0m                     \n",
            "                                    \u001b[91m())))))))))))))))))))))))),\u001b[0m                \n",
            "                                \u001b[91m*)))))))))))))))))))))))))))))))))\u001b[0m             \n",
            "                        \u001b[94m#,\u001b[0m    \u001b[91m()))))))))/\u001b[0m                \u001b[91m.)))))))))),\u001b[0m          \n",
            "                      \u001b[94m#%%%%,\u001b[0m  \u001b[91m())))))\u001b[0m                        \u001b[91m.))))))))*\u001b[0m        \n",
            "                      \u001b[94m*%%%%%%,\u001b[0m  \u001b[91m))\u001b[0m              \u001b[93m..\u001b[0m              \u001b[91m,))))))).\u001b[0m      \n",
            "                        \u001b[94m*%%%%%%,\u001b[0m         \u001b[93m***************/.\u001b[0m        \u001b[91m.)))))))\u001b[0m     \n",
            "                \u001b[94m#%%/\u001b[0m      \u001b[94m(%%%%%%,\u001b[0m    \u001b[93m/*********************.\u001b[0m       \u001b[91m)))))))\u001b[0m    \n",
            "              \u001b[94m.%%%%%%#\u001b[0m      \u001b[94m*%%%%%%,\u001b[0m  \u001b[93m*******/,\u001b[0m     \u001b[93m**********,\u001b[0m      \u001b[91m.))))))\u001b[0m   \n",
            "                \u001b[94m.%%%%%%/\u001b[0m      \u001b[94m*%%%%%%,\u001b[0m  \u001b[93m**\u001b[0m              \u001b[93m********\u001b[0m      \u001b[91m.))))))\u001b[0m  \n",
            "          \u001b[94m##\u001b[0m      \u001b[94m.%%%%%%/\u001b[0m      \u001b[94m(%%%%%%,\u001b[0m                  \u001b[93m,******\u001b[0m      \u001b[91m/)))))\u001b[0m  \n",
            "        \u001b[94m%%%%%%\u001b[0m      \u001b[94m.%%%%%%#\u001b[0m      \u001b[94m*%%%%%%,\u001b[0m    \u001b[92m,/////.\u001b[0m       \u001b[93m******\u001b[0m      \u001b[91m))))))\u001b[0m \n",
            "      \u001b[94m#%\u001b[0m      \u001b[94m%%\u001b[0m      \u001b[94m.%%%%%%/\u001b[0m      \u001b[94m*%%%%%%,\u001b[0m  \u001b[92m////////,\u001b[0m      \u001b[93m*****/\u001b[0m     \u001b[91m,)))))\u001b[0m \n",
            "    \u001b[94m#%%\u001b[0m  \u001b[94m%%%\u001b[0m  \u001b[94m%%%#\u001b[0m      \u001b[94m.%%%%%%/\u001b[0m      \u001b[94m(%%%%%%,\u001b[0m  \u001b[92m///////.\u001b[0m     \u001b[93m/*****\u001b[0m      \u001b[91m))))).\u001b[0m\n",
            "  \u001b[94m#%%%%.\u001b[0m      \u001b[94m%%%%%#\u001b[0m      \u001b[94m/%%%%%%*\u001b[0m      \u001b[94m#%%%%%%\u001b[0m   \u001b[92m/////)\u001b[0m     \u001b[93m******\u001b[0m      \u001b[91m))))),\u001b[0m\n",
            "    \u001b[94m#%%%%##%\u001b[0m  \u001b[94m%%%#\u001b[0m      \u001b[94m.%%%%%%/\u001b[0m      \u001b[94m(%%%%%%,\u001b[0m  \u001b[92m///////.\u001b[0m     \u001b[93m/*****\u001b[0m      \u001b[91m))))).\u001b[0m\n",
            "      \u001b[94m##\u001b[0m     \u001b[94m%%%\u001b[0m      \u001b[94m.%%%%%%/\u001b[0m      \u001b[94m*%%%%%%,\u001b[0m  \u001b[92m////////.\u001b[0m      \u001b[93m*****/\u001b[0m     \u001b[91m,)))))\u001b[0m \n",
            "        \u001b[94m#%%%%#\u001b[0m      \u001b[94m/%%%%%%/\u001b[0m      \u001b[94m(%%%%%%\u001b[0m      \u001b[92m/)/)//\u001b[0m       \u001b[93m******\u001b[0m      \u001b[91m))))))\u001b[0m \n",
            "          \u001b[94m##\u001b[0m      \u001b[94m.%%%%%%/\u001b[0m      \u001b[94m(%%%%%%,\u001b[0m                  \u001b[93m*******\u001b[0m      \u001b[91m))))))\u001b[0m  \n",
            "                \u001b[94m.%%%%%%/\u001b[0m      \u001b[94m*%%%%%%,\u001b[0m  \u001b[93m**.\u001b[0m             \u001b[93m/*******\u001b[0m      \u001b[91m.))))))\u001b[0m  \n",
            "              \u001b[94m*%%%%%%/\u001b[0m      \u001b[94m(%%%%%%\u001b[0m   \u001b[93m********/*..,*/*********\u001b[0m       \u001b[91m*))))))\u001b[0m   \n",
            "                \u001b[94m#%%/\u001b[0m      \u001b[94m(%%%%%%,\u001b[0m    \u001b[93m*********************/\u001b[0m        \u001b[91m)))))))\u001b[0m    \n",
            "                        \u001b[94m*%%%%%%,\u001b[0m         \u001b[93m,**************/\u001b[0m         \u001b[91m,))))))/\u001b[0m     \n",
            "                      \u001b[94m(%%%%%%\u001b[0m   \u001b[91m()\u001b[0m                              \u001b[91m))))))))\u001b[0m       \n",
            "                      \u001b[94m#%%%%,\u001b[0m  \u001b[91m())))))\u001b[0m                        \u001b[91m,)))))))),\u001b[0m        \n",
            "                        \u001b[94m#,\u001b[0m    \u001b[91m())))))))))\u001b[0m                \u001b[91m,)))))))))).\u001b[0m          \n",
            "                                 \u001b[91m()))))))))))))))))))))))))))))))/\u001b[0m             \n",
            "                                    \u001b[91m())))))))))))))))))))))))).\u001b[0m                \n",
            "                                         \u001b[91m())))))))))))))),\u001b[0m                     \n",
            "\n",
            "-=# \u001b[1;94m geomeTRIC started. Version: 1.0.2 \u001b[0m #=-\n",
            "Current date and time: 2024-09-29 14:53:54\n",
            "Custom engine selected.\n",
            "Bonds will be generated from interatomic distances less than 1.20 times sum of covalent radii\n",
            "9 internal coordinates being used (instead of 9 Cartesians)\n",
            "Internal coordinate system (atoms numbered from 1):\n",
            "Distance 1-2\n",
            "Distance 1-3\n",
            "Angle 2-1-3\n",
            "Translation-X 1-3\n",
            "Translation-Y 1-3\n",
            "Translation-Z 1-3\n",
            "Rotation-A 1-3\n",
            "Rotation-B 1-3\n",
            "Rotation-C 1-3\n",
            "<class 'geometric.internal.Distance'> : 2\n",
            "<class 'geometric.internal.Angle'> : 1\n",
            "<class 'geometric.internal.TranslationX'> : 1\n",
            "<class 'geometric.internal.TranslationY'> : 1\n",
            "<class 'geometric.internal.TranslationZ'> : 1\n",
            "<class 'geometric.internal.RotationA'> : 1\n",
            "<class 'geometric.internal.RotationB'> : 1\n",
            "<class 'geometric.internal.RotationC'> : 1\n",
            "> ===== Optimization Info: ====\n",
            "> Job type: Energy minimization\n",
            "> Maximum number of optimization cycles: 300\n",
            "> Initial / maximum trust radius (Angstrom): 0.100 / 0.300\n",
            "> Convergence Criteria:\n",
            "> Will converge when all 5 criteria are reached:\n",
            ">  |Delta-E| < 1.00e-06\n",
            ">  RMS-Grad  < 3.00e-04\n",
            ">  Max-Grad  < 4.50e-04\n",
            ">  RMS-Disp  < 1.20e-03\n",
            ">  Max-Disp  < 1.80e-03\n",
            "> === End Optimization Info ===\n"
          ]
        },
        {
          "output_type": "stream",
          "name": "stdout",
          "text": [
            "\n",
            "Geometry optimization cycle 1\n",
            "Cartesian coordinates (Angstrom)\n",
            " Atom        New coordinates             dX        dY        dZ\n",
            "   O   0.000000   0.000000   0.000000    0.000000  0.000000  0.000000\n",
            "   H   0.000000   0.757000   0.586000    0.000000  0.000000  0.000000\n",
            "   H   0.000000  -0.757000   0.586000    0.000000  0.000000  0.000000\n",
            "converged SCF energy = -76.4203489203946\n",
            "--------------- RKS_Scanner gradients ---------------\n",
            "         x                y                z\n",
            "0 O    -0.0000000000    -0.0000000000     0.0160000300\n",
            "1 H     0.0000000000    -0.0069713070    -0.0080033176\n",
            "2 H     0.0000000000     0.0069713070    -0.0080033176\n",
            "----------------------------------------------\n",
            "cycle 1: E = -76.4203489204  dE = -76.4203  norm(grad) = 0.0219387\n"
          ]
        },
        {
          "output_type": "stream",
          "name": "stderr",
          "text": [
            "Step    0 : Gradient = 1.267e-02/1.600e-02 (rms/max) Energy = -76.4203489204\n",
            "Hessian Eigenvalues: 5.00000e-02 5.00000e-02 5.00000e-02 ... 1.60000e-01 5.60557e-01 5.60557e-01\n"
          ]
        },
        {
          "output_type": "stream",
          "name": "stdout",
          "text": [
            "\n",
            "Geometry optimization cycle 2\n",
            "Cartesian coordinates (Angstrom)\n",
            " Atom        New coordinates             dX        dY        dZ\n",
            "   O   0.000000   0.000000  -0.009850    0.000000  0.000000 -0.009850\n",
            "   H   0.000000   0.757826   0.591030    0.000000  0.000826  0.005030\n",
            "   H   0.000000  -0.757826   0.591030    0.000000 -0.000826  0.005030\n",
            "converged SCF energy = -76.4206192746269\n",
            "--------------- RKS_Scanner gradients ---------------\n",
            "         x                y                z\n",
            "0 O     0.0000000000     0.0000000000     0.0024621575\n",
            "1 H     0.0000000000    -0.0005762021    -0.0012331412\n",
            "2 H     0.0000000000     0.0005762021    -0.0012331412\n",
            "----------------------------------------------\n",
            "cycle 2: E = -76.4206192746  dE = -0.000270354  norm(grad) = 0.0031253\n"
          ]
        },
        {
          "output_type": "stream",
          "name": "stderr",
          "text": [
            "Step    1 : Displace = \u001b[0m7.047e-03\u001b[0m/\u001b[0m9.920e-03\u001b[0m (rms/max) Trust = 1.000e-01 (=) Grad = \u001b[0m1.804e-03\u001b[0m/\u001b[0m2.462e-03\u001b[0m (rms/max) E (change) = -76.4206192746 (\u001b[0m-2.704e-04\u001b[0m) Quality = \u001b[0m1.142\u001b[0m\n",
            "Hessian Eigenvalues: 4.99999e-02 5.00000e-02 5.00000e-02 ... 1.45087e-01 5.25420e-01 5.60557e-01\n"
          ]
        },
        {
          "output_type": "stream",
          "name": "stdout",
          "text": [
            "\n",
            "Geometry optimization cycle 3\n",
            "Cartesian coordinates (Angstrom)\n",
            " Atom        New coordinates             dX        dY        dZ\n",
            "   O  -0.000000   0.000000  -0.012486   -0.000000  0.000000 -0.002636\n",
            "   H  -0.000000   0.756428   0.592426   -0.000000 -0.001398  0.001396\n",
            "   H  -0.000000  -0.756428   0.592426   -0.000000  0.001398  0.001396\n",
            "converged SCF energy = -76.4206270213167\n",
            "--------------- RKS_Scanner gradients ---------------\n",
            "         x                y                z\n",
            "0 O     0.0000000000    -0.0000000000     0.0000459714\n",
            "1 H    -0.0000000000    -0.0001193929    -0.0000247331\n",
            "2 H     0.0000000000     0.0001193929    -0.0000247331\n",
            "----------------------------------------------\n",
            "cycle 3: E = -76.4206270213  dE = -7.74669e-06  norm(grad) = 0.000178455\n"
          ]
        },
        {
          "output_type": "stream",
          "name": "stderr",
          "text": [
            "Step    2 : Displace = \u001b[0m2.217e-03\u001b[0m/\u001b[0m2.688e-03\u001b[0m (rms/max) Trust = 1.414e-01 (\u001b[92m+\u001b[0m) Grad = \u001b[92m1.030e-04\u001b[0m/\u001b[92m1.219e-04\u001b[0m (rms/max) E (change) = -76.4206270213 (\u001b[0m-7.747e-06\u001b[0m) Quality = \u001b[0m0.984\u001b[0m\n",
            "Hessian Eigenvalues: 4.99973e-02 5.00000e-02 5.00000e-02 ... 1.57749e-01 4.91741e-01 5.60557e-01\n"
          ]
        },
        {
          "output_type": "stream",
          "name": "stdout",
          "text": [
            "\n",
            "Geometry optimization cycle 4\n",
            "Cartesian coordinates (Angstrom)\n",
            " Atom        New coordinates             dX        dY        dZ\n",
            "   O  -0.000000  -0.000000  -0.012346   -0.000000 -0.000000  0.000141\n",
            "   H  -0.000000   0.756683   0.592411    0.000000  0.000255 -0.000015\n",
            "   H  -0.000000  -0.756683   0.592411   -0.000000 -0.000255 -0.000015\n",
            "converged SCF energy = -76.4206270677759\n",
            "--------------- RKS_Scanner gradients ---------------\n",
            "         x                y                z\n",
            "0 O    -0.0000000000     0.0000000000    -0.0000081275\n",
            "1 H     0.0000000000     0.0000105436     0.0000023007\n",
            "2 H     0.0000000000    -0.0000105436     0.0000023007\n",
            "----------------------------------------------\n",
            "cycle 4: E = -76.4206270678  dE = -4.64591e-08  norm(grad) = 1.7291e-05\n"
          ]
        },
        {
          "output_type": "stream",
          "name": "stderr",
          "text": [
            "Step    3 : Displace = \u001b[92m2.208e-04\u001b[0m/\u001b[92m2.603e-04\u001b[0m (rms/max) Trust = 2.000e-01 (\u001b[92m+\u001b[0m) Grad = \u001b[92m9.983e-06\u001b[0m/\u001b[92m1.079e-05\u001b[0m (rms/max) E (change) = -76.4206270678 (\u001b[92m-4.646e-08\u001b[0m) Quality = \u001b[0m0.916\u001b[0m\n",
            "Hessian Eigenvalues: 4.99973e-02 5.00000e-02 5.00000e-02 ... 1.57749e-01 4.91741e-01 5.60557e-01\n",
            "Converged! =D\n",
            "\n",
            "    #==========================================================================#\n",
            "    #| If this code has benefited your research, please support us by citing: |#\n",
            "    #|                                                                        |#\n",
            "    #| Wang, L.-P.; Song, C.C. (2016) \"Geometry optimization made simple with |#\n",
            "    #| translation and rotation coordinates\", J. Chem, Phys. 144, 214108.     |#\n",
            "    #| http://dx.doi.org/10.1063/1.4952956                                    |#\n",
            "    #==========================================================================#\n",
            "    Time elapsed since start of run_optimizer: 7.601 seconds\n"
          ]
        },
        {
          "output_type": "stream",
          "name": "stdout",
          "text": [
            "Optimized Geometry (in Angstroms):\n",
            "[[-2.05823216e-14 -2.64962404e-14 -2.33303854e-02]\n",
            " [-7.90708925e-15  1.42992438e+00  1.11949400e+00]\n",
            " [-3.06772824e-14 -1.42992438e+00  1.11949400e+00]]\n"
          ]
        }
      ]
    }
  ]
}