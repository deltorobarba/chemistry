{
  "nbformat": 4,
  "nbformat_minor": 0,
  "metadata": {
    "colab": {
      "provenance": [],
      "authorship_tag": "ABX9TyNfSsh6MJz8tkYKZbWxF3KH",
      "include_colab_link": true
    },
    "kernelspec": {
      "name": "python3",
      "display_name": "Python 3"
    },
    "language_info": {
      "name": "python"
    }
  },
  "cells": [
    {
      "cell_type": "markdown",
      "metadata": {
        "id": "view-in-github",
        "colab_type": "text"
      },
      "source": [
        "<a href=\"https://colab.research.google.com/github/deltorobarba/chemistry/blob/main/molecular_dynamics.ipynb\" target=\"_parent\"><img src=\"https://colab.research.google.com/assets/colab-badge.svg\" alt=\"Open In Colab\"/></a>"
      ]
    },
    {
      "cell_type": "markdown",
      "source": [
        "# **Molecular Dynamics**"
      ],
      "metadata": {
        "id": "u5K8p-cYAjET"
      }
    },
    {
      "cell_type": "markdown",
      "source": [
        "PySCF is not typically used for molecular dynamics, but you one combine it with other packages like ASE (Atomic Simulation Environment) for quantum molecular dynamics. For MD, software like **LAMMPS, GROMACS, or CP2K** is more commonly used."
      ],
      "metadata": {
        "id": "oTwDAMW9_flD"
      }
    },
    {
      "cell_type": "code",
      "source": [
        "!pip install lammps -q"
      ],
      "metadata": {
        "id": "sxzjXnypBN_I"
      },
      "execution_count": null,
      "outputs": []
    },
    {
      "cell_type": "markdown",
      "source": [
        "Yes, the **Lennard-Jones potential (LJ potential)** is a mathematical model widely used in molecular simulations to describe the interaction between a pair of neutral atoms or molecules. It's a fundamental concept in chemistry, physics, and molecular dynamics to approximate how particles interact at short ranges.\n",
        "\n",
        "Lennard-Jones Potential Formula:\n",
        "\n",
        "The Lennard-Jones potential \\( V(r) \\) is given by:\n",
        "\n",
        "\\[\n",
        "V(r) = 4 \\epsilon \\left[ \\left( \\frac{\\sigma}{r} \\right)^{12} - \\left( \\frac{\\sigma}{r} \\right)^{6} \\right]\n",
        "\\]\n",
        "\n",
        "Where:\n",
        "- \\( r \\) is the distance between two particles.\n",
        "- \\( \\epsilon \\) is the depth of the potential well, which determines how strongly the particles attract each other.\n",
        "- \\( \\sigma \\) is the distance at which the inter-particle potential is zero (also corresponds to the effective diameter of the particle).\n",
        "- The term \\( \\left( \\frac{\\sigma}{r} \\right)^{12} \\) describes the **repulsive force** (due to Pauli exclusion principle as particles come very close).\n",
        "- The term \\( \\left( \\frac{\\sigma}{r} \\right)^{6} \\) describes the **attractive force** (due to van der Waals forces at intermediate ranges).\n",
        "\n",
        "Interpretation:\n",
        "- At short distances (when \\( r \\) is much smaller than \\( \\sigma \\)), the potential becomes highly positive due to the strong repulsion, preventing particles from overlapping.\n",
        "- At intermediate distances (around \\( \\sigma \\)), the potential becomes negative, indicating an attractive force that stabilizes particle interactions.\n",
        "- As \\( r \\) increases beyond \\( \\sigma \\), the attraction diminishes rapidly and eventually becomes negligible.\n",
        "\n",
        "Why is it used in Chemistry?\n",
        "\n",
        "In chemistry and molecular dynamics, the Lennard-Jones potential is often used to model **van der Waals forces**—the weak, non-bonding interactions between neutral atoms or molecules. While it is a simplified model, it works well for simulating gases, liquids, and molecular solids where these weak forces dominate.\n",
        "\n",
        "Common Applications:\n",
        "1. **Liquids and Gases**: The LJ potential can model the interaction between molecules in a fluid (like argon atoms or simple hydrocarbons).\n",
        "2. **Crystals and Solids**: It can describe the packing of atoms in molecular crystals or non-covalently bound solids.\n",
        "3. **Biochemistry**: It is used in biomolecular simulations, such as in force fields for proteins and nucleic acids, though more sophisticated models are used for complex systems.\n",
        "\n",
        "Example in Molecular Dynamics:\n",
        "In molecular dynamics simulations, the Lennard-Jones potential helps predict how particles move and interact over time. By calculating the LJ potential between pairs of particles, the simulation can determine the forces acting on each particle, allowing their movement to be updated iteratively.\n",
        "\n",
        "For example, in liquid argon, the Lennard-Jones potential captures how individual argon atoms weakly attract at a certain distance, but repel strongly if they come too close, leading to the typical fluid behavior.\n",
        "\n",
        "Would you like a deeper dive into how this is applied in practical simulations or perhaps explore a more detailed chemical application?"
      ],
      "metadata": {
        "id": "H38sOv9JDk_p"
      }
    }
  ]
}