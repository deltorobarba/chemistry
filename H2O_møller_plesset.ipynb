{
  "nbformat": 4,
  "nbformat_minor": 0,
  "metadata": {
    "colab": {
      "provenance": [],
      "authorship_tag": "ABX9TyO1ndsomRYFO0ffUfcPICo5",
      "include_colab_link": true
    },
    "kernelspec": {
      "name": "python3",
      "display_name": "Python 3"
    },
    "language_info": {
      "name": "python"
    }
  },
  "cells": [
    {
      "cell_type": "markdown",
      "metadata": {
        "id": "view-in-github",
        "colab_type": "text"
      },
      "source": [
        "<a href=\"https://colab.research.google.com/github/deltorobarba/chemistry/blob/main/H2O_m%C3%B8ller_plesset.ipynb\" target=\"_parent\"><img src=\"https://colab.research.google.com/assets/colab-badge.svg\" alt=\"Open In Colab\"/></a>"
      ]
    },
    {
      "cell_type": "markdown",
      "source": [
        "# **Water Molecule (H₂O) - Møller-Plesset Perturbation Theory (MPn)**"
      ],
      "metadata": {
        "id": "VVx4DuF00Xk7"
      }
    },
    {
      "cell_type": "code",
      "source": [
        "!pip install pyscf matplotlib -q"
      ],
      "metadata": {
        "id": "ZZfihNQ0OvCH"
      },
      "execution_count": null,
      "outputs": []
    },
    {
      "cell_type": "code",
      "source": [
        "# Møller-Plesset Perturbation Theory (MPn)\n",
        "from pyscf import gto, scf, mp\n",
        "\n",
        "mol = gto.M(\n",
        "    atom = '''\n",
        "    O  0.000000  0.000000  0.000000\n",
        "    H  0.000000  0.757000  0.586000\n",
        "    H  0.000000 -0.757000  0.586000\n",
        "''',\n",
        "    basis = 'cc-pvdz',\n",
        ")\n",
        "mf = scf.RHF(mol)\n",
        "mf.kernel()\n",
        "\n",
        "# MP2 single point energy calculation\n",
        "mp2 = mp.MP2(mf)\n",
        "energy_mp2 = mp2.kernel()\n",
        "print(f\"MP2 energy: {energy_mp2[0]} Hartree\")"
      ],
      "metadata": {
        "colab": {
          "base_uri": "https://localhost:8080/"
        },
        "id": "qYwwGNg-0zTW",
        "outputId": "30911f3d-11c7-4fbc-959b-b817f9816c64"
      },
      "execution_count": null,
      "outputs": [
        {
          "output_type": "stream",
          "name": "stdout",
          "text": [
            "converged SCF energy = -76.0267936449738\n",
            "E(MP2) = -76.2307620085712  E_corr = -0.20396836359741\n",
            "E(SCS-MP2) = -76.226903584503  E_corr = -0.200109939529191\n",
            "MP2 energy: -0.20396836359741044 Hartree\n"
          ]
        }
      ]
    }
  ]
}